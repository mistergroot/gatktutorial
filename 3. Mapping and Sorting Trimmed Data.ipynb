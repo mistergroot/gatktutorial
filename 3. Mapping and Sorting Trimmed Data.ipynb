{
 "cells": [
  {
   "cell_type": "markdown",
   "metadata": {},
   "source": [
    "## 3. Mapping and Sorting Trimmed Data\n",
    "\n",
    "Using [NextGenMap](https://github.com/Cibiv/NextGenMap) for mapping and [Sambamba](https://github.com/biod/sambamba) for sorting. Alternatives are [minimap2](https://github.com/lh3/minimap2) and [samtools](https://github.com/samtools/samtools). Even a quite powerful personal desktop may freeze up or not start running MiniMap2 due to its memory requirements. NextGenMap seems to play better but when dealing with a HPC cluster, either should work fine."
   ]
  },
  {
   "cell_type": "code",
   "execution_count": 2,
   "metadata": {},
   "outputs": [],
   "source": [
    "##conda install -c bioconda nextgenmap"
   ]
  },
  {
   "cell_type": "code",
   "execution_count": 1,
   "metadata": {},
   "outputs": [
    {
     "name": "stdout",
     "output_type": "stream",
     "text": [
      "[MAIN] NextGenMap 0.5.5\n",
      "[MAIN] Startup : x64 (build Jul 15 2018 19:15:59)\n",
      "[MAIN] Starting time: 2018-11-23.22:10:01\n",
      "[CONFIG] Parameter:  --affine 0 --argos_min_score 0 --bin_size 2 --block_multiplier 2 --broken_pairs 0 --bs_cutoff 6 --bs_mapping 0 --cpu_threads 10 --dualstrand 1 --fast 0 --fast_pairing 0 --force_rlength_check 0 --format 1 --gap_extend_penalty 5 --gap_read_penalty 20 --gap_ref_penalty 20 --hard_clip 0 --keep_tags 0 --kmer 13 --kmer_min 0 --kmer_skip 2 --match_bonus 10 --match_bonus_tc 2 --match_bonus_tt 10 --max_cmrs 2147483647 --max_equal 1 --max_insert_size 1000 --max_polya -1 --max_read_length 0 --min_identity 0.650000 --min_insert_size 0 --min_mq 0 --min_residues 0.500000 --min_score 0.000000 --mismatch_penalty 15 --mode 0 --no_progress 0 --no_unal 0 --ocl_threads 1 --output results.sam --overwrite 1 --pair_score_cutoff 0.900000 --paired 1 --parse_all 1 --pe_delimiter / --qry1 out.R1.fq --qry2 out.R2.fq --qry_count -1 --qry_start 0 --ref ./reference-genome/Mmul8.fna.gz --ref_mode -1 --sensitive 0 --silent_clip 0 --skip_mate_check 0 --skip_save 0 --slam_seq 0 --step_count 4 --strata 0 --topn 1 --trim5 0 --update_check 0 --very_fast 0 --very_sensitive 0\n",
      "[NGM] Opening for output (SAM): results.sam\n",
      "[SEQPROV] Reading encoded reference from ./reference-genome/Mmul8.fna.gz-enc.2.ngm\n",
      "[SEQPROV] Reading 3521 Mbp from disk took 15.10s\n",
      "[PREPROCESS] Reading RefTable from ./reference-genome/Mmul8.fna.gz-ht-13-2.3.ngm\n",
      "[PREPROCESS] Reading from disk took 36.00s\n",
      "[PREPROCESS] Max. k-mer frequency set so 1598!\n",
      "[INPUT] Input is paired end data.\n",
      "[INPUT] Opening file out.R1.fq for reading\n",
      "[INPUT] Opening file out.R2.fq for reading\n",
      "[INPUT] File out.R1.fq does not exist!\n",
      "This error is fatal. Quitting...\n",
      "CPU times: user 1.19 s, sys: 144 ms, total: 1.33 s\n",
      "Wall time: 51.7 s\n"
     ]
    }
   ],
   "source": [
    "%time !ngm -r ./reference-genome/Mmul8.fna.gz -1 out.R1.fq -2 out.R2.fq -o results.sam -t 10"
   ]
  },
  {
   "cell_type": "code",
   "execution_count": null,
   "metadata": {},
   "outputs": [],
   "source": [
    "##conda install -c bioconda sambamba"
   ]
  },
  {
   "cell_type": "code",
   "execution_count": null,
   "metadata": {},
   "outputs": [],
   "source": [
    "%time !sambamba view -S -f bam results.sam \\ | sambamba sort -o results.bam /dev/stdin"
   ]
  },
  {
   "cell_type": "code",
   "execution_count": null,
   "metadata": {},
   "outputs": [],
   "source": [
    "%time !sambamba index results.bam"
   ]
  }
 ],
 "metadata": {
  "kernelspec": {
   "display_name": "Python 3",
   "language": "python",
   "name": "python3"
  },
  "language_info": {
   "codemirror_mode": {
    "name": "ipython",
    "version": 3
   },
   "file_extension": ".py",
   "mimetype": "text/x-python",
   "name": "python",
   "nbconvert_exporter": "python",
   "pygments_lexer": "ipython3",
   "version": "3.6.5"
  }
 },
 "nbformat": 4,
 "nbformat_minor": 2
}

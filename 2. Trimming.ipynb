{
 "cells": [
  {
   "cell_type": "markdown",
   "metadata": {},
   "source": [
    "## 2. Trimming fastqs"
   ]
  },
  {
   "cell_type": "markdown",
   "metadata": {},
   "source": [
    "fastp is a brand new fastq preprocessor that is \"2~5 times faster than other FASTQ preprocessing tools like Trimmomatic or Cutadapt\". Automatically finds and trims adapters and quality filters. See [publication](https://academic.oup.com/bioinformatics/article/34/17/i884/5093234) and [documentation](https://github.com/OpenGene/fastp) for more info. "
   ]
  },
  {
   "cell_type": "code",
   "execution_count": 9,
   "metadata": {},
   "outputs": [],
   "source": [
    "##conda install -c bioconda fastp"
   ]
  },
  {
   "cell_type": "markdown",
   "metadata": {},
   "source": [
    "Testing with fastq files from _M. fascicularis_ using default arguments :"
   ]
  },
  {
   "cell_type": "code",
   "execution_count": 25,
   "metadata": {},
   "outputs": [
    {
     "name": "stdout",
     "output_type": "stream",
     "text": [
      "Read1 before filtering:\n",
      "total reads: 80321376\n",
      "total bases: 8032137600\n",
      "Q20 bases: 7654798626(95.3021%)\n",
      "Q30 bases: 7309446820(91.0025%)\n",
      "\n",
      "Read1 after filtering:\n",
      "total reads: 72962893\n",
      "total bases: 7213184580\n",
      "Q20 bases: 7044591066(97.6627%)\n",
      "Q30 bases: 6780244954(93.9979%)\n",
      "\n",
      "Read2 before filtering:\n",
      "total reads: 80321376\n",
      "total bases: 8032137600\n",
      "Q20 bases: 7307674318(90.9804%)\n",
      "Q30 bases: 6860317669(85.4109%)\n",
      "\n",
      "Read2 aftering filtering:\n",
      "total reads: 72962893\n",
      "total bases: 7213184580\n",
      "Q20 bases: 6913349512(95.8432%)\n",
      "Q30 bases: 6531317194(90.5469%)\n",
      "\n",
      "Filtering result:\n",
      "reads passed filter: 145925786\n",
      "reads failed due to low quality: 14716148\n",
      "reads failed due to too many N: 818\n",
      "reads failed due to too short: 0\n",
      "reads with adapter trimmed: 5262882\n",
      "bases trimmed due to adapters: 167009500\n",
      "\n",
      "Duplication rate: 0.864352%\n",
      "\n",
      "Insert size peak (evaluated by paired-end reads): 64\n",
      "\n",
      "JSON report: fastp.json\n",
      "HTML report: fastp.html\n",
      "\n",
      "fastp -i ./fastq/SRR445694~125200.sra_1.fastq -I ./fastq/SRR445694~125200.sra_2.fastq -o out.R1.fq.gz -O out.R2.fq.gz \n",
      "fastp v0.19.5, time used: 824 seconds\n",
      "CPU times: user 17.1 s, sys: 6.8 s, total: 23.9 s\n",
      "Wall time: 13min 43s\n"
     ]
    }
   ],
   "source": [
    "%time !fastp -i ./fastq/SRR445694~125200.sra_1.fastq -I ./fastq/SRR445694~125200.sra_2.fastq -o out.R1.fq.gz -O out.R2.fq.gz"
   ]
  },
  {
   "cell_type": "code",
   "execution_count": 34,
   "metadata": {},
   "outputs": [
    {
     "data": {
      "text/plain": [
       "True"
      ]
     },
     "execution_count": 34,
     "metadata": {},
     "output_type": "execute_result"
    }
   ],
   "source": [
    "import webbrowser\n",
    "webbrowser.open(\"fastp.html\") ##view results of fastp "
   ]
  },
  {
   "cell_type": "markdown",
   "metadata": {},
   "source": [
    "[AdapterRemoval](https://adapterremoval.readthedocs.io/en/latest/index.html) is an alternative but is a bit slower. "
   ]
  },
  {
   "cell_type": "code",
   "execution_count": 33,
   "metadata": {},
   "outputs": [],
   "source": [
    "##conda install -c maxibor adapterremoval2"
   ]
  },
  {
   "cell_type": "code",
   "execution_count": 26,
   "metadata": {},
   "outputs": [
    {
     "name": "stdout",
     "output_type": "stream",
     "text": [
      "Attempting to identify adapter sequences ...\n",
      "Opening FASTQ file './fastq/SRR445694~125200.sra_1.fastq'\n",
      "Opening FASTQ file './fastq/SRR445694~125200.sra_2.fastq'\n",
      "Processed a total of 160,642,752 reads in 19:07.8s; 139,000 reads per second on average ...\n",
      "   Found 18149208 overlapping pairs ...\n",
      "   Of which 3148466 contained adapter sequence(s) ...\n",
      "\n",
      "Printing adapter sequences, including poly-A tails:\n",
      "  --adapter1:  AGATCGGAAGAGCACACGTCTGAACTCCAGTCACNNNNNNATCTCGTATGCCGTCTTCTGCTTG\n",
      "               |||||||||||||                     ******   |     | | ||| ||     \n",
      "   Consensus:  AGATCGGAAGAGCGGTTCAGCAGGAATGCCGAGACCGATATCGTATGCCGTCTTCTGCTTGAAAAAAAAAAAAAAAAAATAAAAAAAAA\n",
      "     Quality:  #\"##\"\"\"##\"#\"\"\"\"##\"#\"\"#\"\"###\"\"\"\"#\"#\"\"\"#\"\"#\"\"###\"\"\"\"#\"##\"#\"\"##\"#######\"\"\"\"\"\"\"\"\"\"\"\"\"\"\"\"\"\"\"\"\"\n",
      "\n",
      "    Top 5 most common 9-bp 5'-kmers:\n",
      "            1: AGATCGGAA = 16.32% (446887)\n",
      "            2: CTGTAACTC =  0.84% (22960)\n",
      "            3: CTGTGAGAT =  0.39% (10560)\n",
      "            4: CTGAGAAAC =  0.37% (10056)\n",
      "            5: CTTAGTGTT =  0.30% (8331)\n",
      "\n",
      "\n",
      "  --adapter2:  AGATCGGAAGAGCGTCGTGTAGGGAAAGAGTGTAGATCTCGGTGGTCGCCGTATCATT\n",
      "               ||||||||||||||||||||||||||||||||||||||||||||||||||||||||||\n",
      "   Consensus:  AGATCGGAAGAGCGTCGTGTAGGGAAAGAGTGTAGATCTCGGTGGTCGCCGTATCATTAAAAAAAAAAAAAAAAAATATATTAAAAAAA\n",
      "     Quality:  #\"##\"\"###\"#\"\"\"#\"\"#\"##\"\"\"###\"#\"\"\"##\"##\"#\"\"\"#\"\"\"\"\"\"\"\"\"##\"###########\"\"\"\"\"\"\"\"\"\"\"\"\"\"\"\"\"\"\"\"\"\"\"\n",
      "\n",
      "    Top 5 most common 9-bp 5'-kmers:\n",
      "            1: AGATCGGAA = 16.01% (437331)\n",
      "            2: CTGTAACTC =  0.74% (20318)\n",
      "            3: CTGTGAGAT =  0.35% (9644)\n",
      "            4: CTGAGAAAC =  0.33% (9123)\n",
      "            5: CTTAGTGTT =  0.30% (8126)\n",
      "CPU times: user 26.1 s, sys: 10 s, total: 36.1 s\n",
      "Wall time: 19min 7s\n"
     ]
    }
   ],
   "source": [
    "%time !AdapterRemoval --identify-adapters --file1 ./fastq/SRR445694~125200.sra_1.fastq --file2 ./fastq/SRR445694~125200.sra_2.fastq\n",
    "##19 mins to just identify adapters"
   ]
  }
 ],
 "metadata": {
  "kernelspec": {
   "display_name": "Python 3",
   "language": "python",
   "name": "python3"
  },
  "language_info": {
   "codemirror_mode": {
    "name": "ipython",
    "version": 3
   },
   "file_extension": ".py",
   "mimetype": "text/x-python",
   "name": "python",
   "nbconvert_exporter": "python",
   "pygments_lexer": "ipython3",
   "version": "3.6.5"
  }
 },
 "nbformat": 4,
 "nbformat_minor": 2
}

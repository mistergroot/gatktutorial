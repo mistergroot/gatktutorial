{
 "cells": [
  {
   "cell_type": "markdown",
   "metadata": {},
   "source": [
    "# Notebook 2: Download shotgun SRA data\n",
    "\n",
    "In this notebook you can find the names, source location, and code used to download shotgun sequence data to map to the reference genome. "
   ]
  },
  {
   "cell_type": "code",
   "execution_count": 11,
   "metadata": {},
   "outputs": [
    {
     "name": "stdout",
     "output_type": "stream",
     "text": [
      "Obtaining file:///home/nickpichome/PDSB/Macaca/ipyrad\n",
      "Requirement already satisfied: notebook in /home/nickpichome/miniconda3/lib/python3.6/site-packages (from ipyrad==0.8.0.dev0) (5.7.0)\n",
      "Requirement already satisfied: ipyparallel>=6.0.2 in /home/nickpichome/miniconda3/lib/python3.6/site-packages (from ipyrad==0.8.0.dev0) (6.2.3)\n",
      "Requirement already satisfied: scipy>0.10 in /home/nickpichome/miniconda3/lib/python3.6/site-packages (from ipyrad==0.8.0.dev0) (1.1.0)\n",
      "Requirement already satisfied: numpy>=1.9 in /home/nickpichome/miniconda3/lib/python3.6/site-packages (from ipyrad==0.8.0.dev0) (1.15.0)\n",
      "Requirement already satisfied: numba>=0.37 in /home/nickpichome/miniconda3/lib/python3.6/site-packages (from ipyrad==0.8.0.dev0) (0.40.1)\n",
      "Requirement already satisfied: pandas>=0.16 in /home/nickpichome/miniconda3/lib/python3.6/site-packages (from ipyrad==0.8.0.dev0) (0.23.4)\n",
      "Requirement already satisfied: pysam>=0.10.0 in /home/nickpichome/miniconda3/lib/python3.6/site-packages (from ipyrad==0.8.0.dev0) (0.15.1)\n",
      "Requirement already satisfied: h5py in /home/nickpichome/miniconda3/lib/python3.6/site-packages (from ipyrad==0.8.0.dev0) (2.8.0)\n",
      "Requirement already satisfied: mpi4py in /home/nickpichome/miniconda3/lib/python3.6/site-packages (from ipyrad==0.8.0.dev0) (3.0.0)\n",
      "Requirement already satisfied: cutadapt in /home/nickpichome/miniconda3/lib/python3.6/site-packages (from ipyrad==0.8.0.dev0) (1.18)\n",
      "Requirement already satisfied: toytree in /home/nickpichome/miniconda3/lib/python3.6/site-packages (from ipyrad==0.8.0.dev0) (0.1.18)\n",
      "Requirement already satisfied: requests in /home/nickpichome/miniconda3/lib/python3.6/site-packages (from ipyrad==0.8.0.dev0) (2.18.4)\n",
      "Requirement already satisfied: jinja2 in /home/nickpichome/miniconda3/lib/python3.6/site-packages (from notebook->ipyrad==0.8.0.dev0) (2.10)\n",
      "Requirement already satisfied: tornado>=4 in /home/nickpichome/miniconda3/lib/python3.6/site-packages (from notebook->ipyrad==0.8.0.dev0) (5.0.2)\n",
      "Requirement already satisfied: pyzmq>=17 in /home/nickpichome/miniconda3/lib/python3.6/site-packages (from notebook->ipyrad==0.8.0.dev0) (17.0.0)\n",
      "Requirement already satisfied: ipython_genutils in /home/nickpichome/miniconda3/lib/python3.6/site-packages (from notebook->ipyrad==0.8.0.dev0) (0.2.0)\n",
      "Requirement already satisfied: traitlets>=4.2.1 in /home/nickpichome/miniconda3/lib/python3.6/site-packages (from notebook->ipyrad==0.8.0.dev0) (4.3.2)\n",
      "Requirement already satisfied: jupyter_core>=4.4.0 in /home/nickpichome/miniconda3/lib/python3.6/site-packages (from notebook->ipyrad==0.8.0.dev0) (4.4.0)\n",
      "Requirement already satisfied: jupyter_client>=5.2.0 in /home/nickpichome/miniconda3/lib/python3.6/site-packages (from notebook->ipyrad==0.8.0.dev0) (5.2.3)\n",
      "Requirement already satisfied: nbformat in /home/nickpichome/miniconda3/lib/python3.6/site-packages (from notebook->ipyrad==0.8.0.dev0) (4.4.0)\n",
      "Requirement already satisfied: nbconvert in /home/nickpichome/miniconda3/lib/python3.6/site-packages (from notebook->ipyrad==0.8.0.dev0) (5.3.1)\n",
      "Requirement already satisfied: ipykernel in /home/nickpichome/miniconda3/lib/python3.6/site-packages (from notebook->ipyrad==0.8.0.dev0) (4.8.2)\n",
      "Requirement already satisfied: Send2Trash in /home/nickpichome/miniconda3/lib/python3.6/site-packages (from notebook->ipyrad==0.8.0.dev0) (1.5.0)\n",
      "Requirement already satisfied: terminado>=0.8.1 in /home/nickpichome/miniconda3/lib/python3.6/site-packages (from notebook->ipyrad==0.8.0.dev0) (0.8.1)\n",
      "Requirement already satisfied: prometheus_client in /home/nickpichome/miniconda3/lib/python3.6/site-packages (from notebook->ipyrad==0.8.0.dev0) (0.4.2)\n",
      "Requirement already satisfied: decorator in /home/nickpichome/miniconda3/lib/python3.6/site-packages (from ipyparallel>=6.0.2->ipyrad==0.8.0.dev0) (4.3.0)\n",
      "Requirement already satisfied: ipython>=4 in /home/nickpichome/miniconda3/lib/python3.6/site-packages (from ipyparallel>=6.0.2->ipyrad==0.8.0.dev0) (7.1.1)\n",
      "Requirement already satisfied: python-dateutil>=2.1 in /home/nickpichome/miniconda3/lib/python3.6/site-packages (from ipyparallel>=6.0.2->ipyrad==0.8.0.dev0) (2.7.2)\n",
      "Requirement already satisfied: llvmlite>=0.25.0dev0 in /home/nickpichome/miniconda3/lib/python3.6/site-packages (from numba>=0.37->ipyrad==0.8.0.dev0) (0.25.0)\n",
      "Requirement already satisfied: pytz>=2011k in /home/nickpichome/miniconda3/lib/python3.6/site-packages (from pandas>=0.16->ipyrad==0.8.0.dev0) (2018.5)\n",
      "Requirement already satisfied: six in /home/nickpichome/miniconda3/lib/python3.6/site-packages (from h5py->ipyrad==0.8.0.dev0) (1.11.0)\n",
      "Requirement already satisfied: xopen>=0.3.2 in /home/nickpichome/miniconda3/lib/python3.6/site-packages (from cutadapt->ipyrad==0.8.0.dev0) (0.3.5)\n",
      "Requirement already satisfied: toyplot>=0.17.0 in /home/nickpichome/miniconda3/lib/python3.6/site-packages (from toytree->ipyrad==0.8.0.dev0) (0.17.0)\n",
      "Requirement already satisfied: future in /home/nickpichome/miniconda3/lib/python3.6/site-packages (from toytree->ipyrad==0.8.0.dev0) (0.17.1)\n",
      "Requirement already satisfied: chardet<3.1.0,>=3.0.2 in /home/nickpichome/miniconda3/lib/python3.6/site-packages (from requests->ipyrad==0.8.0.dev0) (3.0.4)\n",
      "Requirement already satisfied: idna<2.7,>=2.5 in /home/nickpichome/miniconda3/lib/python3.6/site-packages (from requests->ipyrad==0.8.0.dev0) (2.6)\n",
      "Requirement already satisfied: urllib3<1.23,>=1.21.1 in /home/nickpichome/miniconda3/lib/python3.6/site-packages (from requests->ipyrad==0.8.0.dev0) (1.22)\n",
      "Requirement already satisfied: certifi>=2017.4.17 in /home/nickpichome/miniconda3/lib/python3.6/site-packages (from requests->ipyrad==0.8.0.dev0) (2018.10.15)\n",
      "Requirement already satisfied: MarkupSafe>=0.23 in /home/nickpichome/miniconda3/lib/python3.6/site-packages (from jinja2->notebook->ipyrad==0.8.0.dev0) (1.0)\n",
      "Requirement already satisfied: jsonschema!=2.5.0,>=2.4 in /home/nickpichome/miniconda3/lib/python3.6/site-packages (from nbformat->notebook->ipyrad==0.8.0.dev0) (2.6.0)\n",
      "Requirement already satisfied: mistune>=0.7.4 in /home/nickpichome/miniconda3/lib/python3.6/site-packages (from nbconvert->notebook->ipyrad==0.8.0.dev0) (0.8.3)\n",
      "Requirement already satisfied: pygments in /home/nickpichome/miniconda3/lib/python3.6/site-packages (from nbconvert->notebook->ipyrad==0.8.0.dev0) (2.2.0)\n",
      "Requirement already satisfied: entrypoints>=0.2.2 in /home/nickpichome/miniconda3/lib/python3.6/site-packages (from nbconvert->notebook->ipyrad==0.8.0.dev0) (0.2.3)\n",
      "Requirement already satisfied: bleach in /home/nickpichome/miniconda3/lib/python3.6/site-packages (from nbconvert->notebook->ipyrad==0.8.0.dev0) (2.1.3)\n",
      "Requirement already satisfied: pandocfilters>=1.4.1 in /home/nickpichome/miniconda3/lib/python3.6/site-packages (from nbconvert->notebook->ipyrad==0.8.0.dev0) (1.4.2)\n",
      "Requirement already satisfied: testpath in /home/nickpichome/miniconda3/lib/python3.6/site-packages (from nbconvert->notebook->ipyrad==0.8.0.dev0) (0.3.1)\n",
      "Requirement already satisfied: setuptools>=18.5 in /home/nickpichome/miniconda3/lib/python3.6/site-packages (from ipython>=4->ipyparallel>=6.0.2->ipyrad==0.8.0.dev0) (39.0.1)\n",
      "Requirement already satisfied: jedi>=0.10 in /home/nickpichome/miniconda3/lib/python3.6/site-packages (from ipython>=4->ipyparallel>=6.0.2->ipyrad==0.8.0.dev0) (0.12.0)\n",
      "Requirement already satisfied: pickleshare in /home/nickpichome/miniconda3/lib/python3.6/site-packages (from ipython>=4->ipyparallel>=6.0.2->ipyrad==0.8.0.dev0) (0.7.4)\n",
      "Requirement already satisfied: prompt_toolkit<2.1.0,>=2.0.0 in /home/nickpichome/miniconda3/lib/python3.6/site-packages (from ipython>=4->ipyparallel>=6.0.2->ipyrad==0.8.0.dev0) (2.0.7)\n",
      "Requirement already satisfied: backcall in /home/nickpichome/miniconda3/lib/python3.6/site-packages (from ipython>=4->ipyparallel>=6.0.2->ipyrad==0.8.0.dev0) (0.1.0)\n",
      "Requirement already satisfied: pexpect in /home/nickpichome/miniconda3/lib/python3.6/site-packages (from ipython>=4->ipyparallel>=6.0.2->ipyrad==0.8.0.dev0) (4.5.0)\n",
      "Requirement already satisfied: pypng in /home/nickpichome/miniconda3/lib/python3.6/site-packages (from toyplot>=0.17.0->toytree->ipyrad==0.8.0.dev0) (0.0.18)\n",
      "Requirement already satisfied: custom-inherit in /home/nickpichome/miniconda3/lib/python3.6/site-packages (from toyplot>=0.17.0->toytree->ipyrad==0.8.0.dev0) (2.2.0)\n",
      "Requirement already satisfied: multipledispatch in /home/nickpichome/miniconda3/lib/python3.6/site-packages (from toyplot>=0.17.0->toytree->ipyrad==0.8.0.dev0) (0.6.0)\n",
      "Requirement already satisfied: arrow in /home/nickpichome/miniconda3/lib/python3.6/site-packages (from toyplot>=0.17.0->toytree->ipyrad==0.8.0.dev0) (0.12.1)\n",
      "Requirement already satisfied: reportlab in /home/nickpichome/miniconda3/lib/python3.6/site-packages (from toyplot>=0.17.0->toytree->ipyrad==0.8.0.dev0) (3.5.9)\n",
      "Requirement already satisfied: html5lib!=1.0b1,!=1.0b2,!=1.0b3,!=1.0b4,!=1.0b5,!=1.0b6,!=1.0b7,!=1.0b8,>=0.99999999pre in /home/nickpichome/miniconda3/lib/python3.6/site-packages (from bleach->nbconvert->notebook->ipyrad==0.8.0.dev0) (1.0.1)\n",
      "Requirement already satisfied: parso>=0.2.0 in /home/nickpichome/miniconda3/lib/python3.6/site-packages (from jedi>=0.10->ipython>=4->ipyparallel>=6.0.2->ipyrad==0.8.0.dev0) (0.2.0)\n",
      "Requirement already satisfied: wcwidth in /home/nickpichome/miniconda3/lib/python3.6/site-packages (from prompt_toolkit<2.1.0,>=2.0.0->ipython>=4->ipyparallel>=6.0.2->ipyrad==0.8.0.dev0) (0.1.7)\n",
      "Requirement already satisfied: ptyprocess>=0.5 in /home/nickpichome/miniconda3/lib/python3.6/site-packages (from pexpect->ipython>=4->ipyparallel>=6.0.2->ipyrad==0.8.0.dev0) (0.5.2)\n",
      "Requirement already satisfied: pillow>=4.0.0 in /home/nickpichome/miniconda3/lib/python3.6/site-packages (from reportlab->toyplot>=0.17.0->toytree->ipyrad==0.8.0.dev0) (5.0.0)\n",
      "Requirement already satisfied: webencodings in /home/nickpichome/miniconda3/lib/python3.6/site-packages (from html5lib!=1.0b1,!=1.0b2,!=1.0b3,!=1.0b4,!=1.0b5,!=1.0b6,!=1.0b7,!=1.0b8,>=0.99999999pre->bleach->nbconvert->notebook->ipyrad==0.8.0.dev0) (0.5.1)\n",
      "Installing collected packages: ipyrad\n",
      "  Found existing installation: ipyrad 0.8.0.dev0\n",
      "    Uninstalling ipyrad-0.8.0.dev0:\n",
      "      Successfully uninstalled ipyrad-0.8.0.dev0\n",
      "  Running setup.py develop for ipyrad\n",
      "Successfully installed ipyrad\n"
     ]
    },
    {
     "name": "stderr",
     "output_type": "stream",
     "text": [
      "Cloning into 'ipyrad'...\n"
     ]
    }
   ],
   "source": [
    "##%%bash\n",
    "##git clone -b hotfix --single-branch https://github.com/dereneaton/ipyrad.git\n",
    "##cd ipyrad/\n",
    "##pip install -e ."
   ]
  },
  {
   "cell_type": "code",
   "execution_count": 11,
   "metadata": {},
   "outputs": [],
   "source": [
    "import pandas as pd\n",
    "import numpy as np\n",
    "import ipyrad.analysis as ipa"
   ]
  },
  {
   "cell_type": "markdown",
   "metadata": {},
   "source": [
    "### Parallel Client"
   ]
  },
  {
   "cell_type": "code",
   "execution_count": 3,
   "metadata": {},
   "outputs": [
    {
     "name": "stdout",
     "output_type": "stream",
     "text": [
      "Process is terminated.\n"
     ]
    }
   ],
   "source": [
    "%%bash\n",
    "ipcluster start"
   ]
  },
  {
   "cell_type": "code",
   "execution_count": 12,
   "metadata": {},
   "outputs": [],
   "source": [
    "import ipyparallel as ipp"
   ]
  },
  {
   "cell_type": "code",
   "execution_count": 8,
   "metadata": {},
   "outputs": [],
   "source": [
    "ipyclient = ipp.Client()"
   ]
  },
  {
   "cell_type": "markdown",
   "metadata": {},
   "source": [
    "### Sampling table"
   ]
  },
  {
   "cell_type": "code",
   "execution_count": 23,
   "metadata": {},
   "outputs": [
    {
     "data": {
      "text/html": [
       "<div>\n",
       "<style scoped>\n",
       "    .dataframe tbody tr th:only-of-type {\n",
       "        vertical-align: middle;\n",
       "    }\n",
       "\n",
       "    .dataframe tbody tr th {\n",
       "        vertical-align: top;\n",
       "    }\n",
       "\n",
       "    .dataframe thead th {\n",
       "        text-align: right;\n",
       "    }\n",
       "</style>\n",
       "<table border=\"1\" class=\"dataframe\">\n",
       "  <thead>\n",
       "    <tr style=\"text-align: right;\">\n",
       "      <th></th>\n",
       "      <th>Species</th>\n",
       "      <th>Group</th>\n",
       "      <th>BioSample</th>\n",
       "      <th>Sample</th>\n",
       "      <th>Study</th>\n",
       "      <th>PRJ</th>\n",
       "    </tr>\n",
       "  </thead>\n",
       "  <tbody>\n",
       "    <tr>\n",
       "      <th>0</th>\n",
       "      <td>Macaca mulatta (reference)</td>\n",
       "      <td>mulatta</td>\n",
       "      <td>SAMN07305139</td>\n",
       "      <td>SRP103539</td>\n",
       "      <td>SRP103539</td>\n",
       "      <td>PRJNA382404</td>\n",
       "    </tr>\n",
       "    <tr>\n",
       "      <th>1</th>\n",
       "      <td>Macaca mulatta (Chinese)</td>\n",
       "      <td>mulatta</td>\n",
       "      <td>SAMN05883701</td>\n",
       "      <td>SRS1762028</td>\n",
       "      <td>SRP092140</td>\n",
       "      <td>PRJNA345528</td>\n",
       "    </tr>\n",
       "    <tr>\n",
       "      <th>2</th>\n",
       "      <td>Macaca fascicularis</td>\n",
       "      <td>mulatta</td>\n",
       "      <td>SAMN00811240</td>\n",
       "      <td>SRS300124</td>\n",
       "      <td>SRP011089</td>\n",
       "      <td>PRJNA20409</td>\n",
       "    </tr>\n",
       "    <tr>\n",
       "      <th>3</th>\n",
       "      <td>Macaca fuscata</td>\n",
       "      <td>mulatta</td>\n",
       "      <td>SAMD00011919</td>\n",
       "      <td>DRS001583</td>\n",
       "      <td>DRP000620</td>\n",
       "      <td>PRJDB2459</td>\n",
       "    </tr>\n",
       "    <tr>\n",
       "      <th>4</th>\n",
       "      <td>Macaca thibethana</td>\n",
       "      <td>sinica</td>\n",
       "      <td>SAMN02390221</td>\n",
       "      <td>SRS498543</td>\n",
       "      <td>SRP032525</td>\n",
       "      <td>PRJNA226187</td>\n",
       "    </tr>\n",
       "    <tr>\n",
       "      <th>5</th>\n",
       "      <td>Macaca assamensis</td>\n",
       "      <td>sinica</td>\n",
       "      <td>SAMN04316321</td>\n",
       "      <td>SRS1196892</td>\n",
       "      <td>SRP067118</td>\n",
       "      <td>PRJNA305009</td>\n",
       "    </tr>\n",
       "    <tr>\n",
       "      <th>6</th>\n",
       "      <td>Macaca arctoides</td>\n",
       "      <td>sinica</td>\n",
       "      <td>SAMN04316319</td>\n",
       "      <td>SRS1196879</td>\n",
       "      <td>SRP067118</td>\n",
       "      <td>PRJNA305009</td>\n",
       "    </tr>\n",
       "    <tr>\n",
       "      <th>7</th>\n",
       "      <td>Macaca nemestrina</td>\n",
       "      <td>nemestrina</td>\n",
       "      <td>SAMN07503410</td>\n",
       "      <td>SRS2436621</td>\n",
       "      <td>SRP115775</td>\n",
       "      <td>PRJNA398198</td>\n",
       "    </tr>\n",
       "    <tr>\n",
       "      <th>8</th>\n",
       "      <td>Macaca tonkeana</td>\n",
       "      <td>nemestrina</td>\n",
       "      <td>SAMN07503429</td>\n",
       "      <td>SRS2441459</td>\n",
       "      <td>SRP115775</td>\n",
       "      <td>PRJNA398198</td>\n",
       "    </tr>\n",
       "    <tr>\n",
       "      <th>9</th>\n",
       "      <td>Macaca nigra</td>\n",
       "      <td>nemestrina</td>\n",
       "      <td>SAMN07503430</td>\n",
       "      <td>SRS2436633</td>\n",
       "      <td>SRP115775</td>\n",
       "      <td>PRJNA398198</td>\n",
       "    </tr>\n",
       "    <tr>\n",
       "      <th>10</th>\n",
       "      <td>Macaca sylvanus</td>\n",
       "      <td>sylvanus</td>\n",
       "      <td>NaN</td>\n",
       "      <td>NaN</td>\n",
       "      <td>NaN</td>\n",
       "      <td>NaN</td>\n",
       "    </tr>\n",
       "    <tr>\n",
       "      <th>11</th>\n",
       "      <td>Macaca silenus</td>\n",
       "      <td>nemestrina</td>\n",
       "      <td>NaN</td>\n",
       "      <td>NaN</td>\n",
       "      <td>NaN</td>\n",
       "      <td>NaN</td>\n",
       "    </tr>\n",
       "    <tr>\n",
       "      <th>12</th>\n",
       "      <td>Papio anubis</td>\n",
       "      <td>NaN</td>\n",
       "      <td>SAMN03073708</td>\n",
       "      <td>SRS742664</td>\n",
       "      <td>SRP026666</td>\n",
       "      <td>PRJNA54005</td>\n",
       "    </tr>\n",
       "  </tbody>\n",
       "</table>\n",
       "</div>"
      ],
      "text/plain": [
       "                       Species       Group      BioSample      Sample  \\\n",
       "0   Macaca mulatta (reference)     mulatta  SAMN07305139   SRP103539    \n",
       "1     Macaca mulatta (Chinese)     mulatta   SAMN05883701  SRS1762028   \n",
       "2          Macaca fascicularis     mulatta   SAMN00811240   SRS300124   \n",
       "3               Macaca fuscata     mulatta   SAMD00011919   DRS001583   \n",
       "4            Macaca thibethana      sinica   SAMN02390221   SRS498543   \n",
       "5            Macaca assamensis      sinica   SAMN04316321  SRS1196892   \n",
       "6             Macaca arctoides      sinica   SAMN04316319  SRS1196879   \n",
       "7            Macaca nemestrina  nemestrina   SAMN07503410  SRS2436621   \n",
       "8              Macaca tonkeana  nemestrina   SAMN07503429  SRS2441459   \n",
       "9                 Macaca nigra  nemestrina   SAMN07503430  SRS2436633   \n",
       "10             Macaca sylvanus    sylvanus            NaN         NaN   \n",
       "11              Macaca silenus  nemestrina            NaN         NaN   \n",
       "12                Papio anubis         NaN   SAMN03073708   SRS742664   \n",
       "\n",
       "         Study          PRJ  \n",
       "0    SRP103539  PRJNA382404  \n",
       "1    SRP092140  PRJNA345528  \n",
       "2   SRP011089    PRJNA20409  \n",
       "3    DRP000620    PRJDB2459  \n",
       "4    SRP032525  PRJNA226187  \n",
       "5    SRP067118  PRJNA305009  \n",
       "6    SRP067118  PRJNA305009  \n",
       "7    SRP115775  PRJNA398198  \n",
       "8    SRP115775  PRJNA398198  \n",
       "9    SRP115775  PRJNA398198  \n",
       "10         NaN          NaN  \n",
       "11         NaN          NaN  \n",
       "12   SRP026666   PRJNA54005  "
      ]
     },
     "execution_count": 23,
     "metadata": {},
     "output_type": "execute_result"
    }
   ],
   "source": [
    "# load in table and print\n",
    "df = pd.read_csv(\"./data/SRA-table.csv\")\n",
    "df[[\"Species\", \"Group\", \"BioSample\", \"Sample\", \"Study\", \"PRJ\"]]\n"
   ]
  },
  {
   "cell_type": "markdown",
   "metadata": {},
   "source": [
    "# Query NCBI and download run files\n",
    "To select the best Sample from each Study and get the run IDS (SRR). "
   ]
  },
  {
   "cell_type": "markdown",
   "metadata": {},
   "source": [
    "### *Macaca mulatta* (Chinese)"
   ]
  },
  {
   "cell_type": "code",
   "execution_count": 13,
   "metadata": {},
   "outputs": [
    {
     "name": "stdout",
     "output_type": "stream",
     "text": [
      "\r",
      "Fetching project data..."
     ]
    },
    {
     "data": {
      "text/html": [
       "<div>\n",
       "<style scoped>\n",
       "    .dataframe tbody tr th:only-of-type {\n",
       "        vertical-align: middle;\n",
       "    }\n",
       "\n",
       "    .dataframe tbody tr th {\n",
       "        vertical-align: top;\n",
       "    }\n",
       "\n",
       "    .dataframe thead th {\n",
       "        text-align: right;\n",
       "    }\n",
       "</style>\n",
       "<table border=\"1\" class=\"dataframe\">\n",
       "  <thead>\n",
       "    <tr style=\"text-align: right;\">\n",
       "      <th></th>\n",
       "      <th>Run</th>\n",
       "      <th>spots</th>\n",
       "      <th>spots_with_mates</th>\n",
       "      <th>avgLength</th>\n",
       "      <th>Sample</th>\n",
       "      <th>TaxID</th>\n",
       "      <th>ScientificName</th>\n",
       "      <th>SampleName</th>\n",
       "      <th>Sex</th>\n",
       "    </tr>\n",
       "  </thead>\n",
       "  <tbody>\n",
       "    <tr>\n",
       "      <th>20</th>\n",
       "      <td>SRR4454031</td>\n",
       "      <td>91947333</td>\n",
       "      <td>91947333</td>\n",
       "      <td>200</td>\n",
       "      <td>SRS1762020</td>\n",
       "      <td>9544</td>\n",
       "      <td>Macaca mulatta</td>\n",
       "      <td>M13</td>\n",
       "      <td>missing</td>\n",
       "    </tr>\n",
       "    <tr>\n",
       "      <th>6</th>\n",
       "      <td>SRR4454029</td>\n",
       "      <td>83943423</td>\n",
       "      <td>83943423</td>\n",
       "      <td>200</td>\n",
       "      <td>SRS1762018</td>\n",
       "      <td>9544</td>\n",
       "      <td>Macaca mulatta</td>\n",
       "      <td>M11</td>\n",
       "      <td>missing</td>\n",
       "    </tr>\n",
       "    <tr>\n",
       "      <th>14</th>\n",
       "      <td>SRR4454030</td>\n",
       "      <td>68556063</td>\n",
       "      <td>68556063</td>\n",
       "      <td>200</td>\n",
       "      <td>SRS1762019</td>\n",
       "      <td>9544</td>\n",
       "      <td>Macaca mulatta</td>\n",
       "      <td>M12</td>\n",
       "      <td>missing</td>\n",
       "    </tr>\n",
       "    <tr>\n",
       "      <th>21</th>\n",
       "      <td>SRR5009874</td>\n",
       "      <td>57066114</td>\n",
       "      <td>57066114</td>\n",
       "      <td>200</td>\n",
       "      <td>SRS1762020</td>\n",
       "      <td>9544</td>\n",
       "      <td>Macaca mulatta</td>\n",
       "      <td>M13</td>\n",
       "      <td>missing</td>\n",
       "    </tr>\n",
       "    <tr>\n",
       "      <th>13</th>\n",
       "      <td>SRR5009873</td>\n",
       "      <td>46149740</td>\n",
       "      <td>46149740</td>\n",
       "      <td>200</td>\n",
       "      <td>SRS1762019</td>\n",
       "      <td>9544</td>\n",
       "      <td>Macaca mulatta</td>\n",
       "      <td>M12</td>\n",
       "      <td>missing</td>\n",
       "    </tr>\n",
       "  </tbody>\n",
       "</table>\n",
       "</div>"
      ],
      "text/plain": [
       "           Run     spots spots_with_mates avgLength      Sample TaxID  \\\n",
       "20  SRR4454031  91947333         91947333       200  SRS1762020  9544   \n",
       "6   SRR4454029  83943423         83943423       200  SRS1762018  9544   \n",
       "14  SRR4454030  68556063         68556063       200  SRS1762019  9544   \n",
       "21  SRR5009874  57066114         57066114       200  SRS1762020  9544   \n",
       "13  SRR5009873  46149740         46149740       200  SRS1762019  9544   \n",
       "\n",
       "    ScientificName SampleName      Sex  \n",
       "20  Macaca mulatta        M13  missing  \n",
       "6   Macaca mulatta        M11  missing  \n",
       "14  Macaca mulatta        M12  missing  \n",
       "21  Macaca mulatta        M13  missing  \n",
       "13  Macaca mulatta        M12  missing  "
      ]
     },
     "execution_count": 13,
     "metadata": {},
     "output_type": "execute_result"
    }
   ],
   "source": [
    "sra = ipa.sratools(\"SRP092140\")\n",
    "df = sra.fetch_runinfo([1,4,6,7,25,28,29,30,35])\n",
    "df.sort_values(by=\"spots\", ascending=False).head()"
   ]
  },
  {
   "cell_type": "code",
   "execution_count": 83,
   "metadata": {},
   "outputs": [],
   "source": [
    "candidates=['SRR4454031']"
   ]
  },
  {
   "cell_type": "markdown",
   "metadata": {},
   "source": [
    "### _Macaca fuscata_"
   ]
  },
  {
   "cell_type": "code",
   "execution_count": 81,
   "metadata": {},
   "outputs": [
    {
     "name": "stdout",
     "output_type": "stream",
     "text": [
      "\r",
      "Fetching project data..."
     ]
    },
    {
     "data": {
      "text/html": [
       "<div>\n",
       "<style scoped>\n",
       "    .dataframe tbody tr th:only-of-type {\n",
       "        vertical-align: middle;\n",
       "    }\n",
       "\n",
       "    .dataframe tbody tr th {\n",
       "        vertical-align: top;\n",
       "    }\n",
       "\n",
       "    .dataframe thead th {\n",
       "        text-align: right;\n",
       "    }\n",
       "</style>\n",
       "<table border=\"1\" class=\"dataframe\">\n",
       "  <thead>\n",
       "    <tr style=\"text-align: right;\">\n",
       "      <th></th>\n",
       "      <th>Run</th>\n",
       "      <th>spots</th>\n",
       "      <th>spots_with_mates</th>\n",
       "      <th>avgLength</th>\n",
       "      <th>Sample</th>\n",
       "      <th>TaxID</th>\n",
       "      <th>ScientificName</th>\n",
       "      <th>SampleName</th>\n",
       "      <th>Sex</th>\n",
       "    </tr>\n",
       "  </thead>\n",
       "  <tbody>\n",
       "    <tr>\n",
       "      <th>1</th>\n",
       "      <td>DRR002233</td>\n",
       "      <td>718652919</td>\n",
       "      <td>718652919</td>\n",
       "      <td>202</td>\n",
       "      <td></td>\n",
       "      <td>SAMD00011919</td>\n",
       "      <td>simple</td>\n",
       "      <td>9543</td>\n",
       "      <td></td>\n",
       "    </tr>\n",
       "    <tr>\n",
       "      <th>0</th>\n",
       "      <td>DRR002234</td>\n",
       "      <td>705594888</td>\n",
       "      <td>705594888</td>\n",
       "      <td>202</td>\n",
       "      <td></td>\n",
       "      <td>SAMD00011919</td>\n",
       "      <td>simple</td>\n",
       "      <td>9543</td>\n",
       "      <td></td>\n",
       "    </tr>\n",
       "  </tbody>\n",
       "</table>\n",
       "</div>"
      ],
      "text/plain": [
       "         Run      spots spots_with_mates avgLength Sample         TaxID  \\\n",
       "1  DRR002233  718652919        718652919       202         SAMD00011919   \n",
       "0  DRR002234  705594888        705594888       202         SAMD00011919   \n",
       "\n",
       "  ScientificName SampleName Sex  \n",
       "1         simple       9543      \n",
       "0         simple       9543      "
      ]
     },
     "execution_count": 81,
     "metadata": {},
     "output_type": "execute_result"
    }
   ],
   "source": [
    "sra = ipa.sratools(\"DRP000620\")\n",
    "df = sra.fetch_runinfo([1,4,6,7,25,28,29,30,35])\n",
    "df.sort_values(by=\"spots\", ascending=False).head()"
   ]
  },
  {
   "cell_type": "code",
   "execution_count": 84,
   "metadata": {},
   "outputs": [],
   "source": [
    "candidates.append(\"DRR002233\")"
   ]
  },
  {
   "cell_type": "markdown",
   "metadata": {},
   "source": [
    "### Macaca fascicularis\n",
    "This project incorrectly listed that the data was not paired (no 'spots with mates') but that is not true. So we use the 'split_pairs' argument in `.run()` below. "
   ]
  },
  {
   "cell_type": "code",
   "execution_count": 6,
   "metadata": {},
   "outputs": [
    {
     "name": "stdout",
     "output_type": "stream",
     "text": [
      "\r",
      "Fetching project data..."
     ]
    },
    {
     "data": {
      "text/html": [
       "<div>\n",
       "<style scoped>\n",
       "    .dataframe tbody tr th:only-of-type {\n",
       "        vertical-align: middle;\n",
       "    }\n",
       "\n",
       "    .dataframe tbody tr th {\n",
       "        vertical-align: top;\n",
       "    }\n",
       "\n",
       "    .dataframe thead th {\n",
       "        text-align: right;\n",
       "    }\n",
       "</style>\n",
       "<table border=\"1\" class=\"dataframe\">\n",
       "  <thead>\n",
       "    <tr style=\"text-align: right;\">\n",
       "      <th></th>\n",
       "      <th>Run</th>\n",
       "      <th>spots</th>\n",
       "      <th>spots_with_mates</th>\n",
       "      <th>avgLength</th>\n",
       "      <th>Sample</th>\n",
       "      <th>TaxID</th>\n",
       "      <th>ScientificName</th>\n",
       "      <th>SampleName</th>\n",
       "      <th>Sex</th>\n",
       "    </tr>\n",
       "  </thead>\n",
       "  <tbody>\n",
       "    <tr>\n",
       "      <th>50</th>\n",
       "      <td>SRR445695</td>\n",
       "      <td>80398858</td>\n",
       "      <td>0</td>\n",
       "      <td>200</td>\n",
       "      <td>SRS300124</td>\n",
       "      <td>9541</td>\n",
       "      <td>Macaca fascicularis</td>\n",
       "      <td>125200</td>\n",
       "      <td></td>\n",
       "    </tr>\n",
       "    <tr>\n",
       "      <th>49</th>\n",
       "      <td>SRR445694</td>\n",
       "      <td>80321376</td>\n",
       "      <td>0</td>\n",
       "      <td>200</td>\n",
       "      <td>SRS300124</td>\n",
       "      <td>9541</td>\n",
       "      <td>Macaca fascicularis</td>\n",
       "      <td>125200</td>\n",
       "      <td></td>\n",
       "    </tr>\n",
       "    <tr>\n",
       "      <th>10</th>\n",
       "      <td>SRR445630</td>\n",
       "      <td>36095170</td>\n",
       "      <td>0</td>\n",
       "      <td>200</td>\n",
       "      <td>SRS300124</td>\n",
       "      <td>9541</td>\n",
       "      <td>Macaca fascicularis</td>\n",
       "      <td>125200</td>\n",
       "      <td></td>\n",
       "    </tr>\n",
       "    <tr>\n",
       "      <th>22</th>\n",
       "      <td>SRR445666</td>\n",
       "      <td>36003689</td>\n",
       "      <td>0</td>\n",
       "      <td>200</td>\n",
       "      <td>SRS300124</td>\n",
       "      <td>9541</td>\n",
       "      <td>Macaca fascicularis</td>\n",
       "      <td>125200</td>\n",
       "      <td></td>\n",
       "    </tr>\n",
       "    <tr>\n",
       "      <th>18</th>\n",
       "      <td>SRR445662</td>\n",
       "      <td>35992819</td>\n",
       "      <td>0</td>\n",
       "      <td>200</td>\n",
       "      <td>SRS300124</td>\n",
       "      <td>9541</td>\n",
       "      <td>Macaca fascicularis</td>\n",
       "      <td>125200</td>\n",
       "      <td></td>\n",
       "    </tr>\n",
       "  </tbody>\n",
       "</table>\n",
       "</div>"
      ],
      "text/plain": [
       "          Run     spots spots_with_mates avgLength     Sample TaxID  \\\n",
       "50  SRR445695  80398858                0       200  SRS300124  9541   \n",
       "49  SRR445694  80321376                0       200  SRS300124  9541   \n",
       "10  SRR445630  36095170                0       200  SRS300124  9541   \n",
       "22  SRR445666  36003689                0       200  SRS300124  9541   \n",
       "18  SRR445662  35992819                0       200  SRS300124  9541   \n",
       "\n",
       "         ScientificName SampleName Sex  \n",
       "50  Macaca fascicularis     125200      \n",
       "49  Macaca fascicularis     125200      \n",
       "10  Macaca fascicularis     125200      \n",
       "22  Macaca fascicularis     125200      \n",
       "18  Macaca fascicularis     125200      "
      ]
     },
     "execution_count": 6,
     "metadata": {},
     "output_type": "execute_result"
    }
   ],
   "source": [
    "sra = ipa.sratools(\"SRP011089\")\n",
    "df = sra.fetch_runinfo([1,4,6,7,25,28,29,30,35])\n",
    "df.sort_values(by=\"spots\", ascending=False).head()"
   ]
  },
  {
   "cell_type": "code",
   "execution_count": 71,
   "metadata": {},
   "outputs": [],
   "source": [
    "##candidates.append(\"SRR445695\")"
   ]
  },
  {
   "cell_type": "code",
   "execution_count": 80,
   "metadata": {},
   "outputs": [
    {
     "ename": "TypeError",
     "evalue": "run() got an unexpected keyword argument 'split_pair'",
     "output_type": "error",
     "traceback": [
      "\u001b[0;31m---------------------------------------------------------------------------\u001b[0m",
      "\u001b[0;31mTypeError\u001b[0m                                 Traceback (most recent call last)",
      "\u001b[0;32m<ipython-input-80-b401877b42c1>\u001b[0m in \u001b[0;36m<module>\u001b[0;34m\u001b[0m\n\u001b[1;32m      5\u001b[0m     \u001b[0mname_fields\u001b[0m\u001b[0;34m=\u001b[0m\u001b[0;34m(\u001b[0m\u001b[0;36m29\u001b[0m\u001b[0;34m,\u001b[0m \u001b[0;36m1\u001b[0m\u001b[0;34m)\u001b[0m\u001b[0;34m,\u001b[0m\u001b[0;34m\u001b[0m\u001b[0m\n\u001b[1;32m      6\u001b[0m     \u001b[0mname_separator\u001b[0m\u001b[0;34m=\u001b[0m\u001b[0;34m\"-\"\u001b[0m\u001b[0;34m,\u001b[0m\u001b[0;34m\u001b[0m\u001b[0m\n\u001b[0;32m----> 7\u001b[0;31m     \u001b[0msplit_pair\u001b[0m\u001b[0;34m=\u001b[0m\u001b[0;32mTrue\u001b[0m\u001b[0;34m\u001b[0m\u001b[0m\n\u001b[0m\u001b[1;32m      8\u001b[0m )\n",
      "\u001b[0;31mTypeError\u001b[0m: run() got an unexpected keyword argument 'split_pair'"
     ]
    }
   ],
   "source": [
    "sra = ipa.sratools(\"SRR4454031\")\n",
    "sra.run(\n",
    "    dry_run=True,\n",
    "    ipyclient=ipyclient,\n",
    "    name_fields=(29, 1), \n",
    "    name_separator=\"-\",\n",
    "    split_pair=True\n",
    ")"
   ]
  },
  {
   "cell_type": "markdown",
   "metadata": {},
   "source": [
    "### Macaca thibethana"
   ]
  },
  {
   "cell_type": "code",
   "execution_count": 6,
   "metadata": {},
   "outputs": [
    {
     "name": "stdout",
     "output_type": "stream",
     "text": [
      "\r",
      "Fetching project data..."
     ]
    },
    {
     "data": {
      "text/html": [
       "<div>\n",
       "<style scoped>\n",
       "    .dataframe tbody tr th:only-of-type {\n",
       "        vertical-align: middle;\n",
       "    }\n",
       "\n",
       "    .dataframe tbody tr th {\n",
       "        vertical-align: top;\n",
       "    }\n",
       "\n",
       "    .dataframe thead th {\n",
       "        text-align: right;\n",
       "    }\n",
       "</style>\n",
       "<table border=\"1\" class=\"dataframe\">\n",
       "  <thead>\n",
       "    <tr style=\"text-align: right;\">\n",
       "      <th></th>\n",
       "      <th>Run</th>\n",
       "      <th>spots</th>\n",
       "      <th>spots_with_mates</th>\n",
       "      <th>avgLength</th>\n",
       "      <th>Sample</th>\n",
       "      <th>TaxID</th>\n",
       "      <th>ScientificName</th>\n",
       "      <th>SampleName</th>\n",
       "      <th>Sex</th>\n",
       "    </tr>\n",
       "  </thead>\n",
       "  <tbody>\n",
       "    <tr>\n",
       "      <th>0</th>\n",
       "      <td>SRR1024051</td>\n",
       "      <td>637506195</td>\n",
       "      <td>637506195</td>\n",
       "      <td>180</td>\n",
       "      <td>SRS498543</td>\n",
       "      <td>54602</td>\n",
       "      <td>Macaca thibetana</td>\n",
       "      <td>Tibetan macaque NO. 3</td>\n",
       "      <td></td>\n",
       "    </tr>\n",
       "  </tbody>\n",
       "</table>\n",
       "</div>"
      ],
      "text/plain": [
       "          Run      spots spots_with_mates avgLength     Sample  TaxID  \\\n",
       "0  SRR1024051  637506195        637506195       180  SRS498543  54602   \n",
       "\n",
       "     ScientificName             SampleName Sex  \n",
       "0  Macaca thibetana  Tibetan macaque NO. 3      "
      ]
     },
     "execution_count": 6,
     "metadata": {},
     "output_type": "execute_result"
    }
   ],
   "source": [
    "# Macaca thibethana\n",
    "sra = ipa.sratools(\"SRP032525\")\n",
    "df = sra.fetch_runinfo([1,4,6,7,25,28,29,30,35])\n",
    "df"
   ]
  },
  {
   "cell_type": "code",
   "execution_count": 85,
   "metadata": {},
   "outputs": [],
   "source": [
    "candidates.append(\"SRR1024051\")"
   ]
  },
  {
   "cell_type": "code",
   "execution_count": 10,
   "metadata": {},
   "outputs": [
    {
     "name": "stdout",
     "output_type": "stream",
     "text": [
      "[                    ]   0% 0:00:20 |  Downloading fastq files |  |keyboard interrupt...\n",
      "\n",
      "Warning: One or more files failed to finish downloading or converting to fastq.\n",
      "To avoid corruption the file was file was removed. Try downloading again to get\n",
      "any missing files. The following samples were affected:\n",
      "['SRR1024051.sra.cache']\n",
      "\n"
     ]
    }
   ],
   "source": [
    "sra = ipa.sratools(\"SRR1024051\")\n",
    "sra.run(ipyclient=ipyclient, name_fields=(29, 30, 1), name_separator=\"-\")"
   ]
  },
  {
   "cell_type": "markdown",
   "metadata": {},
   "source": [
    "### Macaca assamensis AND arctoides"
   ]
  },
  {
   "cell_type": "code",
   "execution_count": 17,
   "metadata": {},
   "outputs": [
    {
     "name": "stdout",
     "output_type": "stream",
     "text": [
      "\r",
      "Fetching project data..."
     ]
    },
    {
     "data": {
      "text/html": [
       "<div>\n",
       "<style scoped>\n",
       "    .dataframe tbody tr th:only-of-type {\n",
       "        vertical-align: middle;\n",
       "    }\n",
       "\n",
       "    .dataframe tbody tr th {\n",
       "        vertical-align: top;\n",
       "    }\n",
       "\n",
       "    .dataframe thead th {\n",
       "        text-align: right;\n",
       "    }\n",
       "</style>\n",
       "<table border=\"1\" class=\"dataframe\">\n",
       "  <thead>\n",
       "    <tr style=\"text-align: right;\">\n",
       "      <th></th>\n",
       "      <th>Run</th>\n",
       "      <th>spots</th>\n",
       "      <th>spots_with_mates</th>\n",
       "      <th>avgLength</th>\n",
       "      <th>Sample</th>\n",
       "      <th>TaxID</th>\n",
       "      <th>ScientificName</th>\n",
       "      <th>SampleName</th>\n",
       "      <th>Sex</th>\n",
       "    </tr>\n",
       "  </thead>\n",
       "  <tbody>\n",
       "    <tr>\n",
       "      <th>0</th>\n",
       "      <td>SRR2981139</td>\n",
       "      <td>500517130</td>\n",
       "      <td>500517130</td>\n",
       "      <td>200</td>\n",
       "      <td>SRS1196879</td>\n",
       "      <td>9540</td>\n",
       "      <td>Macaca arctoides</td>\n",
       "      <td>SM1</td>\n",
       "      <td>female</td>\n",
       "    </tr>\n",
       "    <tr>\n",
       "      <th>1</th>\n",
       "      <td>SRR2981140</td>\n",
       "      <td>235902683</td>\n",
       "      <td>235902683</td>\n",
       "      <td>250</td>\n",
       "      <td>SRS1196878</td>\n",
       "      <td>9540</td>\n",
       "      <td>Macaca arctoides</td>\n",
       "      <td>SM2</td>\n",
       "      <td>female</td>\n",
       "    </tr>\n",
       "    <tr>\n",
       "      <th>2</th>\n",
       "      <td>SRR2981114</td>\n",
       "      <td>615827332</td>\n",
       "      <td>615827332</td>\n",
       "      <td>250</td>\n",
       "      <td>SRS1196892</td>\n",
       "      <td>9551</td>\n",
       "      <td>Macaca assamensis</td>\n",
       "      <td>XH1</td>\n",
       "      <td>male</td>\n",
       "    </tr>\n",
       "  </tbody>\n",
       "</table>\n",
       "</div>"
      ],
      "text/plain": [
       "          Run      spots spots_with_mates avgLength      Sample TaxID  \\\n",
       "0  SRR2981139  500517130        500517130       200  SRS1196879  9540   \n",
       "1  SRR2981140  235902683        235902683       250  SRS1196878  9540   \n",
       "2  SRR2981114  615827332        615827332       250  SRS1196892  9551   \n",
       "\n",
       "      ScientificName SampleName     Sex  \n",
       "0   Macaca arctoides        SM1  female  \n",
       "1   Macaca arctoides        SM2  female  \n",
       "2  Macaca assamensis        XH1    male  "
      ]
     },
     "execution_count": 17,
     "metadata": {},
     "output_type": "execute_result"
    }
   ],
   "source": [
    "sra = ipa.sratools(\"SRP067118\")\n",
    "df = sra.fetch_runinfo([1,4,6,7,25,28,29,30,35])\n",
    "df"
   ]
  },
  {
   "cell_type": "code",
   "execution_count": 86,
   "metadata": {},
   "outputs": [],
   "source": [
    "candidates.extend((\"SRR2981139\",\"SRR2981114\"))"
   ]
  },
  {
   "cell_type": "code",
   "execution_count": 20,
   "metadata": {},
   "outputs": [
    {
     "name": "stdout",
     "output_type": "stream",
     "text": [
      "\r",
      "Fetching project data..."
     ]
    },
    {
     "data": {
      "text/html": [
       "<div>\n",
       "<style scoped>\n",
       "    .dataframe tbody tr th:only-of-type {\n",
       "        vertical-align: middle;\n",
       "    }\n",
       "\n",
       "    .dataframe tbody tr th {\n",
       "        vertical-align: top;\n",
       "    }\n",
       "\n",
       "    .dataframe thead th {\n",
       "        text-align: right;\n",
       "    }\n",
       "</style>\n",
       "<table border=\"1\" class=\"dataframe\">\n",
       "  <thead>\n",
       "    <tr style=\"text-align: right;\">\n",
       "      <th></th>\n",
       "      <th>Run</th>\n",
       "      <th>spots</th>\n",
       "      <th>spots_with_mates</th>\n",
       "      <th>avgLength</th>\n",
       "      <th>Sample</th>\n",
       "      <th>TaxID</th>\n",
       "      <th>ScientificName</th>\n",
       "      <th>SampleName</th>\n",
       "      <th>Sex</th>\n",
       "    </tr>\n",
       "  </thead>\n",
       "  <tbody>\n",
       "    <tr>\n",
       "      <th>0</th>\n",
       "      <td>SRR5947294</td>\n",
       "      <td>449692098</td>\n",
       "      <td>449692098</td>\n",
       "      <td>302</td>\n",
       "      <td>SRS2436633</td>\n",
       "      <td>54600</td>\n",
       "      <td>Macaca nigra</td>\n",
       "      <td>PF660</td>\n",
       "      <td>female</td>\n",
       "    </tr>\n",
       "    <tr>\n",
       "      <th>1</th>\n",
       "      <td>SRR5947293</td>\n",
       "      <td>448474934</td>\n",
       "      <td>448474934</td>\n",
       "      <td>302</td>\n",
       "      <td>SRS2441459</td>\n",
       "      <td>40843</td>\n",
       "      <td>Macaca tonkeana</td>\n",
       "      <td>PM592</td>\n",
       "      <td>male</td>\n",
       "    </tr>\n",
       "    <tr>\n",
       "      <th>2</th>\n",
       "      <td>SRR5947292</td>\n",
       "      <td>465782866</td>\n",
       "      <td>465782866</td>\n",
       "      <td>302</td>\n",
       "      <td>SRS2436621</td>\n",
       "      <td>90388</td>\n",
       "      <td>Macaca nemestrina nemestrina</td>\n",
       "      <td>PM664</td>\n",
       "      <td>male</td>\n",
       "    </tr>\n",
       "  </tbody>\n",
       "</table>\n",
       "</div>"
      ],
      "text/plain": [
       "          Run      spots spots_with_mates avgLength      Sample  TaxID  \\\n",
       "0  SRR5947294  449692098        449692098       302  SRS2436633  54600   \n",
       "1  SRR5947293  448474934        448474934       302  SRS2441459  40843   \n",
       "2  SRR5947292  465782866        465782866       302  SRS2436621  90388   \n",
       "\n",
       "                 ScientificName SampleName     Sex  \n",
       "0                  Macaca nigra      PF660  female  \n",
       "1               Macaca tonkeana      PM592    male  \n",
       "2  Macaca nemestrina nemestrina      PM664    male  "
      ]
     },
     "execution_count": 20,
     "metadata": {},
     "output_type": "execute_result"
    }
   ],
   "source": [
    "# Macaca nigra AND tonkeana AND nemestrina\n",
    "sra = ipa.sratools(\"SRP115775\")\n",
    "df = sra.fetch_runinfo([1,4,6,7,25,28,29,30,35])\n",
    "df"
   ]
  },
  {
   "cell_type": "code",
   "execution_count": 87,
   "metadata": {},
   "outputs": [],
   "source": [
    "candidates.extend((\"SRR5947294\", \"SRR5947293\",\"SRR5947292\"))"
   ]
  },
  {
   "cell_type": "markdown",
   "metadata": {},
   "source": [
    "### Get just the best run for each species..."
   ]
  },
  {
   "cell_type": "code",
   "execution_count": 88,
   "metadata": {},
   "outputs": [
    {
     "data": {
      "text/plain": [
       "['SRR4454031',\n",
       " 'DRR002233',\n",
       " 'SRR1024051',\n",
       " 'SRR2981139',\n",
       " 'SRR2981114',\n",
       " 'SRR5947294',\n",
       " 'SRR5947293',\n",
       " 'SRR5947292']"
      ]
     },
     "execution_count": 88,
     "metadata": {},
     "output_type": "execute_result"
    }
   ],
   "source": [
    "##Best runs for each species, excluding fascicularis which was incorrectly listed as not paired:\n",
    "candidates"
   ]
  },
  {
   "cell_type": "code",
   "execution_count": 89,
   "metadata": {},
   "outputs": [
    {
     "name": "stdout",
     "output_type": "stream",
     "text": [
      "The following files will be written to: /home/nickpichome/PDSB/Macaca/gatktutorial/sra-fastq-data\n",
      "0    Macaca_mulatta-SRR4454031\n",
      "1    Macaca_mulatta-SRR5009874\n",
      "Name: Accession, dtype: object\n",
      "\n",
      "The following files will be written to: /home/nickpichome/PDSB/Macaca/gatktutorial/sra-fastq-data\n",
      "0    simple-DRR002233\n",
      "Name: Accession, dtype: object\n",
      "\n",
      "The following files will be written to: /home/nickpichome/PDSB/Macaca/gatktutorial/sra-fastq-data\n",
      "0    Macaca_thibetana-SRR1024051\n",
      "Name: Accession, dtype: object\n",
      "\n",
      "The following files will be written to: /home/nickpichome/PDSB/Macaca/gatktutorial/sra-fastq-data\n",
      "0    Macaca_arctoides-SRR2981139\n",
      "Name: Accession, dtype: object\n",
      "\n",
      "The following files will be written to: /home/nickpichome/PDSB/Macaca/gatktutorial/sra-fastq-data\n",
      "0    Macaca_assamensis-SRR2981114\n",
      "Name: Accession, dtype: object\n",
      "\n",
      "The following files will be written to: /home/nickpichome/PDSB/Macaca/gatktutorial/sra-fastq-data\n",
      "0    Macaca_nigra-SRR5947294\n",
      "Name: Accession, dtype: object\n",
      "\n",
      "The following files will be written to: /home/nickpichome/PDSB/Macaca/gatktutorial/sra-fastq-data\n",
      "0    Macaca_tonkeana-SRR5947293\n",
      "Name: Accession, dtype: object\n",
      "\n",
      "The following files will be written to: /home/nickpichome/PDSB/Macaca/gatktutorial/sra-fastq-data\n",
      "0    Macaca_nemestrina_nemestrina-SRR5947292\n",
      "Name: Accession, dtype: object\n",
      "\n"
     ]
    }
   ],
   "source": [
    "for i in candidates:\n",
    "    sra = ipa.sratools(i)\n",
    "    sra.run(\n",
    "        dry_run=True,\n",
    "        ipyclient=ipyclient,\n",
    "        name_fields=(29, 1), \n",
    "        name_separator=\"-\",\n",
    "    )"
   ]
  }
 ],
 "metadata": {
  "kernelspec": {
   "display_name": "Python 3",
   "language": "python",
   "name": "python3"
  },
  "language_info": {
   "codemirror_mode": {
    "name": "ipython",
    "version": 3
   },
   "file_extension": ".py",
   "mimetype": "text/x-python",
   "name": "python",
   "nbconvert_exporter": "python",
   "pygments_lexer": "ipython3",
   "version": "3.6.5"
  }
 },
 "nbformat": 4,
 "nbformat_minor": 2
}

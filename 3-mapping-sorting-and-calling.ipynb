{
 "cells": [
  {
   "cell_type": "markdown",
   "metadata": {},
   "source": [
    "## 3. Mapping, sorting, and calling trimmed data\n",
    "\n",
    "Using [NextGenMap](https://github.com/Cibiv/NextGenMap) for mapping and [samtools](https://github.com/samtools/samtools) for sorting. Alternatives are [minimap2](https://github.com/lh3/minimap2) and [Sambamba](https://github.com/biod/sambamba). Even a quite powerful personal desktop may freeze up or not start running MiniMap2 due to its memory requirements. NextGenMap seems to play better but when dealing with a HPC cluster, either should work fine.\n",
    "\n",
    "After this, we will use [FreeBayes](https://github.com/ekg/freebayes) for variant detection on the mapped and sorted files. Working with BAM files is a bit faster than working with CRAM but CRAM is more space efficient. As such, all code utilizes BAM but at the end, data will be converted to CRAM for data access after publication."
   ]
  },
  {
   "cell_type": "code",
   "execution_count": 9,
   "metadata": {},
   "outputs": [],
   "source": [
    "##!conda install -c bioconda samtools minimap2 sambamba\n",
    "##!conda install -c anaconda openssl=1.0.2\n",
    "##!git clone https://github.com/lh3/bwa.git\n",
    "##!cd bwa; make\n",
    "##!cd ..\n",
    "import os"
   ]
  },
  {
   "cell_type": "code",
   "execution_count": 1,
   "metadata": {},
   "outputs": [
    {
     "name": "stdout",
     "output_type": "stream",
     "text": [
      "CPU times: user 125 ms, sys: 46.7 ms, total: 172 ms\n",
      "Wall time: 19.8 s\n"
     ]
    }
   ],
   "source": [
    "%time !gunzip < /moto/eaton/projects/macaques/refpapio/refpapio.fna.gz > /moto/eaton/projects/macaques/refpapio/refpapio.fa"
   ]
  },
  {
   "cell_type": "code",
   "execution_count": 4,
   "metadata": {},
   "outputs": [
    {
     "name": "stdout",
     "output_type": "stream",
     "text": [
      "samtools: error while loading shared libraries: libcrypto.so.1.0.0: cannot open shared object file: No such file or directory\n",
      "CPU times: user 522 µs, sys: 6.08 ms, total: 6.6 ms\n",
      "Wall time: 133 ms\n"
     ]
    }
   ],
   "source": [
    "%time !samtools faidx /moto/eaton/projects/macaques/refpapio/refpapio.fa"
   ]
  },
  {
   "cell_type": "code",
   "execution_count": null,
   "metadata": {},
   "outputs": [],
   "source": [
    "%time !./bwa index /moto/eaton/projects/macaques/refpapio/refpapio.fa"
   ]
  },
  {
   "cell_type": "markdown",
   "metadata": {},
   "source": [
    "### A) Mapping and sorting northern _Macaca mulatta_:"
   ]
  },
  {
   "cell_type": "code",
   "execution_count": 1,
   "metadata": {},
   "outputs": [],
   "source": [
    "##creating a folder to put the BAM files into \n",
    "!mkdir /moto/eaton/projects/macaques/mapped/"
   ]
  },
  {
   "cell_type": "code",
   "execution_count": 2,
   "metadata": {},
   "outputs": [],
   "source": [
    "test=['SRR5628058', 'fasno', 'SRR2981139', 'SRR1024051', 'silenus', 'sylvanus']"
   ]
  },
  {
   "cell_type": "code",
   "execution_count": null,
   "metadata": {},
   "outputs": [],
   "source": [
    "##6 hrs 61gb BAM fastq1 24g fastq2 31g\n",
    "%time !minimap2 -ax sr -t 20 -K 6g -2 /moto/eaton/projects/macaques/refpapio/refpapio.fa \\\n",
    "            /moto/eaton/projects/macaques/filteredfastq/SRR5628058.filtered_1.fastq.gz \\\n",
    "            /moto/eaton/projects/macaques/filteredfastq/SRR5628058.filtered_2.fastq.gz \\\n",
    "            | samtools view -b -> /moto/eaton/projects/macaques/mapped/SRR5628058.raw.bam"
   ]
  },
  {
   "cell_type": "code",
   "execution_count": null,
   "metadata": {},
   "outputs": [],
   "source": [
    "## fastq1 34g fastq2 38g\n",
    "%time !ngm -t 20 -r /moto/eaton/projects/macaques/refpapio/refpapio.fna.gz \\\n",
    "    -1 /moto/eaton/projects/macaques/filteredfastq/sylvanus.filtered_1.fastq.gz \\\n",
    "    -2 /moto/eaton/projects/macaques/filteredfastq/sylvanus.filtered_2.fastq.gz \\\n",
    "    | samtools view -b -@ 3 -> /moto/eaton/projects/macaques/mapped/ngmsylvanus.raw.bam"
   ]
  },
  {
   "cell_type": "code",
   "execution_count": null,
   "metadata": {},
   "outputs": [],
   "source": [
    "%time !ngm -t 20 -r /moto/eaton/projects/macaques/refpapio/refpapio.fna.gz \\\n",
    "    -1 /moto/eaton/projects/macaques/filteredfastq/SRR2981139.filtered_1.fastq.gz \\\n",
    "    -2 /moto/eaton/projects/macaques/filteredfastq/SRR2981139.filtered_2.fastq.gz \\\n",
    "    | samtools view -b -@ 3 -> /moto/eaton/projects/macaques/mapped/ngmSRR2981139.raw.bam"
   ]
  },
  {
   "cell_type": "code",
   "execution_count": null,
   "metadata": {},
   "outputs": [],
   "source": [
    "%time !ngm -t 20 -r /moto/eaton/projects/macaques/refpapio/refpapio.fna.gz \\\n",
    "    -1 /moto/eaton/projects/macaques/filteredfastq/silenus.filtered_1.fastq.gz \\\n",
    "    -2 /moto/eaton/projects/macaques/filteredfastq/silenus.filtered_2.fastq.gz \\\n",
    "    | samtools view -b -@ 3 -> /moto/eaton/projects/macaques/mapped/ngmsilenus.raw.bam"
   ]
  },
  {
   "cell_type": "code",
   "execution_count": null,
   "metadata": {},
   "outputs": [],
   "source": [
    "%time !ngm -t 20 -r /moto/eaton/projects/macaques/refpapio/refpapio.fna.gz \\\n",
    "    -1 /moto/eaton/projects/macaques/filteredfastq/fasno.filtered_1.fastq.gz \\\n",
    "    -2 /moto/eaton/projects/macaques/filteredfastq/fasno.filtered_2.fastq.gz \\\n",
    "    | samtools view -b -@ 3 -> /moto/eaton/projects/macaques/mapped/ngmfasno.raw.bam"
   ]
  },
  {
   "cell_type": "code",
   "execution_count": null,
   "metadata": {},
   "outputs": [],
   "source": []
  },
  {
   "cell_type": "code",
   "execution_count": null,
   "metadata": {},
   "outputs": [],
   "source": [
    "%time !ngm -t 20 -r /moto/eaton/projects/macaques/refpapio/refpapio.fna.gz \\\n",
    "    -1 /moto/eaton/projects/macaques/filteredfastq/SRR1024051.filtered_1.fastq.gz \\\n",
    "    -2 /moto/eaton/projects/macaques/filteredfastq/SRR1024051.filtered_2.fastq.gz \\\n",
    "    | samtools view -b -@ 3 -> /moto/eaton/projects/macaques/mapped/ngmSRR1024051.raw.bam"
   ]
  },
  {
   "cell_type": "code",
   "execution_count": null,
   "metadata": {},
   "outputs": [],
   "source": [
    "##mapping\n",
    "for i in test:\n",
    "    cmd='minimap2 -ax sr -t 19 /moto/eaton/projects/macaques/refpapio/refpapio.fa \\\n",
    "            /moto/eaton/projects/macaques/filteredfastq/'+i+'.filtered_1.fastq.gz \\\n",
    "            /moto/eaton/projects/macaques/filteredfastq/'+i+'.filtered_2.fastq.gz \\\n",
    "            | samtools view -b -> /moto/eaton/projects/macaques/mapped/'+i+'.raw.bam'\n",
    "    os.system(cmd)"
   ]
  },
  {
   "cell_type": "code",
   "execution_count": 4,
   "metadata": {},
   "outputs": [],
   "source": [
    "test=['ngmfasno', 'ngmSRR2981139', 'ngmSRR1024051', 'ngmsilenus', 'ngmsylvanus']"
   ]
  },
  {
   "cell_type": "code",
   "execution_count": null,
   "metadata": {},
   "outputs": [],
   "source": [
    "##sorting mapped data\n",
    "for i in test:\n",
    "    cmd='sambamba sort -t 20 --tmpdir=/moto/eaton/projects/macaques/tmp/ \\\n",
    "            /moto/eaton/projects/macaques/mapped/'+i+'.raw.bam'\n",
    "    os.system(cmd)"
   ]
  },
  {
   "cell_type": "code",
   "execution_count": 2,
   "metadata": {},
   "outputs": [],
   "source": [
    "test=['ngmfasno']"
   ]
  },
  {
   "cell_type": "code",
   "execution_count": null,
   "metadata": {},
   "outputs": [],
   "source": [
    "##marking likely PCR duplicates\n",
    "for i in test:\n",
    "    cmd='sambamba markdup -t 20 -p --overflow-list-size 6000000 --hash-table-size 6000000 \\\n",
    "            --tmpdir=/moto/eaton/projects/macaques/tmp/ \\\n",
    "            /moto/eaton/projects/macaques/mapped/'+i+'.raw.sorted.bam \\\n",
    "            /moto/eaton/projects/macaques/mapped/'+i+'.mark.bam'\n",
    "    os.system(cmd)"
   ]
  },
  {
   "cell_type": "code",
   "execution_count": null,
   "metadata": {},
   "outputs": [],
   "source": [
    "test=['ngmSRR2981139', 'ngmSRR1024051', 'ngmsilenus', 'ngmsylvanus']"
   ]
  },
  {
   "cell_type": "code",
   "execution_count": null,
   "metadata": {},
   "outputs": [],
   "source": [
    "for i in test:\n",
    "    cmd='sambamba markdup -t 20 -p --overflow-list-size 6000000 --hash-table-size 6000000 \\\n",
    "            --tmpdir=/moto/eaton/projects/macaques/tmp/ \\\n",
    "            /moto/eaton/projects/macaques/mapped/'+i+'.raw.sorted.bam \\\n",
    "            /moto/eaton/projects/macaques/mapped/'+i+'.mark.bam'\n",
    "    os.system(cmd)"
   ]
  },
  {
   "cell_type": "markdown",
   "metadata": {},
   "source": [
    "### B) Calling Variants with FreeBayes"
   ]
  },
  {
   "cell_type": "code",
   "execution_count": null,
   "metadata": {},
   "outputs": [],
   "source": [
    "test=['SRR5628058', 'fasno', 'SRR2981139', 'silenus', 'sylvanus']"
   ]
  },
  {
   "cell_type": "code",
   "execution_count": null,
   "metadata": {},
   "outputs": [],
   "source": [
    "##!conda install -c bioconda freebayes"
   ]
  },
  {
   "cell_type": "code",
   "execution_count": 2,
   "metadata": {},
   "outputs": [],
   "source": [
    "!mkdir /moto/eaton/projects/macaques/calls/"
   ]
  },
  {
   "cell_type": "code",
   "execution_count": null,
   "metadata": {},
   "outputs": [],
   "source": []
  },
  {
   "cell_type": "code",
   "execution_count": null,
   "metadata": {},
   "outputs": [],
   "source": [
    "%%bash\n",
    "freebayes-parallel <(fasta_generate_regions.py /moto/eaton/projects/macaques/refpapio/refpapio.fa 100000) 20 \\\n",
    "    -f /moto/eaton/projects/macaques/refpapio/refpapio.fa \\\n",
    "    /moto/eaton/projects/macaques/mapped/SRR5628058.mark.bam \\\n",
    "    /moto/eaton/projects/macaques/mapped/ngmfasno.mark.bam \\\n",
    "    /moto/eaton/projects/macaques/mapped/ngmSRR2981139.mark.bam \\\n",
    "    /moto/eaton/projects/macaques/mapped/ngmSRR1024051.mark.bam \\\n",
    "    /moto/eaton/projects/macaques/mapped/ngmsilenus.mark.bam \\\n",
    "    /moto/eaton/projects/macaques/mapped/ngmsylvanus.mark.bam \\\n",
    "    >/moto/eaton/projects/macaques/calls/test.raw1.vcf    "
   ]
  },
  {
   "cell_type": "code",
   "execution_count": 17,
   "metadata": {},
   "outputs": [
    {
     "name": "stdout",
     "output_type": "stream",
     "text": [
      "^C\n",
      "CPU times: user 1.92 s, sys: 549 ms, total: 2.47 s\n",
      "Wall time: 5min 19s\n"
     ]
    }
   ],
   "source": [
    "##testing on one chromosome amongst all the samples start time = \n",
    "%time !freebayes -f /moto/eaton/projects/macaques/refpapio/refpapio.fa \\\n",
    "    -r NC_018152.2 \\\n",
    "    /moto/eaton/projects/macaques/mapped/SRR5628058.mark.bam \\\n",
    "    /moto/eaton/projects/macaques/mapped/ngmfasno.mark.bam \\\n",
    "    /moto/eaton/projects/macaques/mapped/ngmSRR2981139.mark.bam \\\n",
    "    /moto/eaton/projects/macaques/mapped/ngmSRR1024051.mark.bam \\\n",
    "    /moto/eaton/projects/macaques/mapped/ngmsilenus.mark.bam \\\n",
    "    /moto/eaton/projects/macaques/mapped/ngmsylvanus.mark.bam \\\n",
    "    > /moto/eaton/projects/macaques/calls/test.raw.vcf"
   ]
  },
  {
   "cell_type": "code",
   "execution_count": null,
   "metadata": {},
   "outputs": [],
   "source": [
    "freebayes-parallel <(fasta_generate_regions.py ref.fa.fai 100000) 36 \\\n",
    "    -f ref.fa aln.bam >var.vcf"
   ]
  },
  {
   "cell_type": "code",
   "execution_count": null,
   "metadata": {},
   "outputs": [],
   "source": []
  },
  {
   "cell_type": "code",
   "execution_count": null,
   "metadata": {},
   "outputs": [],
   "source": []
  },
  {
   "cell_type": "code",
   "execution_count": null,
   "metadata": {},
   "outputs": [],
   "source": []
  },
  {
   "cell_type": "code",
   "execution_count": null,
   "metadata": {},
   "outputs": [],
   "source": []
  },
  {
   "cell_type": "markdown",
   "metadata": {},
   "source": [
    "Finding what are the names of the scaffolds that reads were mapped to:"
   ]
  },
  {
   "cell_type": "code",
   "execution_count": 6,
   "metadata": {},
   "outputs": [
    {
     "name": "stdout",
     "output_type": "stream",
     "text": [
      "NC_018152.2\n",
      "NC_018153.2\n",
      "NC_018154.2\n",
      "NC_018155.2\n",
      "NC_018156.2\n",
      "NC_018157.2\n",
      "NC_018158.2\n",
      "NC_018159.2\n",
      "NC_018160.2\n",
      "NC_018161.2\n",
      "NC_018162.2\n",
      "NC_018163.2\n",
      "NC_018164.2\n",
      "NC_018165.2\n",
      "NC_018166.2\n",
      "NC_018167.2\n",
      "NC_018168.2\n",
      "NC_018169.2\n",
      "NC_018170.2\n",
      "NC_018171.2\n",
      "NC_018172.2\n",
      "NW_018761063.1\n",
      "cut: write error: Broken pipe\n"
     ]
    }
   ],
   "source": [
    "!samtools idxstats /moto/eaton/projects/macaques/mapped/ngmfasno.mark.bam \\\n",
    "    | cut -f 1 | head -22"
   ]
  },
  {
   "cell_type": "markdown",
   "metadata": {},
   "source": [
    "Splitting by chromosome (NC_* is chromosome or mitochondria and NW_* is unassigned, so we just need the NC names):"
   ]
  },
  {
   "cell_type": "code",
   "execution_count": 7,
   "metadata": {},
   "outputs": [],
   "source": [
    "test=['SRR5628058', 'ngmfasno', 'ngmSRR2981139', 'ngmSRR1024051', 'ngmsilenus', 'ngmsylvanus']"
   ]
  },
  {
   "cell_type": "code",
   "execution_count": 11,
   "metadata": {},
   "outputs": [],
   "source": [
    "for i in test:\n",
    "    cmd='samtools view -@7 \\\n",
    "            /moto/eaton/projects/macaques/mapped/'+i+'.mark.bam NC_018152.2 -b > \\\n",
    "            /moto/eaton/projects/macaques/mapped/'+i+'.NC_018152.2.bam'\n",
    "    os.system(cmd)"
   ]
  },
  {
   "cell_type": "code",
   "execution_count": 13,
   "metadata": {},
   "outputs": [],
   "source": [
    "for i in test:\n",
    "    cmd='sambamba sort -t 20 --tmpdir=/moto/eaton/projects/macaques/tmp/ \\\n",
    "            /moto/eaton/projects/macaques/mapped/'+i+'.NC_018152.2.bam'\n",
    "    os.system(cmd)"
   ]
  },
  {
   "cell_type": "code",
   "execution_count": null,
   "metadata": {},
   "outputs": [],
   "source": [
    "for i in test:\n",
    "    cmd='sambamba markdup -t 20 -p --overflow-list-size 6000000 --hash-table-size 6000000 \\\n",
    "            --tmpdir=/moto/eaton/projects/macaques/tmp/ \\\n",
    "            /moto/eaton/projects/macaques/mapped/'+i+'.NC_018152.2.sorted.bam \\\n",
    "            /moto/eaton/projects/macaques/mapped/'+i+'.NC_018152.2.mark.bam'\n",
    "    os.system(cmd)"
   ]
  },
  {
   "cell_type": "code",
   "execution_count": null,
   "metadata": {},
   "outputs": [],
   "source": []
  },
  {
   "cell_type": "code",
   "execution_count": null,
   "metadata": {},
   "outputs": [],
   "source": []
  },
  {
   "cell_type": "code",
   "execution_count": null,
   "metadata": {},
   "outputs": [],
   "source": []
  },
  {
   "cell_type": "code",
   "execution_count": null,
   "metadata": {},
   "outputs": [],
   "source": [
    "%%bash\n",
    "for i in NC_018152.2 NC_018153.2 NC_018154.2; do\n",
    "    samtools view \\\n",
    "        /moto/eaton/projects/macaques/mulattanorthern/filtercall/mulattanorthern.SRR4454026.raw.minimap2.sorted.bam $i -b > \\\n",
    "        /moto/eaton/projects/macaques/mulattanorthern/filtercall/mulattanorthern.$i.bam\n"
   ]
  },
  {
   "cell_type": "code",
   "execution_count": null,
   "metadata": {},
   "outputs": [],
   "source": [
    "%%bash\n",
    "for i in NC_018152.2 NC_018153.2 NC_018154.2 NC_018155.2 NC_018156.2 NC_018157.2 NC_018158.2 NC_018159.2 NC_018160.2 NC_018161.2 NC_018162.2 NC_018163.2 NC_018164.2 NC_018165.2 NC_018166.2 NC_018167.2 NC_018168.2 NC_018169.2 NC_018170.2 NC_018171.2 NC_018172.2 NC_020006.2; do\n",
    "    sambamba sort -t 24 -p --tmpdir=/moto/eaton/projects/macaques/mulattanorthern/filtercall/ \\\n",
    "        /moto/eaton/projects/macaques/mulattanorthern/filtercall/mulattanorthern.$i.bam\n",
    "done"
   ]
  },
  {
   "cell_type": "code",
   "execution_count": null,
   "metadata": {},
   "outputs": [],
   "source": [
    "%%bash\n",
    "for i in NC_018152.2 NC_018153.2 NC_018154.2 NC_018155.2 NC_018156.2 NC_018157.2 NC_018158.2 NC_018159.2 NC_018160.2 NC_018161.2 NC_018162.2 NC_018163.2 NC_018164.2 NC_018165.2 NC_018166.2 NC_018167.2 NC_018168.2 NC_018169.2 NC_018170.2 NC_018171.2 NC_018172.2 NC_020006.2; do\n",
    "    sambamba markdup -t 24 -p --tmpdir=/moto/eaton/projects/macaques/mulattanorthern/filtercall/ \\\n",
    "        /moto/eaton/projects/macaques/mulattanorthern/filtercall/mulattanorthern.$i.sorted.bam \\\n",
    "        /moto/eaton/projects/macaques/mulattanorthern/filtercall/mulattanorthern.$i.ready.bam\n",
    "done"
   ]
  },
  {
   "cell_type": "code",
   "execution_count": 2,
   "metadata": {},
   "outputs": [],
   "source": [
    "!mkdir /moto/eaton/projects/macaques/MAPPEDANDSORTED"
   ]
  },
  {
   "cell_type": "code",
   "execution_count": 3,
   "metadata": {},
   "outputs": [],
   "source": [
    "##moving our mapped and sorted reads, separated by chromosome/mitochondria, to a staging directory\n",
    "!mv /moto/eaton/projects/macaques/mulattanorthern/filtercall/*.ready.* \\\n",
    "    /moto/eaton/projects/macaques/MAPPEDANDSORTED"
   ]
  },
  {
   "cell_type": "markdown",
   "metadata": {},
   "source": [
    "### B) Mapping and sorting southern, low altitude _Macaca mulatta_:"
   ]
  },
  {
   "cell_type": "code",
   "execution_count": 4,
   "metadata": {},
   "outputs": [],
   "source": [
    "!mkdir /moto/eaton/projects/macaques/mulattasouthernlow/filtercall"
   ]
  },
  {
   "cell_type": "code",
   "execution_count": null,
   "metadata": {},
   "outputs": [],
   "source": [
    "%time !minimap2 -ax sr -t 24 /moto/eaton/projects/macaques/refpapio/refpapio.fa \\\n",
    "    /moto/eaton/projects/macaques/TRIM/mulattasouthernlowSRR4454020_1.fastq.gz \\\n",
    "    /moto/eaton/projects/macaques/TRIM/mulattasouthernlowSRR4454020_2.fastq.gz \\\n",
    "    | samtools view -b -> /moto/eaton/projects/macaques/mulattasouthernlow/filtercall/mulattasouthernlow.SRR4454020.raw.minimap2.bam"
   ]
  },
  {
   "cell_type": "code",
   "execution_count": 6,
   "metadata": {},
   "outputs": [
    {
     "name": "stdout",
     "output_type": "stream",
     "text": [
      "\n",
      "sambamba 0.6.8 by Artem Tarasov and Pjotr Prins (C) 2012-2018\n",
      "    LDC 1.11.0 / DMD v2.081.2 / LLVM6.0.1 / bootstrap LDC - the LLVM D compiler (0.17.6git-0156298)\n",
      "\n",
      "Writing sorted chunks to temporary directory...\n",
      "[==============================================================================]\n",
      "Merging sorted chunks...\n",
      "[==============================================================================]\n",
      "CPU times: user 14.1 s, sys: 869 ms, total: 14.9 s\n",
      "Wall time: 5min 28s\n"
     ]
    }
   ],
   "source": [
    "%time !sambamba sort -t 24 -p --tmpdir=/moto/eaton/projects/macaques/mulattasouthernlow/filtercall/ \\\n",
    "    /moto/eaton/projects/macaques/mulattasouthernlow/filtercall/mulattasouthernlow.SRR4454020.raw.minimap2.bam"
   ]
  },
  {
   "cell_type": "code",
   "execution_count": 10,
   "metadata": {},
   "outputs": [],
   "source": [
    "%%bash\n",
    "for i in NC_018152.2 NC_018153.2 NC_018154.2 NC_018155.2 NC_018156.2 NC_018157.2 NC_018158.2 NC_018159.2 NC_018160.2 NC_018161.2 NC_018162.2 NC_018163.2 NC_018164.2 NC_018165.2 NC_018166.2 NC_018167.2 NC_018168.2 NC_018169.2 NC_018170.2 NC_018171.2 NC_018172.2 NC_020006.2; do\n",
    "    samtools view \\\n",
    "        /moto/eaton/projects/macaques/mulattasouthernlow/filtercall/mulattasouthernlow.SRR4454020.raw.minimap2.sorted.bam $i -b > \\\n",
    "        /moto/eaton/projects/macaques/mulattasouthernlow/filtercall/mulattasouthernlow.$i.bam\n",
    "done"
   ]
  },
  {
   "cell_type": "code",
   "execution_count": null,
   "metadata": {},
   "outputs": [],
   "source": [
    "%%bash\n",
    "for i in NC_018152.2 NC_018153.2 NC_018154.2 NC_018155.2 NC_018156.2 NC_018157.2 NC_018158.2 NC_018159.2 NC_018160.2 NC_018161.2 NC_018162.2 NC_018163.2 NC_018164.2 NC_018165.2 NC_018166.2 NC_018167.2 NC_018168.2 NC_018169.2 NC_018170.2 NC_018171.2 NC_018172.2 NC_020006.2; do\n",
    "    sambamba sort -t 24 -p --tmpdir=/moto/eaton/projects/macaques/mulattasouthernlow/filtercall/ \\\n",
    "        /moto/eaton/projects/macaques/mulattasouthernlow/filtercall/mulattasouthernlow.$i.bam\n",
    "done"
   ]
  },
  {
   "cell_type": "code",
   "execution_count": null,
   "metadata": {},
   "outputs": [],
   "source": [
    "%%bash\n",
    "for i in NC_018152.2 NC_018153.2 NC_018154.2 NC_018155.2 NC_018156.2 NC_018157.2 NC_018158.2 NC_018159.2 NC_018160.2 NC_018161.2 NC_018162.2 NC_018163.2 NC_018164.2 NC_018165.2 NC_018166.2 NC_018167.2 NC_018168.2 NC_018169.2 NC_018170.2 NC_018171.2 NC_018172.2 NC_020006.2; do\n",
    "    sambamba markdup -t 24 -p --tmpdir=/moto/eaton/projects/macaques/mulattasouthernlow/filtercall/ \\\n",
    "        /moto/eaton/projects/macaques/mulattasouthernlow/filtercall/mulattasouthernlow.$i.sorted.bam \\\n",
    "        /moto/eaton/projects/macaques/mulattasouthernlow/filtercall/mulattasouthernlow.$i.ready.bam\n",
    "done"
   ]
  },
  {
   "cell_type": "code",
   "execution_count": 13,
   "metadata": {},
   "outputs": [],
   "source": [
    "!mv /moto/eaton/projects/macaques/mulattasouthernlow/filtercall/*.ready.* \\\n",
    "    /moto/eaton/projects/macaques/MAPPEDANDSORTED"
   ]
  },
  {
   "cell_type": "markdown",
   "metadata": {},
   "source": [
    "### C) Mapping and sorting southern, high altitude _Macaca mulatta_:"
   ]
  },
  {
   "cell_type": "code",
   "execution_count": 14,
   "metadata": {},
   "outputs": [],
   "source": [
    "!mkdir /moto/eaton/projects/macaques/mulattasouthernhigh/filtercall"
   ]
  },
  {
   "cell_type": "code",
   "execution_count": null,
   "metadata": {},
   "outputs": [],
   "source": [
    "%time !minimap2 -ax sr -t 24 /moto/eaton/projects/macaques/refpapio/refpapio.fa \\\n",
    "    /moto/eaton/projects/macaques/TRIM/mulattasouthernhighSRR4453966_1.fastq.gz \\\n",
    "    /moto/eaton/projects/macaques/TRIM/mulattasouthernhighSRR4453966_2.fastq.gz \\\n",
    "    | samtools view -b -> /moto/eaton/projects/macaques/mulattasouthernhigh/filtercall/mulattasouthernhigh.SRR4453966.raw.minimap2.bam"
   ]
  },
  {
   "cell_type": "code",
   "execution_count": 16,
   "metadata": {},
   "outputs": [
    {
     "name": "stdout",
     "output_type": "stream",
     "text": [
      "\n",
      "sambamba 0.6.8 by Artem Tarasov and Pjotr Prins (C) 2012-2018\n",
      "    LDC 1.11.0 / DMD v2.081.2 / LLVM6.0.1 / bootstrap LDC - the LLVM D compiler (0.17.6git-0156298)\n",
      "\n",
      "Writing sorted chunks to temporary directory...\n",
      "[==============================================================================]=========================>                                                 ]\n",
      "Merging sorted chunks...\n",
      "[==============================================================================]=============================================>             ]\n",
      "CPU times: user 16.7 s, sys: 1.01 s, total: 17.7 s\n",
      "Wall time: 6min 16s\n"
     ]
    }
   ],
   "source": [
    "%time !sambamba sort -t 24 -p --tmpdir=/moto/eaton/projects/macaques/mulattasouthernhigh/filtercall/ \\\n",
    "    /moto/eaton/projects/macaques/mulattasouthernhigh/filtercall/mulattasouthernhigh.SRR4453966.raw.minimap2.bam"
   ]
  },
  {
   "cell_type": "code",
   "execution_count": 17,
   "metadata": {},
   "outputs": [],
   "source": [
    "%%bash\n",
    "for i in NC_018152.2 NC_018153.2 NC_018154.2 NC_018155.2 NC_018156.2 NC_018157.2 NC_018158.2 NC_018159.2 NC_018160.2 NC_018161.2 NC_018162.2 NC_018163.2 NC_018164.2 NC_018165.2 NC_018166.2 NC_018167.2 NC_018168.2 NC_018169.2 NC_018170.2 NC_018171.2 NC_018172.2 NC_020006.2; do\n",
    "    samtools view \\\n",
    "        /moto/eaton/projects/macaques/mulattasouthernhigh/filtercall/mulattasouthernhigh.SRR4453966.raw.minimap2.sorted.bam $i -b > \\\n",
    "        /moto/eaton/projects/macaques/mulattasouthernhigh/filtercall/mulattasouthernhigh.$i.bam\n",
    "done"
   ]
  },
  {
   "cell_type": "code",
   "execution_count": null,
   "metadata": {},
   "outputs": [],
   "source": [
    "%%bash\n",
    "for i in NC_018152.2 NC_018153.2 NC_018154.2 NC_018155.2 NC_018156.2 NC_018157.2 NC_018158.2 NC_018159.2 NC_018160.2 NC_018161.2 NC_018162.2 NC_018163.2 NC_018164.2 NC_018165.2 NC_018166.2 NC_018167.2 NC_018168.2 NC_018169.2 NC_018170.2 NC_018171.2 NC_018172.2 NC_020006.2; do\n",
    "    sambamba sort -t 24 -p --tmpdir=/moto/eaton/projects/macaques/mulattasouthernhigh/filtercall/ \\\n",
    "        /moto/eaton/projects/macaques/mulattasouthernhigh/filtercall/mulattasouthernhigh.$i.bam\n",
    "done"
   ]
  },
  {
   "cell_type": "code",
   "execution_count": 19,
   "metadata": {},
   "outputs": [
    {
     "name": "stdout",
     "output_type": "stream",
     "text": [
      "Process is interrupted.\n"
     ]
    }
   ],
   "source": [
    "%%bash\n",
    "for i in NC_018152.2 NC_018153.2 NC_018154.2 NC_018155.2 NC_018156.2 NC_018157.2 NC_018158.2 NC_018159.2 NC_018160.2 NC_018161.2 NC_018162.2 NC_018163.2 NC_018164.2 NC_018165.2 NC_018166.2 NC_018167.2 NC_018168.2 NC_018169.2 NC_018170.2 NC_018171.2 NC_018172.2 NC_020006.2; do\n",
    "    sambamba markdup -t 24 -p --tmpdir=/moto/eaton/projects/macaques/mulattasouthernhigh/filtercall/ \\\n",
    "        /moto/eaton/projects/macaques/mulattasouthernhigh/filtercall/mulattasouthernhigh.$i.sorted.bam \\\n",
    "        /moto/eaton/projects/macaques/mulattasouthernhigh/filtercall/mulattasouthernhigh.$i.ready.bam\n",
    "done"
   ]
  },
  {
   "cell_type": "code",
   "execution_count": null,
   "metadata": {},
   "outputs": [],
   "source": [
    "!mv /moto/eaton/projects/macaques/mulattasouthernhigh/filtercall/*.ready.* \\\n",
    "    /moto/eaton/projects/macaques/MAPPEDANDSORTED"
   ]
  },
  {
   "cell_type": "code",
   "execution_count": null,
   "metadata": {},
   "outputs": [],
   "source": []
  },
  {
   "cell_type": "code",
   "execution_count": null,
   "metadata": {},
   "outputs": [],
   "source": []
  },
  {
   "cell_type": "code",
   "execution_count": null,
   "metadata": {},
   "outputs": [],
   "source": []
  },
  {
   "cell_type": "code",
   "execution_count": null,
   "metadata": {},
   "outputs": [],
   "source": []
  },
  {
   "cell_type": "code",
   "execution_count": null,
   "metadata": {},
   "outputs": [],
   "source": []
  },
  {
   "cell_type": "code",
   "execution_count": null,
   "metadata": {},
   "outputs": [],
   "source": []
  },
  {
   "cell_type": "code",
   "execution_count": null,
   "metadata": {},
   "outputs": [],
   "source": []
  },
  {
   "cell_type": "code",
   "execution_count": null,
   "metadata": {},
   "outputs": [],
   "source": []
  },
  {
   "cell_type": "code",
   "execution_count": null,
   "metadata": {},
   "outputs": [],
   "source": []
  },
  {
   "cell_type": "code",
   "execution_count": null,
   "metadata": {},
   "outputs": [],
   "source": []
  },
  {
   "cell_type": "code",
   "execution_count": null,
   "metadata": {},
   "outputs": [],
   "source": []
  },
  {
   "cell_type": "code",
   "execution_count": null,
   "metadata": {},
   "outputs": [],
   "source": []
  },
  {
   "cell_type": "markdown",
   "metadata": {},
   "source": [
    "#### SAM to BAM conversion and sorting reads:"
   ]
  },
  {
   "cell_type": "code",
   "execution_count": null,
   "metadata": {},
   "outputs": [],
   "source": []
  },
  {
   "cell_type": "code",
   "execution_count": 6,
   "metadata": {},
   "outputs": [
    {
     "name": "stdout",
     "output_type": "stream",
     "text": [
      "CPU times: user 23.8 s, sys: 3.48 s, total: 27.3 s\n",
      "Wall time: 21min 13s\n"
     ]
    }
   ],
   "source": [
    "%time !samtools view -S -b results.sam > sample.bam ##simple conversion to bam appx 21 min on a 12 thread desktop w/ 16gb ram, not bad"
   ]
  },
  {
   "cell_type": "code",
   "execution_count": 7,
   "metadata": {},
   "outputs": [
    {
     "name": "stdout",
     "output_type": "stream",
     "text": [
      "[bam_sort_core] merging from 53 files and 1 in-memory blocks...\n",
      "CPU times: user 28.7 s, sys: 3.85 s, total: 32.6 s\n",
      "Wall time: 25min 41s\n"
     ]
    }
   ],
   "source": [
    "%time !samtools sort sample.bam -o sample.sorted.bam ##sorting bam file into genome order ~26mins"
   ]
  },
  {
   "cell_type": "code",
   "execution_count": 14,
   "metadata": {},
   "outputs": [
    {
     "name": "stdout",
     "output_type": "stream",
     "text": [
      "CPU times: user 2.36 s, sys: 363 ms, total: 2.73 s\n",
      "Wall time: 1min 57s\n"
     ]
    }
   ],
   "source": [
    "%time !samtools index sample.sorted.bam ##of course this will all be piped together..."
   ]
  },
  {
   "cell_type": "code",
   "execution_count": 1,
   "metadata": {},
   "outputs": [
    {
     "name": "stdout",
     "output_type": "stream",
     "text": [
      "SRR445694~125200.sra.858593\t99\tNC_027893.1\t1\t60\t5S95M\t=\t294\t393\tAAGGCCATGGAAACAAGGAAAGTCTGAAAAACTCACAGTTTAGGAACCTAAAGAGACTTGACTACTAAATGGAATATATCTTGGGATCCTGGAAAAGAAA\tCCCFFFFFHHHHHIIIIIIIIIHIIIIIIIIIIIIIIIHIIIIIIIIIIIIIIIIIIIIIIIIIIIIIIIIIHFHHHHFFFFFFDDDDCCCDBCCDDBDD\tAS:i:950\tNM:i:0\tNH:i:0\tXI:f:1\tX0:i:0\tXE:i:28\tXR:i:95\tMD:Z:95\n",
      "samtools view: writing to standard output failed: Broken pipe\n",
      "samtools view: error closing standard output: -1\n",
      "CPU times: user 5.74 ms, sys: 7.92 ms, total: 13.7 ms\n",
      "Wall time: 224 ms\n"
     ]
    }
   ],
   "source": [
    "%time !samtools view sample.sorted.bam | head -n 1 ##We see that instead of giving chromosomes logical names like Chr1, Chr2, etc., the reference genome has strange names for chromosomes (NC_027893.1, etc)..."
   ]
  },
  {
   "cell_type": "code",
   "execution_count": 3,
   "metadata": {},
   "outputs": [
    {
     "name": "stdout",
     "output_type": "stream",
     "text": [
      "CPU times: user 1.19 s, sys: 147 ms, total: 1.34 s\n",
      "Wall time: 58.6 s\n"
     ]
    }
   ],
   "source": [
    "%time !samtools view -h -b sample.sorted.bam NC_027893.1 > chr1.bam ##Which makes splitting files up for chromosome-level analyses a bit more annoying but not too bad...I'll make a bash script"
   ]
  },
  {
   "cell_type": "markdown",
   "metadata": {},
   "source": [
    "Pipe from NGM to samtools with an output of a sorted bam file:"
   ]
  },
  {
   "cell_type": "code",
   "execution_count": null,
   "metadata": {},
   "outputs": [],
   "source": [
    "!ngm -r ./reference-genome/Mmul8.fna.gz -1 out.R1.fq.gz -2 out.R2.fq.gz | samtools view -S -b | samtools sort -o sample.sorted.bam"
   ]
  },
  {
   "cell_type": "markdown",
   "metadata": {},
   "source": [
    "#### Variant calling:"
   ]
  },
  {
   "cell_type": "code",
   "execution_count": null,
   "metadata": {},
   "outputs": [],
   "source": [
    "!freebayes -f ./reference-genome/Mmul8.fna.gz sample.sorted.bam >wholegenome.vcf ##example code for variant calling on entire genome. Can be split by chromosome/region using -r "
   ]
  }
 ],
 "metadata": {
  "kernelspec": {
   "display_name": "Python 2",
   "language": "python",
   "name": "python2"
  }
 },
 "nbformat": 4,
 "nbformat_minor": 2
}

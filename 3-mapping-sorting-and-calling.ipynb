{
 "cells": [
  {
   "cell_type": "markdown",
   "metadata": {},
   "source": [
    "## 3. Mapping, sorting, and calling trimmed data\n",
    "\n",
    "Using [NextGenMap](https://github.com/Cibiv/NextGenMap) for mapping, [samtools](https://github.com/samtools/samtools) for SAM to BAM conversion, and [Sambamba](https://github.com/biod/sambamba) for sorting. One of our individuals is in colorspace (ABI SOLiD data) and needed to be mapped with [BWA](https://github.com/lh3/bwa) instead of NextGenMap.\n",
    "\n",
    "After this, we will use [FreeBayes](https://github.com/ekg/freebayes) for variant detection on the mapped and sorted files."
   ]
  },
  {
   "cell_type": "code",
   "execution_count": 16,
   "metadata": {},
   "outputs": [],
   "source": [
    "##!conda install -c bioconda samtools minimap2 sambamba bwa\n",
    "##!conda install -c anaconda openssl=1.0.2\n",
    "import os"
   ]
  },
  {
   "cell_type": "code",
   "execution_count": 1,
   "metadata": {},
   "outputs": [
    {
     "name": "stdout",
     "output_type": "stream",
     "text": [
      "CPU times: user 125 ms, sys: 46.7 ms, total: 172 ms\n",
      "Wall time: 19.8 s\n"
     ]
    }
   ],
   "source": [
    "%time !gunzip < /moto/eaton/projects/macaques/refpapio/refpapio.fna.gz > /moto/eaton/projects/macaques/refpapio/refpapio.fa"
   ]
  },
  {
   "cell_type": "markdown",
   "metadata": {},
   "source": [
    "Building a regular index for the illumina data:"
   ]
  },
  {
   "cell_type": "code",
   "execution_count": null,
   "metadata": {},
   "outputs": [],
   "source": [
    "!samtools faidx /moto/eaton/projects/macaques/refpapio/refpapio.fa"
   ]
  },
  {
   "cell_type": "code",
   "execution_count": null,
   "metadata": {},
   "outputs": [],
   "source": [
    "!bwa index /moto/eaton/projects/macaques/refpapio/refpapio.fa"
   ]
  },
  {
   "cell_type": "markdown",
   "metadata": {},
   "source": [
    "Building a colorspace index for our ABI SOLiD data:"
   ]
  },
  {
   "cell_type": "code",
   "execution_count": null,
   "metadata": {},
   "outputs": [],
   "source": [
    "!mkdir /moto/eaton/projects/macaques/refpapio/bowtie"
   ]
  },
  {
   "cell_type": "code",
   "execution_count": null,
   "metadata": {},
   "outputs": [],
   "source": [
    "!cp /moto/eaton/projects/macaques/refpapio/refpapio.fa /moto/eaton/projects/macaques/refpapio/bowtie/refpapio.fa"
   ]
  },
  {
   "cell_type": "code",
   "execution_count": null,
   "metadata": {},
   "outputs": [],
   "source": [
    "%%bash\n",
    "bowtie-build --color --threads 12 /moto/eaton/projects/macaques/refpapio/bowtie/refpapio.fa \\\n",
    "    /moto/eaton/projects/macaques/refpapio/bowtie/refpapio"
   ]
  },
  {
   "cell_type": "code",
   "execution_count": null,
   "metadata": {},
   "outputs": [],
   "source": []
  },
  {
   "cell_type": "code",
   "execution_count": null,
   "metadata": {},
   "outputs": [],
   "source": [
    "!mkdir /moto/eaton/projects/macaques/refpapio/color"
   ]
  },
  {
   "cell_type": "code",
   "execution_count": null,
   "metadata": {},
   "outputs": [],
   "source": [
    "!cp /moto/eaton/projects/macaques/refpapio/refpapio.fa /moto/eaton/projects/macaques/refpapio/color/refpapio.fa"
   ]
  },
  {
   "cell_type": "code",
   "execution_count": null,
   "metadata": {},
   "outputs": [],
   "source": [
    "!bwa index -a bwtsw -c /moto/eaton/projects/macaques/refpapio/color/refpapio.fa"
   ]
  },
  {
   "cell_type": "markdown",
   "metadata": {},
   "source": [
    "#### Mapping colorspace data with `bwa aln` and `samse/sampe`:"
   ]
  },
  {
   "cell_type": "markdown",
   "metadata": {},
   "source": [
    "If you have exclusive access to a computing node for long periods of time, you can iterate through all the files using the following for loop where `-t` is your desired number of threads:"
   ]
  },
  {
   "cell_type": "code",
   "execution_count": null,
   "metadata": {},
   "outputs": [],
   "source": [
    "##creating a folder to put the BAM files into \n",
    "!mkdir /moto/eaton/projects/macaques/mapped/"
   ]
  },
  {
   "cell_type": "code",
   "execution_count": 5,
   "metadata": {},
   "outputs": [
    {
     "name": "stdout",
     "output_type": "stream",
     "text": [
      "Process is interrupted.\n"
     ]
    }
   ],
   "source": [
    "%%bash\n",
    "bowtie /moto/eaton/projects/macaques/refpapio/bowtie/refpapio -C --threads 12 --sam \\\n",
    "    --sam-RG ID:fasso --sam-RG SM:fasso -f \\\n",
    "    /moto/eaton/projects/macaques/fastqdump/fasso/DRR001227_F3.csfasta \\\n",
    "    -Q /moto/eaton/projects/macaques/fastqdump/fasso/DRR001227_F3_QV.qual \\\n",
    "    | samtools view -Sb -@ 4 -> /moto/eaton/projects/macaques/mapped/bowtieDRR001227.rg.raw.bam"
   ]
  },
  {
   "cell_type": "code",
   "execution_count": 6,
   "metadata": {},
   "outputs": [
    {
     "name": "stdout",
     "output_type": "stream",
     "text": [
      "Process is interrupted.\n"
     ]
    }
   ],
   "source": [
    "%%bash\n",
    "bowtie /moto/eaton/projects/macaques/refpapio/bowtie/refpapio -C --threads 12 --sam \\\n",
    "    --sam-RG ID:fasso --sam-RG SM:fasso -f \\\n",
    "    -1 /moto/eaton/projects/macaques/fastqdump/fasso/DRR001233_F3.csfasta \\\n",
    "    -2 /moto/eaton/projects/macaques/fastqdump/fasso/DRR001233_R3.csfasta \\\n",
    "    --Q1 /moto/eaton/projects/macaques/fastqdump/fasso/DRR001233_F3_QV.qual \\\n",
    "    --Q2 /moto/eaton/projects/macaques/fastqdump/fasso/DRR001233_R3_QV.qual \\\n",
    "    | samtools view -Sb -@ 4 -> /moto/eaton/projects/macaques/mapped/bowtieDRR001233.rg.raw.bam"
   ]
  },
  {
   "cell_type": "code",
   "execution_count": null,
   "metadata": {},
   "outputs": [],
   "source": []
  },
  {
   "cell_type": "code",
   "execution_count": null,
   "metadata": {},
   "outputs": [],
   "source": []
  },
  {
   "cell_type": "code",
   "execution_count": null,
   "metadata": {},
   "outputs": [],
   "source": [
    "%%bash\n",
    "for i in /moto/eaton/projects/macaques/filteredfastq/*.fastq; do\n",
    "    bwa aln -c -t 12 \\\n",
    "        /moto/eaton/projects/macaques/refpapio/color/refpapio.fa \\\n",
    "        /moto/eaton/projects/macaques/filteredfastq/$i \\\n",
    "        > /moto/eaton/projects/macaques/filteredfastq/$i.sai\n",
    "    done"
   ]
  },
  {
   "cell_type": "markdown",
   "metadata": {},
   "source": [
    "For loop for the single end (`bwa samse`) data:"
   ]
  },
  {
   "cell_type": "code",
   "execution_count": null,
   "metadata": {},
   "outputs": [],
   "source": [
    "%%bash\n",
    "for i in DRR001227 DRR001228 DRR001229 DRR001230; do\n",
    "    bwa samse /moto/eaton/projects/macaques/refpapio/color/refpapio.fa \\\n",
    "        -r '@RG\\tID:fasso\\tSM:fasso' \\\n",
    "        /moto/eaton/projects/macaques/filteredfastq/${i}_F.sai \\\n",
    "        /moto/eaton/projects/macaques/filteredfastq/${i}_F.fastq \\\n",
    "        > /moto/eaton/projects/macaques/mapped/$i.rg.raw.sam\n",
    "    done"
   ]
  },
  {
   "cell_type": "markdown",
   "metadata": {},
   "source": [
    "For loop for the mate-pair (`bwa sampe`) data:"
   ]
  },
  {
   "cell_type": "code",
   "execution_count": null,
   "metadata": {},
   "outputs": [],
   "source": [
    "%%bash\n",
    "for i in DRR001231 DRR001232 DRR001233; do\n",
    "    bwa sampe /moto/eaton/projects/macaques/refpapio/color/refpapio.fa \\\n",
    "        -r '@RG\\tID:fasso\\tSM:fasso' \\\n",
    "        /moto/eaton/projects/macaques/filteredfastq/${i}_R.sai \\\n",
    "        /moto/eaton/projects/macaques/filteredfastq/${i}_F.sai \\\n",
    "        /moto/eaton/projects/macaques/filteredfastq/${i}_R.fastq \\\n",
    "        /moto/eaton/projects/macaques/filteredfastq/${i}_F.fastq \\\n",
    "        > /moto/eaton/projects/macaques/mapped/$i.rg.raw.sam\n",
    "    done"
   ]
  },
  {
   "cell_type": "markdown",
   "metadata": {},
   "source": [
    "While working on this project we had to often share resources so we submitted SLURM jobs for individual fastq files with the following format (shown for the mate-pair ABI SOLiD data, convert cells to code cells if you want to run them this way):"
   ]
  },
  {
   "cell_type": "markdown",
   "metadata": {},
   "source": [
    "%%bash\n",
    "bwa aln -c -t 12 \\\n",
    "    /moto/eaton/projects/macaques/refpapio/color/refpapio.fa \\\n",
    "    /moto/eaton/projects/macaques/filteredfastq/DRR001231_F.fastq \\\n",
    "    > /moto/eaton/projects/macaques/filteredfastq/DRR001231_F.sai"
   ]
  },
  {
   "cell_type": "markdown",
   "metadata": {},
   "source": [
    "%%bash\n",
    "bwa aln -c -t 12 \\\n",
    "    /moto/eaton/projects/macaques/refpapio/color/refpapio.fa \\\n",
    "    /moto/eaton/projects/macaques/filteredfastq/DRR001231_R.fastq \\\n",
    "    > /moto/eaton/projects/macaques/filteredfastq/DRR001231_R.sai"
   ]
  },
  {
   "cell_type": "markdown",
   "metadata": {},
   "source": [
    "%%bash\n",
    "bwa sampe /moto/eaton/projects/macaques/refpapio/color/refpapio.fa \\\n",
    "    -r '@RG\\tID:fasso\\tSM:fasso' \\\n",
    "    /moto/eaton/projects/macaques/filteredfastq/DRR001231_R.sai \\\n",
    "    /moto/eaton/projects/macaques/filteredfastq/DRR001231_F.sai \\\n",
    "    /moto/eaton/projects/macaques/filteredfastq/DRR001231_R.fastq \\\n",
    "    /moto/eaton/projects/macaques/filteredfastq/DRR001231_F.fastq \\\n",
    "    > /moto/eaton/projects/macaques/mapped/DRR001231.rg.raw.sam"
   ]
  },
  {
   "cell_type": "markdown",
   "metadata": {},
   "source": [
    "And now we convert the SAM files to BAM files using `samtools` (change `-@` arg to the number of threads available to you):"
   ]
  },
  {
   "cell_type": "code",
   "execution_count": 1,
   "metadata": {},
   "outputs": [
    {
     "name": "stdout",
     "output_type": "stream",
     "text": [
      "/usr/bin/sh: samtools: command not found\r\n"
     ]
    }
   ],
   "source": [
    "!samtools flagstat /moto/eaton/projects/macaques/mapped/fuscata2.1.raw.sam"
   ]
  },
  {
   "cell_type": "code",
   "execution_count": 6,
   "metadata": {},
   "outputs": [],
   "source": [
    "samtools view -Sb -@ 10 /moto/eaton/projects/macaques/mapped/fuscata2.1.raw.sam > /moto/eaton/projects/macaques/mapped/fuscata2.1.raw.bam"
   ]
  },
  {
   "cell_type": "code",
   "execution_count": null,
   "metadata": {},
   "outputs": [],
   "source": [
    "samtools view -Sb -@ 12 /moto/eaton/projects/macaques/mapped/fuscata2.2.raw.sam > /moto/eaton/projects/macaques/mapped/fuscata2.2.raw.bam"
   ]
  },
  {
   "cell_type": "code",
   "execution_count": null,
   "metadata": {},
   "outputs": [],
   "source": [
    "%%bash\n",
    "for i in DRR001231f DRR001232f DRR001233f DRR001231r DRR001232r DRR001233r; do\n",
    "    samtools view -Sb -@ 10 /moto/eaton/projects/macaques/mapped/$i.raw.sam \\\n",
    "        > /moto/eaton/projects/macaques/mapped/$i.raw.bam\n",
    "    done"
   ]
  },
  {
   "cell_type": "markdown",
   "metadata": {},
   "source": [
    "Since the colorspace fastq files were a mix of mate-pair and single end data, we could not merge them before but we can merge the BAM files that resulted from the mapping and then sort the BAM file using `sambamba`:"
   ]
  },
  {
   "cell_type": "code",
   "execution_count": 2,
   "metadata": {},
   "outputs": [
    {
     "name": "stderr",
     "output_type": "stream",
     "text": [
      "\n",
      "sambamba 0.6.8 by Artem Tarasov and Pjotr Prins (C) 2012-2018\n",
      "    LDC 1.11.0 / DMD v2.081.2 / LLVM6.0.1 / bootstrap LDC - the LLVM D compiler (0.17.6git-0156298)\n",
      "\n",
      "\n",
      "sambamba 0.6.8 by Artem Tarasov and Pjotr Prins (C) 2012-2018\n",
      "    LDC 1.11.0 / DMD v2.081.2 / LLVM6.0.1 / bootstrap LDC - the LLVM D compiler (0.17.6git-0156298)\n",
      "\n",
      "\n",
      "sambamba 0.6.8 by Artem Tarasov and Pjotr Prins (C) 2012-2018\n",
      "    LDC 1.11.0 / DMD v2.081.2 / LLVM6.0.1 / bootstrap LDC - the LLVM D compiler (0.17.6git-0156298)\n",
      "\n",
      "\n",
      "sambamba 0.6.8 by Artem Tarasov and Pjotr Prins (C) 2012-2018\n",
      "    LDC 1.11.0 / DMD v2.081.2 / LLVM6.0.1 / bootstrap LDC - the LLVM D compiler (0.17.6git-0156298)\n",
      "\n",
      "\n",
      "sambamba 0.6.8 by Artem Tarasov and Pjotr Prins (C) 2012-2018\n",
      "    LDC 1.11.0 / DMD v2.081.2 / LLVM6.0.1 / bootstrap LDC - the LLVM D compiler (0.17.6git-0156298)\n",
      "\n",
      "\n",
      "sambamba 0.6.8 by Artem Tarasov and Pjotr Prins (C) 2012-2018\n",
      "    LDC 1.11.0 / DMD v2.081.2 / LLVM6.0.1 / bootstrap LDC - the LLVM D compiler (0.17.6git-0156298)\n",
      "\n",
      "\n",
      "sambamba 0.6.8 by Artem Tarasov and Pjotr Prins (C) 2012-2018\n",
      "    LDC 1.11.0 / DMD v2.081.2 / LLVM6.0.1 / bootstrap LDC - the LLVM D compiler (0.17.6git-0156298)\n",
      "\n"
     ]
    }
   ],
   "source": [
    "%%bash\n",
    "for i in fuscata2.1 fuscata2.2 DRR001231f DRR001232f DRR001233f DRR001231r DRR001232r DRR001233r; do\n",
    "    sambamba sort -t 12 --tmpdir=/moto/eaton/projects/macaques/tmp/ \\\n",
    "        /moto/eaton/projects/macaques/mapped/$i.raw.bam\n",
    "    done"
   ]
  },
  {
   "cell_type": "code",
   "execution_count": 2,
   "metadata": {},
   "outputs": [
    {
     "name": "stdout",
     "output_type": "stream",
     "text": [
      "/moto/eaton/projects/macaques/mapped/DRR001227.rg.raw.sorted.bam /moto/eaton/projects/macaques/mapped/DRR001228.rg.raw.sorted.bam /moto/eaton/projects/macaques/mapped/DRR001229.rg.raw.sorted.bam /moto/eaton/projects/macaques/mapped/DRR001230.rg.raw.sorted.bam /moto/eaton/projects/macaques/mapped/DRR001231f.raw.sorted.bam /moto/eaton/projects/macaques/mapped/DRR001231r.raw.sorted.bam /moto/eaton/projects/macaques/mapped/DRR001232f.raw.sorted.bam /moto/eaton/projects/macaques/mapped/DRR001232r.raw.sorted.bam /moto/eaton/projects/macaques/mapped/DRR001233f.raw.sorted.bam /moto/eaton/projects/macaques/mapped/DRR001233r.raw.sorted.bam\r\n"
     ]
    }
   ],
   "source": [
    "!echo /moto/eaton/projects/macaques/mapped/DRR0012*.raw.sorted.bam"
   ]
  },
  {
   "cell_type": "code",
   "execution_count": 3,
   "metadata": {},
   "outputs": [
    {
     "name": "stdout",
     "output_type": "stream",
     "text": [
      "\r\n",
      "sambamba 0.6.8 by Artem Tarasov and Pjotr Prins (C) 2012-2018\r\n",
      "    LDC 1.11.0 / DMD v2.081.2 / LLVM6.0.1 / bootstrap LDC - the LLVM D compiler (0.17.6git-0156298)\r\n",
      "\r\n"
     ]
    }
   ],
   "source": [
    "sambamba merge -t 12 /moto/eaton/projects/macaques/mapped/fasso.rg.raw.bam /moto/eaton/projects/macaques/mapped/DRR0012*.raw.sorted.bam"
   ]
  },
  {
   "cell_type": "code",
   "execution_count": null,
   "metadata": {},
   "outputs": [],
   "source": [
    "sambamba merge -t 12 /moto/eaton/projects/macaques/mapped/fuscata2.rg.raw.bam /moto/eaton/projects/macaques/mapped/fuscata2.*.raw.sorted.bam"
   ]
  },
  {
   "cell_type": "code",
   "execution_count": null,
   "metadata": {},
   "outputs": [],
   "source": []
  },
  {
   "cell_type": "code",
   "execution_count": null,
   "metadata": {},
   "outputs": [],
   "source": []
  },
  {
   "cell_type": "code",
   "execution_count": null,
   "metadata": {},
   "outputs": [],
   "source": []
  },
  {
   "cell_type": "code",
   "execution_count": 1,
   "metadata": {},
   "outputs": [],
   "source": [
    "!mkdir /moto/eaton/projects/macaques/mapped/Chr4"
   ]
  },
  {
   "cell_type": "code",
   "execution_count": 2,
   "metadata": {},
   "outputs": [],
   "source": [
    "%%bash\n",
    "source ~/.bashrc\n",
    "conda activate py2\n",
    "for i in ngmDRR002233 ngmSRR1024051 ngmSRR2981114 ngmSRR2981139 ngmSRR2981140 ngmSRR4453966 \\\n",
    "ngmSRR4454020 ngmSRR4454026 ngmSRR5628058 ngmSRR5947292 ngmSRR5947293 ngmSRR5947294 \\\n",
    "ngmSRR7588781 ngmSRR8285768 ngmfasno ngmfasso ngmfuscata2 ngmnemestrina2 ngmsilenus ngmsylvanus; do\n",
    "    samtools view -b -@ 12 /moto/eaton/projects/macaques/mapped/$i.rg.raw.sorted.bam NC_018155.2 > \\\n",
    "        /moto/eaton/projects/macaques/mapped/Chr4/$i.Chr4.bam\n",
    "    done"
   ]
  },
  {
   "cell_type": "code",
   "execution_count": 3,
   "metadata": {},
   "outputs": [],
   "source": [
    "!mkdir /moto/eaton/projects/macaques/mapped/Chr3"
   ]
  },
  {
   "cell_type": "code",
   "execution_count": 4,
   "metadata": {},
   "outputs": [],
   "source": [
    "%%bash\n",
    "source ~/.bashrc\n",
    "conda activate py2\n",
    "for i in ngmDRR002233 ngmSRR1024051 ngmSRR2981114 ngmSRR2981139 ngmSRR2981140 ngmSRR4453966 \\\n",
    "ngmSRR4454020 ngmSRR4454026 ngmSRR5628058 ngmSRR5947292 ngmSRR5947293 ngmSRR5947294 \\\n",
    "ngmSRR7588781 ngmSRR8285768 ngmfasno ngmfasso ngmfuscata2 ngmnemestrina2 ngmsilenus ngmsylvanus; do\n",
    "    samtools view -b -@ 12 /moto/eaton/projects/macaques/mapped/$i.rg.raw.sorted.bam NC_018154.2 > \\\n",
    "        /moto/eaton/projects/macaques/mapped/Chr3/$i.Chr3.bam\n",
    "    done"
   ]
  },
  {
   "cell_type": "code",
   "execution_count": 5,
   "metadata": {},
   "outputs": [],
   "source": [
    "!mkdir /moto/eaton/projects/macaques/mapped/Chr2"
   ]
  },
  {
   "cell_type": "code",
   "execution_count": 6,
   "metadata": {},
   "outputs": [],
   "source": [
    "%%bash\n",
    "source ~/.bashrc\n",
    "conda activate py2\n",
    "for i in ngmDRR002233 ngmSRR1024051 ngmSRR2981114 ngmSRR2981139 ngmSRR2981140 ngmSRR4453966 \\\n",
    "ngmSRR4454020 ngmSRR4454026 ngmSRR5628058 ngmSRR5947292 ngmSRR5947293 ngmSRR5947294 \\\n",
    "ngmSRR7588781 ngmSRR8285768 ngmfasno ngmfasso ngmfuscata2 ngmnemestrina2 ngmsilenus ngmsylvanus; do\n",
    "    samtools view -b -@ 12 /moto/eaton/projects/macaques/mapped/$i.rg.raw.sorted.bam NC_018153.2 > \\\n",
    "        /moto/eaton/projects/macaques/mapped/Chr2/$i.Chr2.bam\n",
    "    done"
   ]
  },
  {
   "cell_type": "code",
   "execution_count": 7,
   "metadata": {},
   "outputs": [],
   "source": [
    "!mkdir /moto/eaton/projects/macaques/mapped/Chr1"
   ]
  },
  {
   "cell_type": "code",
   "execution_count": 8,
   "metadata": {},
   "outputs": [],
   "source": [
    "%%bash\n",
    "source ~/.bashrc\n",
    "conda activate py2\n",
    "for i in ngmDRR002233 ngmSRR1024051 ngmSRR2981114 ngmSRR2981139 ngmSRR2981140 ngmSRR4453966 \\\n",
    "ngmSRR4454020 ngmSRR4454026 ngmSRR5628058 ngmSRR5947292 ngmSRR5947293 ngmSRR5947294 \\\n",
    "ngmSRR7588781 ngmSRR8285768 ngmfasno ngmfasso ngmfuscata2 ngmnemestrina2 ngmsilenus ngmsylvanus; do\n",
    "    samtools view -b -@ 12 /moto/eaton/projects/macaques/mapped/$i.rg.raw.sorted.bam NC_018152.2 > \\\n",
    "        /moto/eaton/projects/macaques/mapped/Chr1/$i.Chr1.bam\n",
    "    done"
   ]
  },
  {
   "cell_type": "code",
   "execution_count": null,
   "metadata": {},
   "outputs": [],
   "source": []
  },
  {
   "cell_type": "code",
   "execution_count": null,
   "metadata": {},
   "outputs": [],
   "source": []
  },
  {
   "cell_type": "code",
   "execution_count": null,
   "metadata": {},
   "outputs": [],
   "source": []
  },
  {
   "cell_type": "code",
   "execution_count": null,
   "metadata": {},
   "outputs": [],
   "source": []
  },
  {
   "cell_type": "code",
   "execution_count": null,
   "metadata": {},
   "outputs": [],
   "source": []
  },
  {
   "cell_type": "code",
   "execution_count": null,
   "metadata": {},
   "outputs": [],
   "source": [
    "%%bash\n",
    "source ~/.bashrc\n",
    "conda activate py2\n",
    "for j in Chr4 Chr3 Chr2 Chr1; do\n",
    "    for i in ngmDRR002233 ngmSRR1024051 ngmSRR2981114 ngmSRR2981139 ngmSRR2981140 ngmSRR4453966 \\\n",
    "    ngmSRR4454020 ngmSRR4454026 ngmSRR5628058 ngmSRR5947292 ngmSRR5947293 ngmSRR5947294 \\\n",
    "    ngmSRR7588781 ngmSRR8285768 ngmfasno ngmfasso ngmfuscata2 ngmnemestrina2 ngmsilenus ngmsylvanus; do\n",
    "        samtools index /moto/eaton/projects/macaques/mapped/$j/$i.$j.bam\n",
    "    done\n",
    "done"
   ]
  },
  {
   "cell_type": "code",
   "execution_count": null,
   "metadata": {},
   "outputs": [],
   "source": [
    "%%bash\n",
    "source ~/.bashrc\n",
    "conda activate py2\n",
    "for j in Chr4 Chr3 Chr2 Chr1; do\n",
    "    for i in ngmDRR002233 ngmSRR1024051 ngmSRR2981114 ngmSRR2981139 ngmSRR2981140 ngmSRR4453966 \\\n",
    "    ngmSRR4454020 ngmSRR4454026 ngmSRR5628058 ngmSRR5947292 ngmSRR5947293 ngmSRR5947294 \\\n",
    "    ngmSRR7588781 ngmSRR8285768 ngmfasno ngmfasso ngmfuscata2 ngmnemestrina2 ngmsilenus ngmsylvanus; do\n",
    "        sambamba markdup -t 12 --overflow-list-size 6000000 --hash-table-size 6000000 \\\n",
    "            --tmpdir=/moto/eaton/projects/macaques/tmp \\\n",
    "            /moto/eaton/projects/macaques/mapped/$j/$i.$j.bam \\\n",
    "            /moto/eaton/projects/macaques/mapped/$j/$i.$j.mark.bam\n",
    "    done\n",
    "done"
   ]
  },
  {
   "cell_type": "code",
   "execution_count": null,
   "metadata": {},
   "outputs": [],
   "source": [
    "!sbatch /moto/eaton/projects/macaques/scripts/slurm-scripts/freebayesChr4.sh"
   ]
  },
  {
   "cell_type": "code",
   "execution_count": null,
   "metadata": {},
   "outputs": [],
   "source": [
    "!sbatch /moto/eaton/projects/macaques/scripts/slurm-scripts/freebayesChr3.sh"
   ]
  },
  {
   "cell_type": "code",
   "execution_count": null,
   "metadata": {},
   "outputs": [],
   "source": [
    "!sbatch /moto/eaton/projects/macaques/scripts/slurm-scripts/freebayesChr2.sh"
   ]
  },
  {
   "cell_type": "code",
   "execution_count": null,
   "metadata": {},
   "outputs": [],
   "source": [
    "!sbatch /moto/eaton/projects/macaques/scripts/slurm-scripts/freebayesChr1.sh"
   ]
  },
  {
   "cell_type": "code",
   "execution_count": null,
   "metadata": {},
   "outputs": [],
   "source": [
    "!scancel -u nsl2119 333457"
   ]
  },
  {
   "cell_type": "code",
   "execution_count": null,
   "metadata": {},
   "outputs": [],
   "source": []
  },
  {
   "cell_type": "code",
   "execution_count": null,
   "metadata": {},
   "outputs": [],
   "source": []
  },
  {
   "cell_type": "code",
   "execution_count": null,
   "metadata": {},
   "outputs": [],
   "source": []
  },
  {
   "cell_type": "code",
   "execution_count": null,
   "metadata": {},
   "outputs": [],
   "source": [
    "freebayes -f /moto/eaton/projects/macaques/refpapio/refpapio.fa \\\n",
    "    --genotype-qualities \\\n",
    "    /moto/eaton/projects/macaques/mapped/MT/ngmDRR002233.MT.mark.bam \\\n",
    "    /moto/eaton/projects/macaques/mapped/MT/ngmSRR1024051.MT.mark.bam \\\n",
    "    /moto/eaton/projects/macaques/mapped/MT/ngmSRR2981114.MT.mark.bam \\\n",
    "    /moto/eaton/projects/macaques/mapped/MT/ngmSRR2981139.MT.mark.bam \\\n",
    "    /moto/eaton/projects/macaques/mapped/MT/ngmSRR2981140.MT.mark.bam \\\n",
    "    /moto/eaton/projects/macaques/mapped/MT/ngmSRR4453966.MT.mark.bam \\\n",
    "    /moto/eaton/projects/macaques/mapped/MT/ngmSRR4454020.MT.mark.bam \\\n",
    "    /moto/eaton/projects/macaques/mapped/MT/ngmSRR4454026.MT.mark.bam \\\n",
    "    /moto/eaton/projects/macaques/mapped/MT/ngmSRR5628058.MT.mark.bam \\\n",
    "    /moto/eaton/projects/macaques/mapped/MT/ngmSRR5947292.MT.mark.bam \\\n",
    "    /moto/eaton/projects/macaques/mapped/MT/ngmSRR5947293.MT.mark.bam \\\n",
    "    /moto/eaton/projects/macaques/mapped/MT/ngmSRR5947294.MT.mark.bam \\\n",
    "    /moto/eaton/projects/macaques/mapped/MT/ngmSRR7588781.MT.mark.bam \\\n",
    "    /moto/eaton/projects/macaques/mapped/MT/ngmSRR8285768.MT.mark.bam \\\n",
    "    /moto/eaton/projects/macaques/mapped/MT/ngmfasno.MT.mark.bam \\\n",
    "    /moto/eaton/projects/macaques/mapped/MT/fasso.MT.mark.bam \\\n",
    "    /moto/eaton/projects/macaques/mapped/MT/ngmfuscata2.MT.mark.bam \\\n",
    "    /moto/eaton/projects/macaques/mapped/MT/ngmnemestrina2.MT.mark.bam \\\n",
    "    /moto/eaton/projects/macaques/mapped/MT/ngmsilenus.MT.mark.bam \\\n",
    "    /moto/eaton/projects/macaques/mapped/MT/ngmsylvanus.MT.mark.bam \\\n",
    "    >/moto/eaton/projects/macaques/mapped/MT/calls/MT_2.raw.vcf"
   ]
  },
  {
   "cell_type": "code",
   "execution_count": null,
   "metadata": {},
   "outputs": [],
   "source": [
    "freebayes-parallel <(fasta_generate_regions.py /moto/eaton/projects/macaques/refpapio/refpapio.fa 100000) 12 \\\n",
    "    -f /moto/eaton/projects/macaques/refpapio/refpapio.fa \\\n",
    "    /moto/eaton/projects/macaques/mapped/Chr19/ngmDRR002233.Chr19.mark.bam \\\n",
    "    /moto/eaton/projects/macaques/mapped/Chr19/ngmSRR1024051.Chr19.mark.bam \\\n",
    "    /moto/eaton/projects/macaques/mapped/Chr19/ngmSRR2981114.Chr19.mark.bam \\\n",
    "    /moto/eaton/projects/macaques/mapped/Chr19/ngmSRR2981139.Chr19.mark.bam \\\n",
    "    /moto/eaton/projects/macaques/mapped/Chr19/ngmSRR2981140.Chr19.mark.bam \\\n",
    "    /moto/eaton/projects/macaques/mapped/Chr19/ngmSRR4453966.Chr19.mark.bam \\\n",
    "    /moto/eaton/projects/macaques/mapped/Chr19/ngmSRR4454020.Chr19.mark.bam \\\n",
    "    /moto/eaton/projects/macaques/mapped/Chr19/ngmSRR4454026.Chr19.mark.bam \\\n",
    "    /moto/eaton/projects/macaques/mapped/Chr19/ngmSRR5628058.Chr19.mark.bam \\\n",
    "    /moto/eaton/projects/macaques/mapped/Chr19/ngmSRR5947292.Chr19.mark.bam \\\n",
    "    /moto/eaton/projects/macaques/mapped/Chr19/ngmSRR5947293.Chr19.mark.bam \\\n",
    "    /moto/eaton/projects/macaques/mapped/Chr19/ngmSRR5947294.Chr19.mark.bam \\\n",
    "    /moto/eaton/projects/macaques/mapped/Chr19/ngmSRR7588781.Chr19.mark.bam \\\n",
    "    /moto/eaton/projects/macaques/mapped/Chr19/ngmSRR8285768.Chr19.mark.bam \\\n",
    "    /moto/eaton/projects/macaques/mapped/Chr19/ngmfasno.Chr19.mark.bam \\\n",
    "    /moto/eaton/projects/macaques/mapped/Chr19/fasso.Chr19.mark.bam \\\n",
    "    /moto/eaton/projects/macaques/mapped/Chr19/ngmfuscata2.Chr19.mark.bam \\\n",
    "    /moto/eaton/projects/macaques/mapped/Chr19/ngmnemestrina2.Chr19.mark.bam \\\n",
    "    /moto/eaton/projects/macaques/mapped/Chr19/ngmsilenus.Chr19.mark.bam \\\n",
    "    /moto/eaton/projects/macaques/mapped/Chr19/ngmsylvanus.Chr19.mark.bam \\\n",
    "    >/moto/eaton/projects/macaques/mapped/Chr19/calls/Chr19_2.raw.vcf"
   ]
  },
  {
   "cell_type": "markdown",
   "metadata": {},
   "source": [
    "### A) Mapping and sorting northern _Macaca mulatta_:"
   ]
  },
  {
   "cell_type": "code",
   "execution_count": 8,
   "metadata": {},
   "outputs": [
    {
     "name": "stdout",
     "output_type": "stream",
     "text": [
      "/moto/eaton/projects/macaques/filteredfastq/fuscata2.filtered_1.fastq.gz\n",
      "/moto/eaton/projects/macaques/filteredfastq/fuscata2.filtered_2.fastq.gz\n",
      "/moto/eaton/projects/macaques/filteredfastq/SRR8285768.filtered_1.fastq.gz\n",
      "/moto/eaton/projects/macaques/filteredfastq/SRR8285768.filtered_2.fastq.gz\n"
     ]
    }
   ],
   "source": [
    "%%bash\n",
    "for i in /moto/eaton/projects/macaques/filteredfastq/*.filtered_*; do\n",
    "    echo $i\n",
    "    done"
   ]
  },
  {
   "cell_type": "code",
   "execution_count": null,
   "metadata": {},
   "outputs": [
    {
     "name": "stdout",
     "output_type": "stream",
     "text": [
      "[MAIN] NextGenMap 0.5.5\n",
      "[MAIN] Startup : x64 (build Jul 15 2018 19:15:59)\n",
      "[MAIN] Starting time: 2019-02-11.23:15:24\n",
      "[CONFIG] Parameter:  --affine 0 --argos_min_score 0 --bin_size 2 --block_multiplier 2 --broken_pairs 0 --bs_cutoff 6 --bs_mapping 0 --cpu_threads 24 --dualstrand 1 --fast 0 --fast_pairing 0 --force_rlength_check 0 --format 1 --gap_extend_penalty 5 --gap_read_penalty 20 --gap_ref_penalty 20 --hard_clip 0 --keep_tags 0 --kmer 13 --kmer_min 0 --kmer_skip 2 --match_bonus 10 --match_bonus_tc 2 --match_bonus_tt 10 --max_cmrs 2147483647 --max_equal 1 --max_insert_size 1000 --max_polya -1 --max_read_length 0 --min_identity 0.650000 --min_insert_size 0 --min_mq 0 --min_residues 0.500000 --min_score 0.000000 --mismatch_penalty 15 --mode 0 --no_progress 1 --no_unal 0 --ocl_threads 1 --overwrite 1 --pair_score_cutoff 0.900000 --paired 1 --parse_all 1 --pe_delimiter / --qry1 /moto/eaton/projects/macaques/filteredfastq/SRR5628058.filtered_1.fastq.gz --qry2 /moto/eaton/projects/macaques/filteredfastq/SRR5628058.filtered_2.fastq.gz --qry_count -1 --qry_start 0 --ref /moto/eaton/projects/macaques/refpapio/refpapio.fna.gz --ref_mode -1 --rg_id SRR5628058 --rg_sm SRR5628058 --sensitive 0 --silent_clip 0 --skip_mate_check 0 --skip_save 0 --slam_seq 0 --step_count 4 --strata 0 --topn 1 --trim5 0 --update_check 0 --very_fast 0 --very_sensitive 0\n",
      "[NGM] Wrinting output (SAM) to stdout\n",
      "[SEQPROV] Reading encoded reference from /moto/eaton/projects/macaques/refpapio/refpapio.fna.gz-enc.2.ngm\n",
      "[SEQPROV] Reading 3022 Mbp from disk took 1.73s\n",
      "[PREPROCESS] Reading RefTable from /moto/eaton/projects/macaques/refpapio/refpapio.fna.gz-ht-13-2.3.ngm\n",
      "[PREPROCESS] Reading from disk took 2.24s\n",
      "[PREPROCESS] Max. k-mer frequency set so 1058!\n",
      "[INPUT] Input is paired end data.\n",
      "[INPUT] Opening file /moto/eaton/projects/macaques/filteredfastq/SRR5628058.filtered_1.fastq.gz for reading\n",
      "[INPUT] Opening file /moto/eaton/projects/macaques/filteredfastq/SRR5628058.filtered_2.fastq.gz for reading\n",
      "[INPUT] Input is Fastq\n",
      "[INPUT] Estimating parameter from data\n",
      "[INPUT] Input reads don't have the same length!\n",
      "[INPUT] Maximum read length found in the first 10000000 reads is 150. For longer reads only the first 165 bp will be mapped.\n",
      "[INPUT] The maximum read length can be overwritten with the '--max-read-length' parameter. With '--force-rlength-check', NextGenMap will run through all reads to find the max. read length. This might take some time.\n",
      "[INPUT] Average read length: 149 (min: 51, max: 166)\n",
      "[INPUT] Corridor width: 27\n",
      "[INPUT] Average kmer hits pro read: 30.593081\n",
      "[INPUT] Max possible kmer hit: 45\n",
      "[INPUT] Estimated sensitivity: 0.679846\n",
      "[INPUT] Estimating parameter took 52.110s\n",
      "[INPUT] Input is Fastq\n",
      "[INPUT] Input is Fastq\n",
      "[OPENCL] Available platforms: 1\n",
      "[OPENCL] AMD Accelerated Parallel Processing\n",
      "[OPENCL] Selecting OpenCl platform: AMD Accelerated Parallel Processing\n",
      "[OPENCL] Platform: OpenCL 1.2 AMD-APP (1214.3)\n",
      "[OPENCL] 1 CPU device found.\n",
      "[OPENCL] Device 0: Intel(R) Xeon(R) Gold 6126 CPU @ 2.60GHz (Driver: 1214.3 (sse2,avx))\n",
      "[OPENCL] 24 CPU cores available.\n"
     ]
    }
   ],
   "source": [
    "%time !ngm --no-progress --rg-id SRR5628058 --rg-sm SRR5628058 -t 24 -r /moto/eaton/projects/macaques/refpapio/refpapio.fna.gz \\\n",
    "    -1 /moto/eaton/projects/macaques/filteredfastq/SRR5628058.filtered_1.fastq.gz \\\n",
    "    -2 /moto/eaton/projects/macaques/filteredfastq/SRR5628058.filtered_2.fastq.gz \\\n",
    "    | samtools view -b -@ 3 -> /moto/eaton/projects/macaques/mapped/ngmSRR5628058.rg.raw.bam"
   ]
  },
  {
   "cell_type": "code",
   "execution_count": null,
   "metadata": {},
   "outputs": [],
   "source": [
    "%time !ngm --no-progress --rg-id fasno --rg-sm fasno -t 24 -r /moto/eaton/projects/macaques/refpapio/refpapio.fna.gz \\\n",
    "    -1 /moto/eaton/projects/macaques/filteredfastq/fasno.filtered_1.fastq.gz \\\n",
    "    -2 /moto/eaton/projects/macaques/filteredfastq/fasno.filtered_2.fastq.gz \\\n",
    "    | samtools view -b -@ 3 -> /moto/eaton/projects/macaques/mapped/ngmfasno.rg.raw.bam"
   ]
  },
  {
   "cell_type": "code",
   "execution_count": null,
   "metadata": {},
   "outputs": [],
   "source": [
    "%time !ngm --no-progress --rg-id SRR2981139 --rg-sm SRR2981139 -t 24 -r /moto/eaton/projects/macaques/refpapio/refpapio.fna.gz \\\n",
    "    -1 /moto/eaton/projects/macaques/filteredfastq/SRR2981139.filtered_1.fastq.gz \\\n",
    "    -2 /moto/eaton/projects/macaques/filteredfastq/SRR2981139.filtered_2.fastq.gz \\\n",
    "    | samtools view -b -@ 3 -> /moto/eaton/projects/macaques/mapped/ngmSRR2981139.rg.raw.bam"
   ]
  },
  {
   "cell_type": "code",
   "execution_count": null,
   "metadata": {},
   "outputs": [],
   "source": [
    "%time !ngm --no-progress --rg-id SRR1024051 --rg-sm SRR1024051 -t 24 -r /moto/eaton/projects/macaques/refpapio/refpapio.fna.gz \\\n",
    "    -1 /moto/eaton/projects/macaques/filteredfastq/SRR1024051.filtered_1.fastq.gz \\\n",
    "    -2 /moto/eaton/projects/macaques/filteredfastq/SRR1024051.filtered_2.fastq.gz \\\n",
    "    | samtools view -b -@ 3 -> /moto/eaton/projects/macaques/mapped/ngmSRR5628058.rg.raw.bam"
   ]
  },
  {
   "cell_type": "code",
   "execution_count": null,
   "metadata": {},
   "outputs": [],
   "source": [
    "%time !ngm --no-progress --rg-id macintro --rg-sm SRR5628058 -t 24 -r /moto/eaton/projects/macaques/refpapio/refpapio.fna.gz \\\n",
    "    -1 /moto/eaton/projects/macaques/filteredfastq/SRR5628058.filtered_1.fastq.gz \\\n",
    "    -2 /moto/eaton/projects/macaques/filteredfastq/SRR5628058.filtered_2.fastq.gz \\\n",
    "    | samtools view -b -@ 3 -> /moto/eaton/projects/macaques/mapped/ngmSRR5628058.rg.raw.bam"
   ]
  },
  {
   "cell_type": "code",
   "execution_count": null,
   "metadata": {},
   "outputs": [],
   "source": [
    "%time !ngm --no-progress --rg-id macintro --rg-sm SRR5628058 -t 24 -r /moto/eaton/projects/macaques/refpapio/refpapio.fna.gz \\\n",
    "    -1 /moto/eaton/projects/macaques/filteredfastq/SRR5628058.filtered_1.fastq.gz \\\n",
    "    -2 /moto/eaton/projects/macaques/filteredfastq/SRR5628058.filtered_2.fastq.gz \\\n",
    "    | samtools view -b -@ 3 -> /moto/eaton/projects/macaques/mapped/ngmSRR5628058.rg.raw.bam"
   ]
  },
  {
   "cell_type": "code",
   "execution_count": null,
   "metadata": {},
   "outputs": [],
   "source": [
    "SRR1024051', 'silenus', 'sylvanus']"
   ]
  },
  {
   "cell_type": "code",
   "execution_count": null,
   "metadata": {},
   "outputs": [],
   "source": []
  },
  {
   "cell_type": "code",
   "execution_count": null,
   "metadata": {},
   "outputs": [],
   "source": []
  },
  {
   "cell_type": "code",
   "execution_count": null,
   "metadata": {},
   "outputs": [],
   "source": []
  },
  {
   "cell_type": "code",
   "execution_count": null,
   "metadata": {},
   "outputs": [],
   "source": [
    "test=['SRR5628058', 'fasno', 'SRR2981139', 'SRR1024051', 'silenus', 'sylvanus']"
   ]
  },
  {
   "cell_type": "code",
   "execution_count": null,
   "metadata": {},
   "outputs": [],
   "source": [
    "##mapping\n",
    "for i in test:\n",
    "    cmd='minimap2 -ax sr -t 19 /moto/eaton/projects/macaques/refpapio/refpapio.fa \\\n",
    "            /moto/eaton/projects/macaques/filteredfastq/'+i+'.filtered_1.fastq.gz \\\n",
    "            /moto/eaton/projects/macaques/filteredfastq/'+i+'.filtered_2.fastq.gz \\\n",
    "            | samtools view -b -> /moto/eaton/projects/macaques/mapped/'+i+'.raw.bam'\n",
    "    os.system(cmd)"
   ]
  },
  {
   "cell_type": "code",
   "execution_count": 4,
   "metadata": {},
   "outputs": [],
   "source": [
    "test=['SRR5628058', 'ngmfasno', 'ngmSRR2981139', 'ngmSRR1024051', 'ngmsilenus', 'ngmsylvanus']"
   ]
  },
  {
   "cell_type": "code",
   "execution_count": null,
   "metadata": {},
   "outputs": [],
   "source": [
    "##sorting mapped data\n",
    "for i in test:\n",
    "    cmd='sambamba sort -t 20 --tmpdir=/moto/eaton/projects/macaques/tmp/ \\\n",
    "            /moto/eaton/projects/macaques/mapped/'+i+'.raw.bam'\n",
    "    os.system(cmd)"
   ]
  },
  {
   "cell_type": "code",
   "execution_count": 2,
   "metadata": {},
   "outputs": [],
   "source": [
    "test=['ngmfasno']"
   ]
  },
  {
   "cell_type": "code",
   "execution_count": null,
   "metadata": {},
   "outputs": [],
   "source": [
    "##marking likely PCR duplicates\n",
    "for i in test:\n",
    "    cmd='sambamba markdup -t 20 -p --overflow-list-size 6000000 --hash-table-size 6000000 \\\n",
    "            --tmpdir=/moto/eaton/projects/macaques/tmp/ \\\n",
    "            /moto/eaton/projects/macaques/mapped/'+i+'.raw.sorted.bam \\\n",
    "            /moto/eaton/projects/macaques/mapped/'+i+'.mark.bam'\n",
    "    os.system(cmd)"
   ]
  },
  {
   "cell_type": "code",
   "execution_count": null,
   "metadata": {},
   "outputs": [],
   "source": [
    "test=['ngmSRR2981139', 'ngmSRR1024051', 'ngmsilenus', 'ngmsylvanus']"
   ]
  },
  {
   "cell_type": "code",
   "execution_count": null,
   "metadata": {},
   "outputs": [],
   "source": [
    "%%bash\n",
    "sambamba markdup -t 12 -p --overflow-list-size 6000000 --hash-table-size 6000000 \\\n",
    "            --tmpdir=/moto/eaton/projects/macaques/tmp/ \\\n",
    "            /moto/eaton/projects/macaques/mapped/fasso.rg.raw.bam \\\n",
    "            /moto/eaton/projects/macaques/mapped/fasso.mark.bam"
   ]
  },
  {
   "cell_type": "code",
   "execution_count": null,
   "metadata": {},
   "outputs": [],
   "source": [
    "for i in test:\n",
    "    cmd='sambamba markdup -t 20 -p --overflow-list-size 6000000 --hash-table-size 6000000 \\\n",
    "            --tmpdir=/moto/eaton/projects/macaques/tmp/ \\\n",
    "            /moto/eaton/projects/macaques/mapped/'+i+'.raw.sorted.bam \\\n",
    "            /moto/eaton/projects/macaques/mapped/'+i+'.mark.bam'\n",
    "    os.system(cmd)"
   ]
  },
  {
   "cell_type": "markdown",
   "metadata": {},
   "source": [
    "### B) Calling Variants with FreeBayes"
   ]
  },
  {
   "cell_type": "code",
   "execution_count": null,
   "metadata": {},
   "outputs": [],
   "source": [
    "##!conda install -c bioconda freebayes"
   ]
  },
  {
   "cell_type": "code",
   "execution_count": 2,
   "metadata": {},
   "outputs": [],
   "source": [
    "!mkdir /moto/eaton/projects/macaques/calls/"
   ]
  },
  {
   "cell_type": "code",
   "execution_count": 35,
   "metadata": {},
   "outputs": [],
   "source": [
    "test=['SRR5628058', 'ngmfasno', 'ngmSRR2981139', 'ngmSRR1024051', 'ngmsilenus', 'ngmsylvanus']"
   ]
  },
  {
   "cell_type": "code",
   "execution_count": 37,
   "metadata": {},
   "outputs": [],
   "source": [
    "!samtools addreplacerg -r 'ID:SRR5628058' -r 'SM:SRR5628058' \\\n",
    "        -o /moto/eaton/projects/macaques/mapped/SRR5628058.NC_018153.2.fixed.bam \\\n",
    "        /moto/eaton/projects/macaques/mapped/SRR5628058.NC_018153.2.mark.bam"
   ]
  },
  {
   "cell_type": "code",
   "execution_count": 38,
   "metadata": {},
   "outputs": [],
   "source": [
    "!samtools addreplacerg -r 'ID:ngmfasno' -r 'SM:ngmfasno' \\\n",
    "        -o /moto/eaton/projects/macaques/mapped/ngmfasno.NC_018153.2.fixed.bam \\\n",
    "        /moto/eaton/projects/macaques/mapped/ngmfasno.NC_018153.2.mark.bam"
   ]
  },
  {
   "cell_type": "code",
   "execution_count": 39,
   "metadata": {},
   "outputs": [],
   "source": [
    "!samtools addreplacerg -r 'ID:ngmSRR2981139' -r 'SM:ngmSRR2981139' \\\n",
    "        -o /moto/eaton/projects/macaques/mapped/ngmSRR2981139.NC_018153.2.fixed.bam \\\n",
    "        /moto/eaton/projects/macaques/mapped/ngmSRR2981139.NC_018153.2.mark.bam"
   ]
  },
  {
   "cell_type": "code",
   "execution_count": 40,
   "metadata": {},
   "outputs": [],
   "source": [
    "!samtools addreplacerg -r 'ID:ngmSRR1024051' -r 'SM:ngmSRR1024051' \\\n",
    "        -o /moto/eaton/projects/macaques/mapped/ngmSRR1024051.NC_018153.2.fixed.bam \\\n",
    "        /moto/eaton/projects/macaques/mapped/ngmSRR1024051.NC_018153.2.mark.bam"
   ]
  },
  {
   "cell_type": "code",
   "execution_count": 41,
   "metadata": {},
   "outputs": [],
   "source": [
    "!samtools addreplacerg -r 'ID:ngmsilenus' -r 'SM:ngmsilenus' \\\n",
    "        -o /moto/eaton/projects/macaques/mapped/ngmsilenus.NC_018153.2.fixed.bam \\\n",
    "        /moto/eaton/projects/macaques/mapped/ngmsilenus.NC_018153.2.mark.bam"
   ]
  },
  {
   "cell_type": "code",
   "execution_count": 42,
   "metadata": {},
   "outputs": [],
   "source": [
    "!samtools addreplacerg -r 'ID:ngmsylvanus' -r 'SM:ngmsylvanus' \\\n",
    "        -o /moto/eaton/projects/macaques/mapped/ngmsylvanus.NC_018153.2.fixed.bam \\\n",
    "        /moto/eaton/projects/macaques/mapped/ngmsylvanus.NC_018153.2.mark.bam"
   ]
  },
  {
   "cell_type": "code",
   "execution_count": 43,
   "metadata": {},
   "outputs": [],
   "source": [
    "%%bash\n",
    "for i in SRR5628058 ngmfasno ngmSRR2981139 ngmSRR1024051 ngmsilenus ngmsylvanus; do\n",
    "    samtools index /moto/eaton/projects/macaques/mapped/$i.NC_018153.2.fixed.bam\n",
    "    done"
   ]
  },
  {
   "cell_type": "code",
   "execution_count": 46,
   "metadata": {},
   "outputs": [
    {
     "name": "stdout",
     "output_type": "stream",
     "text": [
      "Process is interrupted.\n"
     ]
    }
   ],
   "source": [
    "%%bash\n",
    "freebayes-parallel <(fasta_generate_regions.py /moto/eaton/projects/macaques/refpapio/refpapio.fa 100000) 22 \\\n",
    "    -f /moto/eaton/projects/macaques/refpapio/refpapio.fa \\\n",
    "    /moto/eaton/projects/macaques/mapped/SRR5628058.NC_018153.2.fixed.bam \\\n",
    "    /moto/eaton/projects/macaques/mapped/ngmfasno.NC_018153.2.fixed.bam \\\n",
    "    /moto/eaton/projects/macaques/mapped/ngmSRR2981139.NC_018153.2.fixed.bam \\\n",
    "    /moto/eaton/projects/macaques/mapped/ngmSRR1024051.NC_018153.2.fixed.bam \\\n",
    "    /moto/eaton/projects/macaques/mapped/ngmsilenus.NC_018153.2.fixed.bam \\\n",
    "    /moto/eaton/projects/macaques/mapped/ngmsylvanus.NC_018153.2.fixed.bam \\\n",
    "    >/moto/eaton/projects/macaques/calls/test.chr2.vcf"
   ]
  },
  {
   "cell_type": "code",
   "execution_count": null,
   "metadata": {},
   "outputs": [],
   "source": []
  },
  {
   "cell_type": "code",
   "execution_count": null,
   "metadata": {},
   "outputs": [],
   "source": []
  },
  {
   "cell_type": "code",
   "execution_count": null,
   "metadata": {},
   "outputs": [],
   "source": []
  },
  {
   "cell_type": "code",
   "execution_count": null,
   "metadata": {},
   "outputs": [],
   "source": []
  },
  {
   "cell_type": "markdown",
   "metadata": {},
   "source": [
    "Finding what are the names of the scaffolds that reads were mapped to:"
   ]
  },
  {
   "cell_type": "code",
   "execution_count": 6,
   "metadata": {},
   "outputs": [
    {
     "name": "stdout",
     "output_type": "stream",
     "text": [
      "NC_018152.2\n",
      "NC_018153.2\n",
      "NC_018154.2\n",
      "NC_018155.2\n",
      "NC_018156.2\n",
      "NC_018157.2\n",
      "NC_018158.2\n",
      "NC_018159.2\n",
      "NC_018160.2\n",
      "NC_018161.2\n",
      "NC_018162.2\n",
      "NC_018163.2\n",
      "NC_018164.2\n",
      "NC_018165.2\n",
      "NC_018166.2\n",
      "NC_018167.2\n",
      "NC_018168.2\n",
      "NC_018169.2\n",
      "NC_018170.2\n",
      "NC_018171.2\n",
      "NC_018172.2\n",
      "NW_018761063.1\n",
      "cut: write error: Broken pipe\n"
     ]
    }
   ],
   "source": [
    "!samtools idxstats /moto/eaton/projects/macaques/mapped/ngmfasno.mark.bam \\\n",
    "    | cut -f 1 | head -22"
   ]
  },
  {
   "cell_type": "markdown",
   "metadata": {},
   "source": [
    "Splitting by chromosome (NC_* is chromosome or mitochondria and NW_* is unassigned, so we just need the NC names):"
   ]
  },
  {
   "cell_type": "code",
   "execution_count": 4,
   "metadata": {},
   "outputs": [],
   "source": [
    "test=['SRR5628058', 'ngmfasno', 'ngmSRR2981139', 'ngmSRR1024051', 'ngmsilenus', 'ngmsylvanus']"
   ]
  },
  {
   "cell_type": "code",
   "execution_count": 2,
   "metadata": {},
   "outputs": [],
   "source": [
    "!mkdir /moto/eaton/projects/macaques/mapped/MT"
   ]
  },
  {
   "cell_type": "code",
   "execution_count": 1,
   "metadata": {},
   "outputs": [
    {
     "name": "stdout",
     "output_type": "stream",
     "text": [
      "/moto/eaton/projects/macaques/mapped/ngmDRR002233.rg.raw.sorted.bam\n",
      "/moto/eaton/projects/macaques/mapped/ngmSRR1024051.rg.raw.sorted.bam\n",
      "/moto/eaton/projects/macaques/mapped/ngmSRR2981114.rg.raw.sorted.bam\n",
      "/moto/eaton/projects/macaques/mapped/ngmSRR2981139.rg.raw.sorted.bam\n",
      "/moto/eaton/projects/macaques/mapped/ngmSRR2981140.rg.raw.sorted.bam\n",
      "/moto/eaton/projects/macaques/mapped/ngmSRR4453966.rg.raw.sorted.bam\n",
      "/moto/eaton/projects/macaques/mapped/ngmSRR4454020.rg.raw.sorted.bam\n",
      "/moto/eaton/projects/macaques/mapped/ngmSRR4454026.rg.raw.sorted.bam\n",
      "/moto/eaton/projects/macaques/mapped/ngmSRR5628058.rg.raw.sorted.bam\n",
      "/moto/eaton/projects/macaques/mapped/ngmSRR5947292.rg.raw.sorted.bam\n",
      "/moto/eaton/projects/macaques/mapped/ngmSRR5947293.rg.raw.sorted.bam\n",
      "/moto/eaton/projects/macaques/mapped/ngmSRR5947294.rg.raw.sorted.bam\n",
      "/moto/eaton/projects/macaques/mapped/ngmSRR7588781.rg.raw.sorted.bam\n",
      "/moto/eaton/projects/macaques/mapped/ngmSRR8285768.rg.raw.sorted.bam\n",
      "/moto/eaton/projects/macaques/mapped/ngmfasno.rg.raw.sorted.bam\n",
      "/moto/eaton/projects/macaques/mapped/ngmfasso.rg.raw.sorted.bam\n",
      "/moto/eaton/projects/macaques/mapped/ngmfuscata2.rg.raw.sorted.bam\n",
      "/moto/eaton/projects/macaques/mapped/ngmnemestrina2.rg.raw.sorted.bam\n",
      "/moto/eaton/projects/macaques/mapped/ngmsilenus.rg.raw.sorted.bam\n",
      "/moto/eaton/projects/macaques/mapped/ngmsylvanus.rg.raw.sorted.bam\n"
     ]
    }
   ],
   "source": [
    "%%bash\n",
    "for i in ngmDRR002233 ngmSRR1024051 ngmSRR2981114 ngmSRR2981139 ngmSRR2981140 ngmSRR4453966 ngmSRR4454020 ngmSRR4454026 ngmSRR5628058 ngmSRR5947292 ngmSRR5947293 ngmSRR5947294 ngmSRR7588781 ngmSRR8285768 ngmfasno ngmfasso ngmfuscata2 ngmnemestrina2 ngmsilenus ngmsylvanus; do\n",
    "    samtools view -b -@ 12 /moto/eaton/projects/macaques/mapped/$i.rg.raw.sorted.bam NC_020006.2 > \\\n",
    "        /moto/eaton/projects/macaques/mapped/MT/$i.MT.bam\n",
    "    done"
   ]
  },
  {
   "cell_type": "code",
   "execution_count": 5,
   "metadata": {},
   "outputs": [],
   "source": [
    "for i in test:\n",
    "    cmd='samtools view -@ 7 \\\n",
    "            /moto/eaton/projects/macaques/mapped/'+i+'.mark.bam NC_018153.2 -b > \\\n",
    "            /moto/eaton/projects/macaques/mapped/'+i+'.NC_018153.2.bam'\n",
    "    os.system(cmd)"
   ]
  },
  {
   "cell_type": "code",
   "execution_count": 6,
   "metadata": {},
   "outputs": [],
   "source": [
    "for i in test:\n",
    "    cmd='sambamba sort -t 20 --tmpdir=/moto/eaton/projects/macaques/tmp/ \\\n",
    "            /moto/eaton/projects/macaques/mapped/'+i+'.NC_018153.2.bam'\n",
    "    os.system(cmd)"
   ]
  },
  {
   "cell_type": "code",
   "execution_count": 7,
   "metadata": {},
   "outputs": [],
   "source": [
    "for i in test:\n",
    "    cmd='sambamba markdup -t 20 -p --overflow-list-size 6000000 --hash-table-size 6000000 \\\n",
    "            --tmpdir=/moto/eaton/projects/macaques/tmp/ \\\n",
    "            /moto/eaton/projects/macaques/mapped/'+i+'.NC_018153.2.sorted.bam \\\n",
    "            /moto/eaton/projects/macaques/mapped/'+i+'.NC_018153.2.mark.bam'\n",
    "    os.system(cmd)"
   ]
  },
  {
   "cell_type": "code",
   "execution_count": null,
   "metadata": {},
   "outputs": [],
   "source": []
  },
  {
   "cell_type": "code",
   "execution_count": null,
   "metadata": {},
   "outputs": [],
   "source": []
  },
  {
   "cell_type": "code",
   "execution_count": null,
   "metadata": {},
   "outputs": [],
   "source": []
  },
  {
   "cell_type": "code",
   "execution_count": null,
   "metadata": {},
   "outputs": [],
   "source": [
    "%%bash\n",
    "for i in NC_018152.2 NC_018153.2 NC_018154.2; do\n",
    "    samtools view \\\n",
    "        /moto/eaton/projects/macaques/mulattanorthern/filtercall/mulattanorthern.SRR4454026.raw.minimap2.sorted.bam $i -b > \\\n",
    "        /moto/eaton/projects/macaques/mulattanorthern/filtercall/mulattanorthern.$i.bam\n"
   ]
  },
  {
   "cell_type": "code",
   "execution_count": null,
   "metadata": {},
   "outputs": [],
   "source": [
    "%%bash\n",
    "for i in NC_018152.2 NC_018153.2 NC_018154.2 NC_018155.2 NC_018156.2 NC_018157.2 NC_018158.2 NC_018159.2 NC_018160.2 NC_018161.2 NC_018162.2 NC_018163.2 NC_018164.2 NC_018165.2 NC_018166.2 NC_018167.2 NC_018168.2 NC_018169.2 NC_018170.2 NC_018171.2 NC_018172.2 NC_020006.2; do\n",
    "    sambamba sort -t 24 -p --tmpdir=/moto/eaton/projects/macaques/mulattanorthern/filtercall/ \\\n",
    "        /moto/eaton/projects/macaques/mulattanorthern/filtercall/mulattanorthern.$i.bam\n",
    "done"
   ]
  },
  {
   "cell_type": "code",
   "execution_count": null,
   "metadata": {},
   "outputs": [],
   "source": [
    "%%bash\n",
    "for i in NC_018152.2 NC_018153.2 NC_018154.2 NC_018155.2 NC_018156.2 NC_018157.2 NC_018158.2 NC_018159.2 NC_018160.2 NC_018161.2 NC_018162.2 NC_018163.2 NC_018164.2 NC_018165.2 NC_018166.2 NC_018167.2 NC_018168.2 NC_018169.2 NC_018170.2 NC_018171.2 NC_018172.2 NC_020006.2; do\n",
    "    sambamba markdup -t 24 -p --tmpdir=/moto/eaton/projects/macaques/mulattanorthern/filtercall/ \\\n",
    "        /moto/eaton/projects/macaques/mulattanorthern/filtercall/mulattanorthern.$i.sorted.bam \\\n",
    "        /moto/eaton/projects/macaques/mulattanorthern/filtercall/mulattanorthern.$i.ready.bam\n",
    "done"
   ]
  },
  {
   "cell_type": "code",
   "execution_count": 2,
   "metadata": {},
   "outputs": [],
   "source": [
    "!mkdir /moto/eaton/projects/macaques/MAPPEDANDSORTED"
   ]
  },
  {
   "cell_type": "code",
   "execution_count": 3,
   "metadata": {},
   "outputs": [],
   "source": [
    "##moving our mapped and sorted reads, separated by chromosome/mitochondria, to a staging directory\n",
    "!mv /moto/eaton/projects/macaques/mulattanorthern/filtercall/*.ready.* \\\n",
    "    /moto/eaton/projects/macaques/MAPPEDANDSORTED"
   ]
  },
  {
   "cell_type": "code",
   "execution_count": null,
   "metadata": {},
   "outputs": [],
   "source": []
  },
  {
   "cell_type": "code",
   "execution_count": null,
   "metadata": {},
   "outputs": [],
   "source": []
  },
  {
   "cell_type": "markdown",
   "metadata": {},
   "source": [
    "## C) Converting VCF to Phylip for Phylogenetic Analyses"
   ]
  },
  {
   "cell_type": "code",
   "execution_count": 8,
   "metadata": {},
   "outputs": [
    {
     "name": "stdout",
     "output_type": "stream",
     "text": [
      "\n",
      "Converting file /moto/eaton/projects/macaques/calls/test.chr2.biallelic.vcf:\n",
      "\n",
      "Number of samples in VCF: 6\n",
      "500000 genotypes processed.\n",
      "1000000 genotypes processed.\n",
      "1500000 genotypes processed.\n",
      "2000000 genotypes processed.\n",
      "2500000 genotypes processed.\n",
      "3000000 genotypes processed.\n",
      "3500000 genotypes processed.\n",
      "4000000 genotypes processed.\n",
      "4500000 genotypes processed.\n",
      "5000000 genotypes processed.\n",
      "5500000 genotypes processed.\n",
      "6000000 genotypes processed.\n",
      "6500000 genotypes processed.\n",
      "7000000 genotypes processed.\n",
      "Total of genotypes processed: 7146409\n",
      "Genotypes excluded because they exceeded the amount of missing data allowed: 7146409\n",
      "Genotypes that passed missing data filter but were excluded for not being SNPs: 0\n",
      "SNPs that passed the filters: 0\n",
      "\n",
      "Sample 1 of 6, ngmSRR1024051, added to the nucleotide matrix(ces).\n",
      "Sample 2 of 6, ngmSRR2981139, added to the nucleotide matrix(ces).\n",
      "Sample 3 of 6, SRR5628058, added to the nucleotide matrix(ces).\n",
      "Sample 4 of 6, ngmsilenus, added to the nucleotide matrix(ces).\n",
      "Sample 5 of 6, ngmsylvanus, added to the nucleotide matrix(ces).\n",
      "Sample 6 of 6, ngmfasno, added to the nucleotide matrix(ces).\n",
      "\n",
      "Done!\n",
      "\n"
     ]
    }
   ],
   "source": [
    "##!git clone https://github.com/edgardomortiz/vcf2phylip\n",
    "!python /moto/home/nsl2119/vcf2phylip/vcf2phylip.py -i /moto/eaton/projects/macaques/calls/test.chr2.biallelic.vcf"
   ]
  },
  {
   "cell_type": "code",
   "execution_count": null,
   "metadata": {},
   "outputs": [],
   "source": []
  },
  {
   "cell_type": "markdown",
   "metadata": {},
   "source": [
    "### B) Mapping and sorting southern, low altitude _Macaca mulatta_:"
   ]
  },
  {
   "cell_type": "code",
   "execution_count": 4,
   "metadata": {},
   "outputs": [],
   "source": [
    "!mkdir /moto/eaton/projects/macaques/mulattasouthernlow/filtercall"
   ]
  },
  {
   "cell_type": "code",
   "execution_count": null,
   "metadata": {},
   "outputs": [],
   "source": [
    "%time !minimap2 -ax sr -t 24 /moto/eaton/projects/macaques/refpapio/refpapio.fa \\\n",
    "    /moto/eaton/projects/macaques/TRIM/mulattasouthernlowSRR4454020_1.fastq.gz \\\n",
    "    /moto/eaton/projects/macaques/TRIM/mulattasouthernlowSRR4454020_2.fastq.gz \\\n",
    "    | samtools view -b -> /moto/eaton/projects/macaques/mulattasouthernlow/filtercall/mulattasouthernlow.SRR4454020.raw.minimap2.bam"
   ]
  },
  {
   "cell_type": "code",
   "execution_count": 6,
   "metadata": {},
   "outputs": [
    {
     "name": "stdout",
     "output_type": "stream",
     "text": [
      "\n",
      "sambamba 0.6.8 by Artem Tarasov and Pjotr Prins (C) 2012-2018\n",
      "    LDC 1.11.0 / DMD v2.081.2 / LLVM6.0.1 / bootstrap LDC - the LLVM D compiler (0.17.6git-0156298)\n",
      "\n",
      "Writing sorted chunks to temporary directory...\n",
      "[==============================================================================]\n",
      "Merging sorted chunks...\n",
      "[==============================================================================]\n",
      "CPU times: user 14.1 s, sys: 869 ms, total: 14.9 s\n",
      "Wall time: 5min 28s\n"
     ]
    }
   ],
   "source": [
    "%time !sambamba sort -t 24 -p --tmpdir=/moto/eaton/projects/macaques/mulattasouthernlow/filtercall/ \\\n",
    "    /moto/eaton/projects/macaques/mulattasouthernlow/filtercall/mulattasouthernlow.SRR4454020.raw.minimap2.bam"
   ]
  },
  {
   "cell_type": "code",
   "execution_count": 10,
   "metadata": {},
   "outputs": [],
   "source": [
    "%%bash\n",
    "for i in NC_018152.2 NC_018153.2 NC_018154.2 NC_018155.2 NC_018156.2 NC_018157.2 NC_018158.2 NC_018159.2 NC_018160.2 NC_018161.2 NC_018162.2 NC_018163.2 NC_018164.2 NC_018165.2 NC_018166.2 NC_018167.2 NC_018168.2 NC_018169.2 NC_018170.2 NC_018171.2 NC_018172.2 NC_020006.2; do\n",
    "    samtools view \\\n",
    "        /moto/eaton/projects/macaques/mulattasouthernlow/filtercall/mulattasouthernlow.SRR4454020.raw.minimap2.sorted.bam $i -b > \\\n",
    "        /moto/eaton/projects/macaques/mulattasouthernlow/filtercall/mulattasouthernlow.$i.bam\n",
    "done"
   ]
  },
  {
   "cell_type": "code",
   "execution_count": null,
   "metadata": {},
   "outputs": [],
   "source": [
    "%%bash\n",
    "for i in NC_018152.2 NC_018153.2 NC_018154.2 NC_018155.2 NC_018156.2 NC_018157.2 NC_018158.2 NC_018159.2 NC_018160.2 NC_018161.2 NC_018162.2 NC_018163.2 NC_018164.2 NC_018165.2 NC_018166.2 NC_018167.2 NC_018168.2 NC_018169.2 NC_018170.2 NC_018171.2 NC_018172.2 NC_020006.2; do\n",
    "    sambamba sort -t 24 -p --tmpdir=/moto/eaton/projects/macaques/mulattasouthernlow/filtercall/ \\\n",
    "        /moto/eaton/projects/macaques/mulattasouthernlow/filtercall/mulattasouthernlow.$i.bam\n",
    "done"
   ]
  },
  {
   "cell_type": "code",
   "execution_count": null,
   "metadata": {},
   "outputs": [],
   "source": [
    "%%bash\n",
    "for i in NC_018152.2 NC_018153.2 NC_018154.2 NC_018155.2 NC_018156.2 NC_018157.2 NC_018158.2 NC_018159.2 NC_018160.2 NC_018161.2 NC_018162.2 NC_018163.2 NC_018164.2 NC_018165.2 NC_018166.2 NC_018167.2 NC_018168.2 NC_018169.2 NC_018170.2 NC_018171.2 NC_018172.2 NC_020006.2; do\n",
    "    sambamba markdup -t 24 -p --tmpdir=/moto/eaton/projects/macaques/mulattasouthernlow/filtercall/ \\\n",
    "        /moto/eaton/projects/macaques/mulattasouthernlow/filtercall/mulattasouthernlow.$i.sorted.bam \\\n",
    "        /moto/eaton/projects/macaques/mulattasouthernlow/filtercall/mulattasouthernlow.$i.ready.bam\n",
    "done"
   ]
  },
  {
   "cell_type": "code",
   "execution_count": 13,
   "metadata": {},
   "outputs": [],
   "source": [
    "!mv /moto/eaton/projects/macaques/mulattasouthernlow/filtercall/*.ready.* \\\n",
    "    /moto/eaton/projects/macaques/MAPPEDANDSORTED"
   ]
  },
  {
   "cell_type": "markdown",
   "metadata": {},
   "source": [
    "### C) Mapping and sorting southern, high altitude _Macaca mulatta_:"
   ]
  },
  {
   "cell_type": "code",
   "execution_count": 14,
   "metadata": {},
   "outputs": [],
   "source": [
    "!mkdir /moto/eaton/projects/macaques/mulattasouthernhigh/filtercall"
   ]
  },
  {
   "cell_type": "code",
   "execution_count": null,
   "metadata": {},
   "outputs": [],
   "source": [
    "%time !minimap2 -ax sr -t 24 /moto/eaton/projects/macaques/refpapio/refpapio.fa \\\n",
    "    /moto/eaton/projects/macaques/TRIM/mulattasouthernhighSRR4453966_1.fastq.gz \\\n",
    "    /moto/eaton/projects/macaques/TRIM/mulattasouthernhighSRR4453966_2.fastq.gz \\\n",
    "    | samtools view -b -> /moto/eaton/projects/macaques/mulattasouthernhigh/filtercall/mulattasouthernhigh.SRR4453966.raw.minimap2.bam"
   ]
  },
  {
   "cell_type": "code",
   "execution_count": 16,
   "metadata": {},
   "outputs": [
    {
     "name": "stdout",
     "output_type": "stream",
     "text": [
      "\n",
      "sambamba 0.6.8 by Artem Tarasov and Pjotr Prins (C) 2012-2018\n",
      "    LDC 1.11.0 / DMD v2.081.2 / LLVM6.0.1 / bootstrap LDC - the LLVM D compiler (0.17.6git-0156298)\n",
      "\n",
      "Writing sorted chunks to temporary directory...\n",
      "[==============================================================================]=========================>                                                 ]\n",
      "Merging sorted chunks...\n",
      "[==============================================================================]=============================================>             ]\n",
      "CPU times: user 16.7 s, sys: 1.01 s, total: 17.7 s\n",
      "Wall time: 6min 16s\n"
     ]
    }
   ],
   "source": [
    "%time !sambamba sort -t 24 -p --tmpdir=/moto/eaton/projects/macaques/mulattasouthernhigh/filtercall/ \\\n",
    "    /moto/eaton/projects/macaques/mulattasouthernhigh/filtercall/mulattasouthernhigh.SRR4453966.raw.minimap2.bam"
   ]
  },
  {
   "cell_type": "code",
   "execution_count": 17,
   "metadata": {},
   "outputs": [],
   "source": [
    "%%bash\n",
    "for i in NC_018152.2 NC_018153.2 NC_018154.2 NC_018155.2 NC_018156.2 NC_018157.2 NC_018158.2 NC_018159.2 NC_018160.2 NC_018161.2 NC_018162.2 NC_018163.2 NC_018164.2 NC_018165.2 NC_018166.2 NC_018167.2 NC_018168.2 NC_018169.2 NC_018170.2 NC_018171.2 NC_018172.2 NC_020006.2; do\n",
    "    samtools view \\\n",
    "        /moto/eaton/projects/macaques/mulattasouthernhigh/filtercall/mulattasouthernhigh.SRR4453966.raw.minimap2.sorted.bam $i -b > \\\n",
    "        /moto/eaton/projects/macaques/mulattasouthernhigh/filtercall/mulattasouthernhigh.$i.bam\n",
    "done"
   ]
  },
  {
   "cell_type": "code",
   "execution_count": null,
   "metadata": {},
   "outputs": [],
   "source": [
    "%%bash\n",
    "for i in NC_018152.2 NC_018153.2 NC_018154.2 NC_018155.2 NC_018156.2 NC_018157.2 NC_018158.2 NC_018159.2 NC_018160.2 NC_018161.2 NC_018162.2 NC_018163.2 NC_018164.2 NC_018165.2 NC_018166.2 NC_018167.2 NC_018168.2 NC_018169.2 NC_018170.2 NC_018171.2 NC_018172.2 NC_020006.2; do\n",
    "    sambamba sort -t 24 -p --tmpdir=/moto/eaton/projects/macaques/mulattasouthernhigh/filtercall/ \\\n",
    "        /moto/eaton/projects/macaques/mulattasouthernhigh/filtercall/mulattasouthernhigh.$i.bam\n",
    "done"
   ]
  },
  {
   "cell_type": "code",
   "execution_count": 19,
   "metadata": {},
   "outputs": [
    {
     "name": "stdout",
     "output_type": "stream",
     "text": [
      "Process is interrupted.\n"
     ]
    }
   ],
   "source": [
    "%%bash\n",
    "for i in NC_018152.2 NC_018153.2 NC_018154.2 NC_018155.2 NC_018156.2 NC_018157.2 NC_018158.2 NC_018159.2 NC_018160.2 NC_018161.2 NC_018162.2 NC_018163.2 NC_018164.2 NC_018165.2 NC_018166.2 NC_018167.2 NC_018168.2 NC_018169.2 NC_018170.2 NC_018171.2 NC_018172.2 NC_020006.2; do\n",
    "    sambamba markdup -t 24 -p --tmpdir=/moto/eaton/projects/macaques/mulattasouthernhigh/filtercall/ \\\n",
    "        /moto/eaton/projects/macaques/mulattasouthernhigh/filtercall/mulattasouthernhigh.$i.sorted.bam \\\n",
    "        /moto/eaton/projects/macaques/mulattasouthernhigh/filtercall/mulattasouthernhigh.$i.ready.bam\n",
    "done"
   ]
  },
  {
   "cell_type": "code",
   "execution_count": null,
   "metadata": {},
   "outputs": [],
   "source": [
    "!mv /moto/eaton/projects/macaques/mulattasouthernhigh/filtercall/*.ready.* \\\n",
    "    /moto/eaton/projects/macaques/MAPPEDANDSORTED"
   ]
  },
  {
   "cell_type": "code",
   "execution_count": null,
   "metadata": {},
   "outputs": [],
   "source": []
  },
  {
   "cell_type": "code",
   "execution_count": null,
   "metadata": {},
   "outputs": [],
   "source": []
  },
  {
   "cell_type": "code",
   "execution_count": null,
   "metadata": {},
   "outputs": [],
   "source": []
  },
  {
   "cell_type": "code",
   "execution_count": null,
   "metadata": {},
   "outputs": [],
   "source": []
  },
  {
   "cell_type": "code",
   "execution_count": null,
   "metadata": {},
   "outputs": [],
   "source": []
  },
  {
   "cell_type": "code",
   "execution_count": null,
   "metadata": {},
   "outputs": [],
   "source": []
  },
  {
   "cell_type": "code",
   "execution_count": null,
   "metadata": {},
   "outputs": [],
   "source": []
  },
  {
   "cell_type": "code",
   "execution_count": null,
   "metadata": {},
   "outputs": [],
   "source": []
  },
  {
   "cell_type": "code",
   "execution_count": null,
   "metadata": {},
   "outputs": [],
   "source": []
  },
  {
   "cell_type": "code",
   "execution_count": null,
   "metadata": {},
   "outputs": [],
   "source": []
  },
  {
   "cell_type": "code",
   "execution_count": null,
   "metadata": {},
   "outputs": [],
   "source": []
  },
  {
   "cell_type": "code",
   "execution_count": null,
   "metadata": {},
   "outputs": [],
   "source": []
  },
  {
   "cell_type": "markdown",
   "metadata": {},
   "source": [
    "#### SAM to BAM conversion and sorting reads:"
   ]
  },
  {
   "cell_type": "code",
   "execution_count": null,
   "metadata": {},
   "outputs": [],
   "source": []
  },
  {
   "cell_type": "code",
   "execution_count": 6,
   "metadata": {},
   "outputs": [
    {
     "name": "stdout",
     "output_type": "stream",
     "text": [
      "CPU times: user 23.8 s, sys: 3.48 s, total: 27.3 s\n",
      "Wall time: 21min 13s\n"
     ]
    }
   ],
   "source": [
    "%time !samtools view -S -b results.sam > sample.bam ##simple conversion to bam appx 21 min on a 12 thread desktop w/ 16gb ram, not bad"
   ]
  },
  {
   "cell_type": "code",
   "execution_count": 7,
   "metadata": {},
   "outputs": [
    {
     "name": "stdout",
     "output_type": "stream",
     "text": [
      "[bam_sort_core] merging from 53 files and 1 in-memory blocks...\n",
      "CPU times: user 28.7 s, sys: 3.85 s, total: 32.6 s\n",
      "Wall time: 25min 41s\n"
     ]
    }
   ],
   "source": [
    "%time !samtools sort sample.bam -o sample.sorted.bam ##sorting bam file into genome order ~26mins"
   ]
  },
  {
   "cell_type": "code",
   "execution_count": 14,
   "metadata": {},
   "outputs": [
    {
     "name": "stdout",
     "output_type": "stream",
     "text": [
      "CPU times: user 2.36 s, sys: 363 ms, total: 2.73 s\n",
      "Wall time: 1min 57s\n"
     ]
    }
   ],
   "source": [
    "%time !samtools index sample.sorted.bam ##of course this will all be piped together..."
   ]
  },
  {
   "cell_type": "code",
   "execution_count": 1,
   "metadata": {},
   "outputs": [
    {
     "name": "stdout",
     "output_type": "stream",
     "text": [
      "SRR445694~125200.sra.858593\t99\tNC_027893.1\t1\t60\t5S95M\t=\t294\t393\tAAGGCCATGGAAACAAGGAAAGTCTGAAAAACTCACAGTTTAGGAACCTAAAGAGACTTGACTACTAAATGGAATATATCTTGGGATCCTGGAAAAGAAA\tCCCFFFFFHHHHHIIIIIIIIIHIIIIIIIIIIIIIIIHIIIIIIIIIIIIIIIIIIIIIIIIIIIIIIIIIHFHHHHFFFFFFDDDDCCCDBCCDDBDD\tAS:i:950\tNM:i:0\tNH:i:0\tXI:f:1\tX0:i:0\tXE:i:28\tXR:i:95\tMD:Z:95\n",
      "samtools view: writing to standard output failed: Broken pipe\n",
      "samtools view: error closing standard output: -1\n",
      "CPU times: user 5.74 ms, sys: 7.92 ms, total: 13.7 ms\n",
      "Wall time: 224 ms\n"
     ]
    }
   ],
   "source": [
    "%time !samtools view sample.sorted.bam | head -n 1 ##We see that instead of giving chromosomes logical names like Chr1, Chr2, etc., the reference genome has strange names for chromosomes (NC_027893.1, etc)..."
   ]
  },
  {
   "cell_type": "code",
   "execution_count": 3,
   "metadata": {},
   "outputs": [
    {
     "name": "stdout",
     "output_type": "stream",
     "text": [
      "CPU times: user 1.19 s, sys: 147 ms, total: 1.34 s\n",
      "Wall time: 58.6 s\n"
     ]
    }
   ],
   "source": [
    "%time !samtools view -h -b sample.sorted.bam NC_027893.1 > chr1.bam ##Which makes splitting files up for chromosome-level analyses a bit more annoying but not too bad...I'll make a bash script"
   ]
  },
  {
   "cell_type": "markdown",
   "metadata": {},
   "source": [
    "Pipe from NGM to samtools with an output of a sorted bam file:"
   ]
  },
  {
   "cell_type": "code",
   "execution_count": null,
   "metadata": {},
   "outputs": [],
   "source": [
    "!ngm -r ./reference-genome/Mmul8.fna.gz -1 out.R1.fq.gz -2 out.R2.fq.gz | samtools view -S -b | samtools sort -o sample.sorted.bam"
   ]
  },
  {
   "cell_type": "markdown",
   "metadata": {},
   "source": [
    "#### Variant calling:"
   ]
  },
  {
   "cell_type": "code",
   "execution_count": null,
   "metadata": {},
   "outputs": [],
   "source": [
    "!freebayes -f ./reference-genome/Mmul8.fna.gz sample.sorted.bam >wholegenome.vcf ##example code for variant calling on entire genome. Can be split by chromosome/region using -r "
   ]
  }
 ],
 "metadata": {
  "kernelspec": {
   "display_name": "Python py2",
   "language": "python",
   "name": "py2"
  },
  "language_info": {
   "codemirror_mode": {
    "name": "ipython",
    "version": 2
   },
   "file_extension": ".py",
   "mimetype": "text/x-python",
   "name": "python",
   "nbconvert_exporter": "python",
   "pygments_lexer": "ipython2",
   "version": "2.7.15"
  }
 },
 "nbformat": 4,
 "nbformat_minor": 2
}

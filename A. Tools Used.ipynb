{
 "cells": [
  {
   "cell_type": "markdown",
   "metadata": {},
   "source": [
    "## Trimming and QC\n",
    "\n",
    "1) fastp: [publication](https://academic.oup.com/bioinformatics/article/34/17/i884/5093234) and [repo](https://github.com/OpenGene/fastp)\n",
    "\n",
    "`conda install -c bioconda fastp`"
   ]
  },
  {
   "cell_type": "markdown",
   "metadata": {},
   "source": [
    "## Mapping and Sorting Trimmed Data\n",
    "\n",
    "1) NextGenMap: [repo](https://github.com/Cibiv/NextGenMap) (For Mapping) \n",
    "\n",
    "`conda install -c bioconda nextgenmap`\n",
    "\n",
    "2) SamTools: [repo](https://github.com/samtools/samtools) (For SAM to BAM conversion and sorting)\n",
    "\n",
    "`conda install -c bioconda samtools`"
   ]
  },
  {
   "cell_type": "markdown",
   "metadata": {},
   "source": [
    "## Variant Calling\n",
    "\n",
    "1) FreeBayes: [repo](https://github.com/ekg/freebayes)\n",
    "\n",
    "`conda install -c bioconda freebayes `"
   ]
  }
 ],
 "metadata": {
  "kernelspec": {
   "display_name": "Python 3",
   "language": "python",
   "name": "python3"
  },
  "language_info": {
   "codemirror_mode": {
    "name": "ipython",
    "version": 3
   },
   "file_extension": ".py",
   "mimetype": "text/x-python",
   "name": "python",
   "nbconvert_exporter": "python",
   "pygments_lexer": "ipython3",
   "version": "3.6.5"
  }
 },
 "nbformat": 4,
 "nbformat_minor": 2
}

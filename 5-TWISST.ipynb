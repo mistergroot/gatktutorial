{
 "cells": [
  {
   "cell_type": "markdown",
   "metadata": {},
   "source": [
    "In a Py2 environment, follow the documentation of [TWISST](https://github.com/simonhmartin/twisst).\n",
    "\n",
    "Make sure to try the most up-to-date version of TWISST and Simon H. Martin's [General Genomics Tools](https://github.com/simonhmartin/genomics_general/) as they may provide performance improvements. However, at the time of creating this notebook, I was having difficulties making the most recent version of each repo run together. To solve this, I used the following [version](https://github.com/simonhmartin/twisst/tree/9d9634b9fc5e2763423daac01512b78be3244679) of TWISST and [this](https://github.com/simonhmartin/genomics_general/tree/fd66be9658b65399215e96dd8243070ce21d2b5d) version of the general genomics tools. To make the `raxml_sliding_window.py` script run, I replaced the `import` section of a newer version of the script. You can do that yourself or just replace the old version of the script in the cloned repo with this [one](https://raw.githubusercontent.com/mistergroot/gatktutorial/master/scripts/raxml_sliding_windows.py).\n",
    "\n",
    "All these commands can be combined so theres just one long line to run in a loop but I like to do things in steps so there's a lot of intermediate files generated."
   ]
  },
  {
   "cell_type": "code",
   "execution_count": null,
   "metadata": {},
   "outputs": [],
   "source": [
    "##conda install openjdk\n",
    "##conda install -c r r"
   ]
  },
  {
   "cell_type": "markdown",
   "metadata": {},
   "source": [
    "Preparing VCF files for TWISST:"
   ]
  },
  {
   "cell_type": "code",
   "execution_count": null,
   "metadata": {},
   "outputs": [],
   "source": [
    "##I'm working on multiple envs on a cluster so things get weird so I reload my bashrc and activate\n",
    "##the appropriate env each time. You may not need to do this.\n",
    "##first excluding indels and multiallelic calls:"
   ]
  },
  {
   "cell_type": "code",
   "execution_count": null,
   "metadata": {},
   "outputs": [],
   "source": [
    "%%bash\n",
    "source ~/.bashrc\n",
    "conda activate py2\n",
    "export LC_ALL=\"en_US.UTF-8\"\n",
    "for i in 1 2 3 4 5 6 7 8 9 10 11 12 13 14 15 16 17 18 19 20; do\n",
    "    bcftools filter -e 'FORMAT/DP<5 | FORMAT/GQ<30' --set-GTs . /moto/eaton/projects/macaques/calls/raw/Chr$i.raw.vcf -O u | \\\n",
    "    bcftools view -m2 -M2 --exclude-types indels -U -i 'TYPE==\"snp\" & MAC >= 2' -O z \\\n",
    "        > /moto/eaton/projects/macaques/twisst/Chr$i.biallelic.snponly.qual.mac.vcf.gz\n",
    "done"
   ]
  },
  {
   "cell_type": "code",
   "execution_count": null,
   "metadata": {},
   "outputs": [],
   "source": [
    "##remove uncertain genotypes and replace them with ./. so that they do not cause issues later"
   ]
  },
  {
   "cell_type": "code",
   "execution_count": 2,
   "metadata": {},
   "outputs": [],
   "source": [
    "%%bash\n",
    "source ~/.bashrc\n",
    "conda activate py2\n",
    "export LC_ALL=\"en_US.UTF-8\"\n",
    "for i in 1 2 3 4 5 6 7 8 9 10 11 12 13 14 15 16 17 18 19 20; do\n",
    "    zcat /moto/eaton/projects/macaques/twisst/Chr$i.biallelic.snponly.qual.mac.vcf.gz | perl -pe \"s/\\s\\.:/\\t.\\/.:/g\" \\\n",
    "        | bgzip -c >/moto/eaton/projects/macaques/twisst/Chr$i.phaseready3.vcf.gz\n",
    "done"
   ]
  },
  {
   "cell_type": "markdown",
   "metadata": {},
   "source": [
    "Download BEAGLE 4 scripts (https://faculty.washington.edu/browning/beagle/beagle.r1399.jar) to phase vcfs. Example commands on the TWISST repo do not run with BEAGLE 5 (most recent version of BEAGLE):"
   ]
  },
  {
   "cell_type": "code",
   "execution_count": null,
   "metadata": {},
   "outputs": [],
   "source": [
    "%%bash\n",
    "source ~/.bashrc\n",
    "conda activate py2\n",
    "for i in 1 2 3 4 5 6 7 8 9 10 11 12 13 14 15 16 17 18 19 20; do\n",
    "    java -Xmx50g -jar /moto/eaton/projects/macaques/scripts/beagle.r1399.jar \\\n",
    "        gt=/moto/eaton/projects/macaques/twisst/Chr$i.phaseready3.vcf.gz \\\n",
    "        out=/moto/eaton/projects/macaques/twisst/Chr$i.phased \\\n",
    "        impute=true nthreads=12 window=10000 overlap=1000 gprobs=false\n",
    "done"
   ]
  },
  {
   "cell_type": "code",
   "execution_count": 1,
   "metadata": {},
   "outputs": [],
   "source": [
    "%%bash\n",
    "source ~/.bashrc\n",
    "conda activate py2\n",
    "for i in 1 2 3 4 5 6 7 8 9 10 11 12 13 14 15 16 17 18 19 20; do\n",
    "    gunzip -c /moto/eaton/projects/macaques/twisst/Chr$i.phaseready3.vcf.gz \\\n",
    "        | grep -v \"#\" > /moto/eaton/projects/macaques/twisst/Chr$i.phaseready3.vcf\n",
    "done"
   ]
  },
  {
   "cell_type": "code",
   "execution_count": 1,
   "metadata": {},
   "outputs": [],
   "source": [
    "%%bash\n",
    "source ~/.bashrc\n",
    "conda activate py2\n",
    "for i in 1 2 3 4 5 6 7 8 9 10 11 12 13 14 15 16 17 18 19 20; do\n",
    "    gunzip -c /moto/eaton/projects/macaques/twisst/Chr$i.phased.vcf.gz \\\n",
    "        | grep -v \"#\" > /moto/eaton/projects/macaques/twisst/Chr$i.phased.vcf\n",
    "done"
   ]
  },
  {
   "cell_type": "code",
   "execution_count": null,
   "metadata": {},
   "outputs": [],
   "source": [
    "%%bash\n",
    "source ~/.bashrc\n",
    "conda activate py2\n",
    "for i in 1 2 3 4 5 6 7 8 9 10 11 12 13 14 15 16 17 18 19 20; do\n",
    "    ruby /moto/eaton/projects/macaques/scripts/mask_imputed_gts.rb \\\n",
    "        /moto/eaton/projects/macaques/twisst/Chr$i.phaseready3.vcf \\\n",
    "        /moto/eaton/projects/macaques/twisst/Chr$i.phased.vcf \\\n",
    "        /moto/eaton/projects/macaques/twisst/Chr$i.masked.vcf\n",
    "done"
   ]
  },
  {
   "cell_type": "code",
   "execution_count": 3,
   "metadata": {},
   "outputs": [],
   "source": [
    "%%bash\n",
    "source ~/.bashrc\n",
    "conda activate py2\n",
    "for i in 1 2 3 4 5 6 7 8 9 10 11 12 13 14 15 16 17 18 19 20; do\n",
    "    gunzip -c /moto/eaton/projects/macaques/twisst/Chr$i.phaseready3.vcf.gz | grep \"#\" \\\n",
    "        > /moto/eaton/projects/macaques/twisst/Chr$i.header.vcf\n",
    "done"
   ]
  },
  {
   "cell_type": "code",
   "execution_count": 4,
   "metadata": {},
   "outputs": [],
   "source": [
    "%%bash\n",
    "source ~/.bashrc\n",
    "conda activate py2\n",
    "for i in 1 2 3 4 5 6 7 8 9 10 11 12 13 14 15 16 17 18 19 20; do\n",
    "    cat /moto/eaton/projects/macaques/twisst/Chr$i.header.vcf \\\n",
    "        /moto/eaton/projects/macaques/twisst/Chr$i.masked.vcf \\\n",
    "        | gzip > /moto/eaton/projects/macaques/twisst/Chr$i.masked.with.header.vcf.gz\n",
    "done"
   ]
  },
  {
   "cell_type": "markdown",
   "metadata": {},
   "source": [
    "ParseVCF (below) is from the General Genomics Tools repo I mentioned above."
   ]
  },
  {
   "cell_type": "code",
   "execution_count": 5,
   "metadata": {},
   "outputs": [
    {
     "name": "stdout",
     "output_type": "stream",
     "text": [
      "Process is terminated.\n"
     ]
    }
   ],
   "source": [
    "%%bash\n",
    "source ~/.bashrc\n",
    "conda activate py2\n",
    "for i in 1 2 3 4 5 6 7 8 9 10 11 12 13 14 15 16 17 18 19 20; do\n",
    "    python /moto/eaton/projects/macaques/scripts/parseVCF.py \\\n",
    "        -i /moto/eaton/projects/macaques/twisst/Chr$i.masked.with.header.vcf.gz \\\n",
    "        | gzip > /moto/eaton/projects/macaques/twisst/Chr$i.geno.gz\n",
    "done"
   ]
  },
  {
   "cell_type": "markdown",
   "metadata": {},
   "source": [
    "Keeping just the 4 taxa we want to look at (P. anubis, M. mulatta, M. fuscata, M. fascicularis):"
   ]
  },
  {
   "cell_type": "code",
   "execution_count": 41,
   "metadata": {},
   "outputs": [
    {
     "name": "stderr",
     "output_type": "stream",
     "text": [
      "230000 lines read, 22 pods queued, 21 pods filtered, 21 pods sorted, 21 pods written, 185544 good lines written.\n",
      "440000 lines read, 43 pods queued, 42 pods filtered, 42 pods sorted, 42 pods written, 371446 good lines written.\n",
      "660000 lines read, 65 pods queued, 64 pods filtered, 64 pods sorted, 64 pods written, 565736 good lines written.\n",
      "880000 lines read, 87 pods queued, 86 pods filtered, 86 pods sorted, 86 pods written, 762106 good lines written.\n",
      "1090000 lines read, 108 pods queued, 107 pods filtered, 107 pods sorted, 107 pods written, 954902 good lines written.\n",
      "1308912 lines read, 130 pods queued, 129 pods filtered, 129 pods sorted, 128 pods written, 1155440 good lines written.\n",
      "1520000 lines read, 151 pods queued, 150 pods filtered, 150 pods sorted, 150 pods written, 1352983 good lines written.\n",
      "1730000 lines read, 172 pods queued, 171 pods filtered, 171 pods sorted, 171 pods written, 1545031 good lines written.\n",
      "1950000 lines read, 194 pods queued, 193 pods filtered, 193 pods sorted, 193 pods written, 1747999 good lines written.\n",
      "2160000 lines read, 215 pods queued, 214 pods filtered, 214 pods sorted, 214 pods written, 1939835 good lines written.\n",
      "2380000 lines read, 237 pods queued, 236 pods filtered, 236 pods sorted, 236 pods written, 2134234 good lines written.\n",
      "2600000 lines read, 259 pods queued, 258 pods filtered, 258 pods sorted, 258 pods written, 2334387 good lines written.\n",
      "2810000 lines read, 280 pods queued, 279 pods filtered, 279 pods sorted, 279 pods written, 2529521 good lines written.\n",
      "3030000 lines read, 302 pods queued, 301 pods filtered, 301 pods sorted, 301 pods written, 2728914 good lines written.\n",
      "3240000 lines read, 323 pods queued, 322 pods filtered, 322 pods sorted, 322 pods written, 2922809 good lines written.\n",
      "3460000 lines read, 345 pods queued, 344 pods filtered, 344 pods sorted, 344 pods written, 3124508 good lines written.\n",
      "3670000 lines read, 366 pods queued, 365 pods filtered, 365 pods sorted, 365 pods written, 3318184 good lines written.\n",
      "3890000 lines read, 388 pods queued, 387 pods filtered, 387 pods sorted, 387 pods written, 3520143 good lines written.\n",
      "4029901 lines read, 403 pods queued, 403 pods filtered, 403 pods sorted, 403 pods written, 3664645 good lines written.\n",
      "230000 lines read, 22 pods queued, 21 pods filtered, 21 pods sorted, 21 pods written, 195218 good lines written.\n",
      "440000 lines read, 43 pods queued, 42 pods filtered, 42 pods sorted, 42 pods written, 389203 good lines written.\n",
      "650000 lines read, 64 pods queued, 63 pods filtered, 63 pods sorted, 63 pods written, 583187 good lines written.\n",
      "860000 lines read, 85 pods queued, 84 pods filtered, 84 pods sorted, 84 pods written, 777660 good lines written.\n",
      "1064759 lines read, 106 pods queued, 105 pods filtered, 105 pods sorted, 104 pods written, 963961 good lines written.\n",
      "1280000 lines read, 127 pods queued, 126 pods filtered, 126 pods sorted, 126 pods written, 1165167 good lines written.\n",
      "1490000 lines read, 148 pods queued, 147 pods filtered, 147 pods sorted, 147 pods written, 1361046 good lines written.\n",
      "1710000 lines read, 170 pods queued, 169 pods filtered, 169 pods sorted, 169 pods written, 1557732 good lines written.\n",
      "1920000 lines read, 191 pods queued, 190 pods filtered, 190 pods sorted, 190 pods written, 1749283 good lines written.\n",
      "2140000 lines read, 213 pods queued, 212 pods filtered, 212 pods sorted, 212 pods written, 1950287 good lines written.\n",
      "2350000 lines read, 234 pods queued, 233 pods filtered, 233 pods sorted, 233 pods written, 2144529 good lines written.\n",
      "2560000 lines read, 255 pods queued, 254 pods filtered, 254 pods sorted, 254 pods written, 2339436 good lines written.\n",
      "2780000 lines read, 277 pods queued, 276 pods filtered, 276 pods sorted, 276 pods written, 2542020 good lines written.\n",
      "2990000 lines read, 298 pods queued, 297 pods filtered, 297 pods sorted, 297 pods written, 2735491 good lines written.\n",
      "3200000 lines read, 319 pods queued, 318 pods filtered, 318 pods sorted, 318 pods written, 2930843 good lines written.\n",
      "3420000 lines read, 341 pods queued, 340 pods filtered, 340 pods sorted, 340 pods written, 3134049 good lines written.\n",
      "3589801 lines read, 359 pods queued, 359 pods filtered, 359 pods sorted, 359 pods written, 3307192 good lines written.\n",
      "230000 lines read, 22 pods queued, 21 pods filtered, 21 pods sorted, 21 pods written, 190066 good lines written.\n",
      "440000 lines read, 43 pods queued, 42 pods filtered, 42 pods sorted, 42 pods written, 382586 good lines written.\n",
      "660000 lines read, 65 pods queued, 64 pods filtered, 64 pods sorted, 64 pods written, 584615 good lines written.\n",
      "870000 lines read, 86 pods queued, 85 pods filtered, 85 pods sorted, 85 pods written, 768062 good lines written.\n",
      "1090000 lines read, 108 pods queued, 107 pods filtered, 107 pods sorted, 107 pods written, 959439 good lines written.\n",
      "1310000 lines read, 130 pods queued, 129 pods filtered, 129 pods sorted, 129 pods written, 1160255 good lines written.\n",
      "1520000 lines read, 151 pods queued, 150 pods filtered, 150 pods sorted, 150 pods written, 1353662 good lines written.\n",
      "1733341 lines read, 173 pods queued, 172 pods filtered, 172 pods sorted, 171 pods written, 1549783 good lines written.\n",
      "1950000 lines read, 194 pods queued, 193 pods filtered, 193 pods sorted, 193 pods written, 1750614 good lines written.\n",
      "2160000 lines read, 215 pods queued, 214 pods filtered, 214 pods sorted, 214 pods written, 1944876 good lines written.\n",
      "2380000 lines read, 237 pods queued, 236 pods filtered, 236 pods sorted, 236 pods written, 2148833 good lines written.\n",
      "2590000 lines read, 258 pods queued, 257 pods filtered, 257 pods sorted, 257 pods written, 2342292 good lines written.\n",
      "2806634 lines read, 280 pods queued, 279 pods filtered, 279 pods sorted, 278 pods written, 2542990 good lines written.\n",
      "3020000 lines read, 301 pods queued, 300 pods filtered, 300 pods sorted, 300 pods written, 2739610 good lines written.\n",
      "3230000 lines read, 322 pods queued, 321 pods filtered, 321 pods sorted, 321 pods written, 2930564 good lines written.\n",
      "3450000 lines read, 344 pods queued, 343 pods filtered, 343 pods sorted, 343 pods written, 3129749 good lines written.\n",
      "3465212 lines read, 347 pods queued, 347 pods filtered, 347 pods sorted, 347 pods written, 3161526 good lines written.\n",
      "230000 lines read, 22 pods queued, 21 pods filtered, 21 pods sorted, 21 pods written, 192640 good lines written.\n",
      "440000 lines read, 43 pods queued, 42 pods filtered, 42 pods sorted, 42 pods written, 384468 good lines written.\n",
      "650045 lines read, 65 pods queued, 64 pods filtered, 63 pods sorted, 63 pods written, 573891 good lines written.\n",
      "870000 lines read, 86 pods queued, 85 pods filtered, 85 pods sorted, 85 pods written, 771252 good lines written.\n",
      "1080000 lines read, 108 pods queued, 107 pods filtered, 107 pods sorted, 106 pods written, 965620 good lines written.\n",
      "1300000 lines read, 129 pods queued, 128 pods filtered, 128 pods sorted, 128 pods written, 1168378 good lines written.\n",
      "1510000 lines read, 150 pods queued, 149 pods filtered, 149 pods sorted, 149 pods written, 1361592 good lines written.\n",
      "1730000 lines read, 172 pods queued, 171 pods filtered, 171 pods sorted, 170 pods written, 1563827 good lines written.\n",
      "1940000 lines read, 193 pods queued, 192 pods filtered, 192 pods sorted, 192 pods written, 1758231 good lines written.\n",
      "2160000 lines read, 215 pods queued, 214 pods filtered, 214 pods sorted, 214 pods written, 1959273 good lines written.\n",
      "2370000 lines read, 236 pods queued, 235 pods filtered, 235 pods sorted, 235 pods written, 2153175 good lines written.\n",
      "2588485 lines read, 258 pods queued, 257 pods filtered, 257 pods sorted, 256 pods written, 2352336 good lines written.\n",
      "2800000 lines read, 279 pods queued, 278 pods filtered, 278 pods sorted, 278 pods written, 2550589 good lines written.\n",
      "3010000 lines read, 300 pods queued, 300 pods filtered, 299 pods sorted, 299 pods written, 2744145 good lines written.\n",
      "3194514 lines read, 320 pods queued, 320 pods filtered, 320 pods sorted, 320 pods written, 2931633 good lines written.\n",
      "3194514 lines read, 320 pods queued, 320 pods filtered, 320 pods sorted, 320 pods written, 2931633 good lines written.\n",
      "230000 lines read, 22 pods queued, 21 pods filtered, 21 pods sorted, 21 pods written, 188211 good lines written.\n",
      "440000 lines read, 43 pods queued, 42 pods filtered, 42 pods sorted, 42 pods written, 383493 good lines written.\n",
      "660000 lines read, 65 pods queued, 64 pods filtered, 64 pods sorted, 64 pods written, 586989 good lines written.\n",
      "870000 lines read, 86 pods queued, 85 pods filtered, 85 pods sorted, 85 pods written, 778305 good lines written.\n",
      "1080016 lines read, 108 pods queued, 107 pods filtered, 106 pods sorted, 106 pods written, 973008 good lines written.\n",
      "1300000 lines read, 129 pods queued, 128 pods filtered, 128 pods sorted, 128 pods written, 1175206 good lines written.\n",
      "1510000 lines read, 150 pods queued, 149 pods filtered, 149 pods sorted, 149 pods written, 1365430 good lines written.\n",
      "1730000 lines read, 172 pods queued, 171 pods filtered, 171 pods sorted, 171 pods written, 1566290 good lines written.\n",
      "1949788 lines read, 194 pods queued, 193 pods filtered, 193 pods sorted, 192 pods written, 1767758 good lines written.\n",
      "2160000 lines read, 215 pods queued, 214 pods filtered, 214 pods sorted, 214 pods written, 1962684 good lines written.\n",
      "2377798 lines read, 237 pods queued, 236 pods filtered, 236 pods sorted, 235 pods written, 2162786 good lines written.\n",
      "2590000 lines read, 258 pods queued, 257 pods filtered, 257 pods sorted, 257 pods written, 2359462 good lines written.\n",
      "2800000 lines read, 279 pods queued, 278 pods filtered, 278 pods sorted, 278 pods written, 2553780 good lines written.\n",
      "3020000 lines read, 301 pods queued, 300 pods filtered, 300 pods sorted, 300 pods written, 2756973 good lines written.\n",
      "3230000 lines read, 322 pods queued, 321 pods filtered, 321 pods sorted, 321 pods written, 2950980 good lines written.\n",
      "3450000 lines read, 344 pods queued, 343 pods filtered, 343 pods sorted, 343 pods written, 3154480 good lines written.\n",
      "3612567 lines read, 362 pods queued, 362 pods filtered, 362 pods sorted, 362 pods written, 3321914 good lines written.\n",
      "230000 lines read, 22 pods queued, 21 pods filtered, 21 pods sorted, 21 pods written, 193401 good lines written.\n",
      "440000 lines read, 43 pods queued, 42 pods filtered, 42 pods sorted, 42 pods written, 386739 good lines written.\n",
      "660000 lines read, 65 pods queued, 64 pods filtered, 64 pods sorted, 64 pods written, 587555 good lines written.\n",
      "870000 lines read, 86 pods queued, 85 pods filtered, 85 pods sorted, 85 pods written, 780291 good lines written.\n",
      "1080000 lines read, 107 pods queued, 106 pods filtered, 106 pods sorted, 106 pods written, 972004 good lines written.\n",
      "1293118 lines read, 129 pods queued, 128 pods filtered, 128 pods sorted, 127 pods written, 1168218 good lines written.\n",
      "1510000 lines read, 150 pods queued, 149 pods filtered, 149 pods sorted, 149 pods written, 1366503 good lines written.\n",
      "1720000 lines read, 171 pods queued, 170 pods filtered, 170 pods sorted, 170 pods written, 1560939 good lines written.\n",
      "1940000 lines read, 193 pods queued, 192 pods filtered, 192 pods sorted, 192 pods written, 1764112 good lines written.\n",
      "2150000 lines read, 214 pods queued, 213 pods filtered, 213 pods sorted, 213 pods written, 1957857 good lines written.\n",
      "2360000 lines read, 235 pods queued, 234 pods filtered, 234 pods sorted, 234 pods written, 2152215 good lines written.\n",
      "2580000 lines read, 257 pods queued, 256 pods filtered, 256 pods sorted, 256 pods written, 2353155 good lines written.\n",
      "2790000 lines read, 278 pods queued, 277 pods filtered, 277 pods sorted, 277 pods written, 2546065 good lines written.\n",
      "3010000 lines read, 300 pods queued, 299 pods filtered, 299 pods sorted, 299 pods written, 2749051 good lines written.\n",
      "3220000 lines read, 321 pods queued, 320 pods filtered, 320 pods sorted, 320 pods written, 2942395 good lines written.\n",
      "3345619 lines read, 335 pods queued, 335 pods filtered, 335 pods sorted, 335 pods written, 3070838 good lines written.\n",
      "230000 lines read, 22 pods queued, 21 pods filtered, 21 pods sorted, 21 pods written, 190199 good lines written.\n",
      "440000 lines read, 43 pods queued, 42 pods filtered, 42 pods sorted, 42 pods written, 380859 good lines written.\n",
      "651538 lines read, 65 pods queued, 64 pods filtered, 64 pods sorted, 64 pods written, 583024 good lines written.\n",
      "870000 lines read, 86 pods queued, 85 pods filtered, 85 pods sorted, 85 pods written, 772862 good lines written.\n",
      "1080000 lines read, 107 pods queued, 106 pods filtered, 106 pods sorted, 106 pods written, 962395 good lines written.\n",
      "1300000 lines read, 129 pods queued, 128 pods filtered, 128 pods sorted, 128 pods written, 1161655 good lines written.\n",
      "1510000 lines read, 150 pods queued, 149 pods filtered, 149 pods sorted, 149 pods written, 1354645 good lines written.\n",
      "1720000 lines read, 171 pods queued, 170 pods filtered, 170 pods sorted, 170 pods written, 1547593 good lines written.\n",
      "1940000 lines read, 193 pods queued, 192 pods filtered, 192 pods sorted, 192 pods written, 1747376 good lines written.\n",
      "2150000 lines read, 214 pods queued, 213 pods filtered, 213 pods sorted, 213 pods written, 1939363 good lines written.\n",
      "2370000 lines read, 236 pods queued, 235 pods filtered, 235 pods sorted, 235 pods written, 2140128 good lines written.\n",
      "2580000 lines read, 257 pods queued, 256 pods filtered, 256 pods sorted, 256 pods written, 2331651 good lines written.\n",
      "2800000 lines read, 279 pods queued, 278 pods filtered, 278 pods sorted, 278 pods written, 2534066 good lines written.\n",
      "3020000 lines read, 301 pods queued, 300 pods filtered, 300 pods sorted, 299 pods written, 2733627 good lines written.\n",
      "3041754 lines read, 305 pods queued, 305 pods filtered, 305 pods sorted, 305 pods written, 2769919 good lines written.\n",
      "220000 lines read, 21 pods queued, 20 pods filtered, 20 pods sorted, 20 pods written, 184480 good lines written.\n",
      "440000 lines read, 43 pods queued, 42 pods filtered, 42 pods sorted, 42 pods written, 387647 good lines written.\n",
      "650000 lines read, 65 pods queued, 64 pods filtered, 64 pods sorted, 63 pods written, 578688 good lines written.\n",
      "870000 lines read, 86 pods queued, 85 pods filtered, 85 pods sorted, 85 pods written, 780409 good lines written.\n",
      "1080000 lines read, 107 pods queued, 106 pods filtered, 106 pods sorted, 106 pods written, 969978 good lines written.\n",
      "1300000 lines read, 129 pods queued, 128 pods filtered, 128 pods sorted, 128 pods written, 1173705 good lines written.\n",
      "1510000 lines read, 150 pods queued, 149 pods filtered, 149 pods sorted, 149 pods written, 1368451 good lines written.\n",
      "1721864 lines read, 172 pods queued, 171 pods filtered, 171 pods sorted, 170 pods written, 1563532 good lines written.\n",
      "1940000 lines read, 193 pods queued, 192 pods filtered, 192 pods sorted, 192 pods written, 1763599 good lines written.\n",
      "2160000 lines read, 215 pods queued, 214 pods filtered, 214 pods sorted, 214 pods written, 1967622 good lines written.\n",
      "2370000 lines read, 236 pods queued, 235 pods filtered, 235 pods sorted, 235 pods written, 2161358 good lines written.\n",
      "2580000 lines read, 257 pods queued, 256 pods filtered, 256 pods sorted, 256 pods written, 2357521 good lines written.\n",
      "2725521 lines read, 273 pods queued, 273 pods filtered, 273 pods sorted, 273 pods written, 2507647 good lines written.\n",
      "230000 lines read, 22 pods queued, 21 pods filtered, 21 pods sorted, 21 pods written, 191563 good lines written.\n",
      "440000 lines read, 43 pods queued, 42 pods filtered, 42 pods sorted, 42 pods written, 382626 good lines written.\n",
      "660000 lines read, 65 pods queued, 64 pods filtered, 64 pods sorted, 64 pods written, 581749 good lines written.\n",
      "870000 lines read, 86 pods queued, 85 pods filtered, 85 pods sorted, 85 pods written, 772998 good lines written.\n",
      "1080000 lines read, 107 pods queued, 106 pods filtered, 106 pods sorted, 106 pods written, 965880 good lines written.\n",
      "1300000 lines read, 129 pods queued, 128 pods filtered, 128 pods sorted, 128 pods written, 1164343 good lines written.\n",
      "1510000 lines read, 150 pods queued, 149 pods filtered, 149 pods sorted, 149 pods written, 1357894 good lines written.\n",
      "1720000 lines read, 171 pods queued, 170 pods filtered, 170 pods sorted, 170 pods written, 1550377 good lines written.\n",
      "1940000 lines read, 193 pods queued, 192 pods filtered, 192 pods sorted, 192 pods written, 1750460 good lines written.\n",
      "2150000 lines read, 214 pods queued, 213 pods filtered, 213 pods sorted, 213 pods written, 1943564 good lines written.\n",
      "2370000 lines read, 236 pods queued, 235 pods filtered, 235 pods sorted, 234 pods written, 2140923 good lines written.\n",
      "2419089 lines read, 242 pods queued, 242 pods filtered, 242 pods sorted, 242 pods written, 2209086 good lines written.\n",
      "230000 lines read, 22 pods queued, 21 pods filtered, 21 pods sorted, 21 pods written, 191418 good lines written.\n",
      "440000 lines read, 43 pods queued, 42 pods filtered, 42 pods sorted, 42 pods written, 379973 good lines written.\n",
      "660000 lines read, 65 pods queued, 64 pods filtered, 64 pods sorted, 64 pods written, 577891 good lines written.\n",
      "870000 lines read, 86 pods queued, 85 pods filtered, 85 pods sorted, 85 pods written, 770610 good lines written.\n",
      "1090000 lines read, 108 pods queued, 107 pods filtered, 107 pods sorted, 107 pods written, 974187 good lines written.\n",
      "1300000 lines read, 129 pods queued, 128 pods filtered, 128 pods sorted, 128 pods written, 1157060 good lines written.\n",
      "1520000 lines read, 151 pods queued, 150 pods filtered, 150 pods sorted, 150 pods written, 1353519 good lines written.\n",
      "1740000 lines read, 173 pods queued, 172 pods filtered, 172 pods sorted, 172 pods written, 1547523 good lines written.\n",
      "1761162 lines read, 177 pods queued, 177 pods filtered, 177 pods sorted, 177 pods written, 1583543 good lines written.\n",
      "230000 lines read, 22 pods queued, 21 pods filtered, 21 pods sorted, 21 pods written, 189008 good lines written.\n",
      "440000 lines read, 43 pods queued, 42 pods filtered, 42 pods sorted, 42 pods written, 381187 good lines written.\n",
      "650000 lines read, 64 pods queued, 63 pods filtered, 63 pods sorted, 63 pods written, 574253 good lines written.\n",
      "870000 lines read, 86 pods queued, 85 pods filtered, 85 pods sorted, 85 pods written, 775812 good lines written.\n",
      "1080000 lines read, 107 pods queued, 106 pods filtered, 106 pods sorted, 106 pods written, 963437 good lines written.\n",
      "1300000 lines read, 129 pods queued, 128 pods filtered, 128 pods sorted, 128 pods written, 1166124 good lines written.\n",
      "1510000 lines read, 150 pods queued, 149 pods filtered, 149 pods sorted, 149 pods written, 1360113 good lines written.\n",
      "1720000 lines read, 171 pods queued, 170 pods filtered, 170 pods sorted, 170 pods written, 1552606 good lines written.\n",
      "1939437 lines read, 193 pods queued, 192 pods filtered, 192 pods sorted, 191 pods written, 1753026 good lines written.\n",
      "2150000 lines read, 214 pods queued, 213 pods filtered, 213 pods sorted, 213 pods written, 1944050 good lines written.\n",
      "2370000 lines read, 236 pods queued, 235 pods filtered, 235 pods sorted, 235 pods written, 2140663 good lines written.\n",
      "2492525 lines read, 250 pods queued, 250 pods filtered, 250 pods sorted, 250 pods written, 2269849 good lines written.\n",
      "225992 lines read, 22 pods queued, 21 pods filtered, 21 pods sorted, 20 pods written, 186898 good lines written.\n",
      "440000 lines read, 43 pods queued, 42 pods filtered, 42 pods sorted, 42 pods written, 384227 good lines written.\n",
      "650000 lines read, 64 pods queued, 63 pods filtered, 63 pods sorted, 63 pods written, 577240 good lines written.\n",
      "860000 lines read, 85 pods queued, 84 pods filtered, 84 pods sorted, 84 pods written, 772565 good lines written.\n",
      "1080000 lines read, 107 pods queued, 106 pods filtered, 106 pods sorted, 106 pods written, 976796 good lines written.\n",
      "1290000 lines read, 128 pods queued, 127 pods filtered, 127 pods sorted, 127 pods written, 1169822 good lines written.\n",
      "1500000 lines read, 149 pods queued, 148 pods filtered, 148 pods sorted, 148 pods written, 1364267 good lines written.\n",
      "1720000 lines read, 171 pods queued, 170 pods filtered, 170 pods sorted, 170 pods written, 1564920 good lines written.\n",
      "1930000 lines read, 192 pods queued, 191 pods filtered, 191 pods sorted, 191 pods written, 1758603 good lines written.\n",
      "2150000 lines read, 214 pods queued, 213 pods filtered, 213 pods sorted, 213 pods written, 1961172 good lines written.\n",
      "2360000 lines read, 235 pods queued, 234 pods filtered, 234 pods sorted, 234 pods written, 2152339 good lines written.\n",
      "2440431 lines read, 245 pods queued, 245 pods filtered, 245 pods sorted, 245 pods written, 2242578 good lines written.\n",
      "230000 lines read, 22 pods queued, 21 pods filtered, 21 pods sorted, 21 pods written, 194140 good lines written.\n",
      "440000 lines read, 43 pods queued, 42 pods filtered, 42 pods sorted, 42 pods written, 388949 good lines written.\n",
      "650000 lines read, 64 pods queued, 63 pods filtered, 63 pods sorted, 63 pods written, 580370 good lines written.\n",
      "870000 lines read, 86 pods queued, 85 pods filtered, 85 pods sorted, 85 pods written, 781672 good lines written.\n",
      "1080000 lines read, 107 pods queued, 106 pods filtered, 106 pods sorted, 106 pods written, 974985 good lines written.\n",
      "1290000 lines read, 128 pods queued, 127 pods filtered, 127 pods sorted, 127 pods written, 1167248 good lines written.\n",
      "1510000 lines read, 150 pods queued, 149 pods filtered, 149 pods sorted, 149 pods written, 1368767 good lines written.\n",
      "1720000 lines read, 171 pods queued, 171 pods filtered, 170 pods sorted, 170 pods written, 1557874 good lines written.\n",
      "1940000 lines read, 193 pods queued, 192 pods filtered, 192 pods sorted, 192 pods written, 1759850 good lines written.\n",
      "2025581 lines read, 203 pods queued, 203 pods filtered, 203 pods sorted, 203 pods written, 1855170 good lines written.\n",
      "230000 lines read, 22 pods queued, 21 pods filtered, 21 pods sorted, 21 pods written, 184447 good lines written.\n",
      "440000 lines read, 43 pods queued, 42 pods filtered, 42 pods sorted, 42 pods written, 372342 good lines written.\n",
      "660000 lines read, 65 pods queued, 64 pods filtered, 64 pods sorted, 64 pods written, 574717 good lines written.\n",
      "870000 lines read, 86 pods queued, 85 pods filtered, 85 pods sorted, 85 pods written, 769292 good lines written.\n",
      "1090000 lines read, 108 pods queued, 107 pods filtered, 107 pods sorted, 107 pods written, 971385 good lines written.\n",
      "1300000 lines read, 129 pods queued, 128 pods filtered, 128 pods sorted, 128 pods written, 1160731 good lines written.\n",
      "1520000 lines read, 151 pods queued, 150 pods filtered, 150 pods sorted, 150 pods written, 1364179 good lines written.\n",
      "1730000 lines read, 172 pods queued, 171 pods filtered, 171 pods sorted, 171 pods written, 1558460 good lines written.\n",
      "1950000 lines read, 194 pods queued, 193 pods filtered, 193 pods sorted, 193 pods written, 1760969 good lines written.\n",
      "2160000 lines read, 215 pods queued, 214 pods filtered, 214 pods sorted, 214 pods written, 1953384 good lines written.\n",
      "2345231 lines read, 235 pods queued, 235 pods filtered, 235 pods sorted, 235 pods written, 2143316 good lines written.\n",
      "230000 lines read, 22 pods queued, 21 pods filtered, 21 pods sorted, 21 pods written, 182299 good lines written.\n",
      "440000 lines read, 43 pods queued, 42 pods filtered, 42 pods sorted, 42 pods written, 375370 good lines written.\n",
      "650000 lines read, 64 pods queued, 63 pods filtered, 63 pods sorted, 63 pods written, 567651 good lines written.\n",
      "870000 lines read, 86 pods queued, 85 pods filtered, 85 pods sorted, 85 pods written, 768252 good lines written.\n",
      "1080000 lines read, 107 pods queued, 106 pods filtered, 106 pods sorted, 106 pods written, 962883 good lines written.\n",
      "1290000 lines read, 128 pods queued, 127 pods filtered, 127 pods sorted, 127 pods written, 1157830 good lines written.\n",
      "1510000 lines read, 150 pods queued, 149 pods filtered, 149 pods sorted, 149 pods written, 1359990 good lines written.\n",
      "1720000 lines read, 171 pods queued, 170 pods filtered, 170 pods sorted, 170 pods written, 1553586 good lines written.\n",
      "1930000 lines read, 192 pods queued, 191 pods filtered, 191 pods sorted, 191 pods written, 1743882 good lines written.\n",
      "2064613 lines read, 207 pods queued, 207 pods filtered, 207 pods sorted, 207 pods written, 1883011 good lines written.\n",
      "230000 lines read, 22 pods queued, 21 pods filtered, 21 pods sorted, 21 pods written, 181269 good lines written.\n",
      "450000 lines read, 44 pods queued, 43 pods filtered, 43 pods sorted, 43 pods written, 377322 good lines written.\n",
      "660000 lines read, 65 pods queued, 64 pods filtered, 64 pods sorted, 64 pods written, 564892 good lines written.\n",
      "844935 lines read, 85 pods queued, 85 pods filtered, 85 pods sorted, 85 pods written, 750333 good lines written.\n",
      "844935 lines read, 85 pods queued, 85 pods filtered, 85 pods sorted, 85 pods written, 750333 good lines written.\n",
      "230000 lines read, 22 pods queued, 21 pods filtered, 21 pods sorted, 21 pods written, 190798 good lines written.\n",
      "440000 lines read, 43 pods queued, 42 pods filtered, 42 pods sorted, 42 pods written, 384740 good lines written.\n",
      "650000 lines read, 64 pods queued, 63 pods filtered, 63 pods sorted, 63 pods written, 577466 good lines written.\n",
      "860000 lines read, 85 pods queued, 84 pods filtered, 84 pods sorted, 84 pods written, 771951 good lines written.\n",
      "1070000 lines read, 106 pods queued, 105 pods filtered, 105 pods sorted, 105 pods written, 967262 good lines written.\n",
      "1290000 lines read, 128 pods queued, 127 pods filtered, 127 pods sorted, 127 pods written, 1170242 good lines written.\n",
      "1500000 lines read, 149 pods queued, 148 pods filtered, 148 pods sorted, 148 pods written, 1365041 good lines written.\n",
      "1710000 lines read, 170 pods queued, 169 pods filtered, 169 pods sorted, 169 pods written, 1559951 good lines written.\n",
      "1836797 lines read, 184 pods queued, 184 pods filtered, 184 pods sorted, 184 pods written, 1694721 good lines written.\n",
      "230000 lines read, 22 pods queued, 21 pods filtered, 21 pods sorted, 21 pods written, 192316 good lines written.\n",
      "440000 lines read, 43 pods queued, 42 pods filtered, 42 pods sorted, 42 pods written, 384402 good lines written.\n",
      "660000 lines read, 65 pods queued, 64 pods filtered, 64 pods sorted, 63 pods written, 587013 good lines written.\n",
      "870000 lines read, 86 pods queued, 85 pods filtered, 85 pods sorted, 85 pods written, 783089 good lines written.\n",
      "1080000 lines read, 107 pods queued, 106 pods filtered, 106 pods sorted, 106 pods written, 977781 good lines written.\n",
      "1290000 lines read, 128 pods queued, 127 pods filtered, 127 pods sorted, 127 pods written, 1172702 good lines written.\n",
      "1457948 lines read, 146 pods queued, 146 pods filtered, 146 pods sorted, 146 pods written, 1346483 good lines written.\n",
      "230000 lines read, 22 pods queued, 21 pods filtered, 21 pods sorted, 21 pods written, 173237 good lines written.\n",
      "440000 lines read, 43 pods queued, 42 pods filtered, 42 pods sorted, 42 pods written, 346594 good lines written.\n",
      "660000 lines read, 65 pods queued, 64 pods filtered, 64 pods sorted, 64 pods written, 540869 good lines written.\n",
      "870000 lines read, 86 pods queued, 85 pods filtered, 85 pods sorted, 85 pods written, 718684 good lines written.\n",
      "965259 lines read, 97 pods queued, 97 pods filtered, 97 pods sorted, 97 pods written, 816094 good lines written.\n",
      "230000 lines read, 22 pods queued, 21 pods filtered, 21 pods sorted, 21 pods written, 186513 good lines written.\n",
      "440000 lines read, 44 pods queued, 43 pods filtered, 43 pods sorted, 42 pods written, 374567 good lines written.\n",
      "660000 lines read, 65 pods queued, 64 pods filtered, 64 pods sorted, 64 pods written, 569084 good lines written.\n",
      "870000 lines read, 86 pods queued, 85 pods filtered, 85 pods sorted, 85 pods written, 761307 good lines written.\n",
      "1090000 lines read, 108 pods queued, 107 pods filtered, 107 pods sorted, 107 pods written, 961447 good lines written.\n",
      "1300000 lines read, 129 pods queued, 128 pods filtered, 128 pods sorted, 128 pods written, 1153824 good lines written.\n",
      "1497718 lines read, 150 pods queued, 150 pods filtered, 150 pods sorted, 150 pods written, 1350104 good lines written.\n",
      "1497718 lines read, 150 pods queued, 150 pods filtered, 150 pods sorted, 150 pods written, 1350104 good lines written.\n"
     ]
    }
   ],
   "source": [
    "%%bash\n",
    "source ~/.bashrc\n",
    "conda activate py2\n",
    "cd /moto/eaton/projects/macaques/scripts/genomics_general/\n",
    "for i in 1 2 3 4 5 6 7 8 9 10 11 12 13 14 15 16 17 18 19 20; do\n",
    "    python filterGenotypes.py -s SRR4454026,SRR4454020,fasso,fasno \\\n",
    "        -i /moto/eaton/projects/macaques/twisst/Chr$i.geno.gz | grep -v \"N|N\" \\\n",
    "        > /moto/eaton/projects/macaques/twisst/Chr$i.pops.geno\n",
    "done"
   ]
  },
  {
   "cell_type": "code",
   "execution_count": null,
   "metadata": {},
   "outputs": [],
   "source": []
  },
  {
   "cell_type": "code",
   "execution_count": null,
   "metadata": {},
   "outputs": [],
   "source": []
  },
  {
   "cell_type": "code",
   "execution_count": null,
   "metadata": {},
   "outputs": [],
   "source": [
    "%%bash\n",
    "source ~/.bashrc\n",
    "conda activate py2\n",
    "cd /moto/eaton/projects/macaques/scripts/genomics_general/phylo/\n",
    "for i in 1 2 3 4 5 6 7 8 9 10 11 12 13 14 15 16 17 18 19 20; do\n",
    "    python -m raxml_sliding_windows.py -T 12 \\\n",
    "        -g /moto/eaton/projects/macaques/twisst/Chr$i.pops.geno \\\n",
    "        -w 50 --windType sites --prefix /moto/eaton/projects/macaques/twisst/Chr$i.small.raxml \\\n",
    "        --raxml /moto/eaton/users/nsl2119/miniconda3/envs/py2/bin/raxmlHPC-PTHREADS-SSE3\n",
    "done"
   ]
  },
  {
   "cell_type": "code",
   "execution_count": null,
   "metadata": {},
   "outputs": [],
   "source": [
    "%%bash\n",
    "source ~/.bashrc\n",
    "conda activate py2\n",
    "cd /moto/eaton/projects/macaques/scripts/twisst/\n",
    "for i in 1 2 3 4 5 6 7 8 9 10 11 12 13 14 15 16 17 18 19 20; do\n",
    "    python twisst.py \\\n",
    "        -t /moto/eaton/projects/macaques/twisst/Chr$i.small.raxml.trees.gz \\\n",
    "        -w /moto/eaton/projects/macaques/twisst/Chr$i.small.raxml.trees.csv.gz \\\n",
    "        --outputTopos /moto/eaton/projects/macaques/twisst/Chr$i.small.topologies.trees \\\n",
    "        -g mulsolo -g mulno -g fasN -g fasS \\\n",
    "        --groupsFile /moto/eaton/projects/macaques/twisst/groups.tsv --method complete\n",
    "done"
   ]
  },
  {
   "cell_type": "code",
   "execution_count": null,
   "metadata": {},
   "outputs": [],
   "source": [
    "-g assamensis -g arctoides -g fasN -g anubis "
   ]
  },
  {
   "cell_type": "code",
   "execution_count": null,
   "metadata": {},
   "outputs": [],
   "source": [
    "%%bash\n",
    "source ~/.bashrc\n",
    "conda activate r\n",
    "export LC_ALL=\"en_US.UTF-8\"\n",
    "for i in 1 2 3 4 5 6 7 8 9 10 11 12 13 14 15 16 17 18 19 20; do\n",
    "    CHR=$(tail /moto/eaton/projects/macaques/twisst/Chr$i.small.raxml.data.tsv | awk '{x=$1}END{print x}')\n",
    "    LENGTH=$(tail /moto/eaton/projects/macaques/twisst/Chr$i.small.raxml.data.tsv | awk '{x=$3}END{print x}')\n",
    "    Rscript /moto/eaton/projects/macaques/scripts/plot_twisst_per_lg.r \\\n",
    "        /moto/eaton/projects/macaques/twisst/Chr$i.small.raxml.trees.csv.gz \\\n",
    "        /moto/eaton/projects/macaques/twisst/Chr$i.small.raxml.data.tsv $CHR $LENGTH \\\n",
    "        /moto/eaton/projects/macaques/twisst/Chr$i.small.rect.pdf /moto/eaton/projects/macaques/twisst/Chr$i.small.smooth.pdf\n",
    "done"
   ]
  },
  {
   "cell_type": "code",
   "execution_count": null,
   "metadata": {},
   "outputs": [],
   "source": [
    "%%bash\n",
    "source ~/.bashrc\n",
    "conda activate py2\n",
    "cd /moto/eaton/projects/macaques/scripts/genomics_general/phylo/\n",
    "for i in 1 2 3 4 5 6 7 8 9 10 11 12 13 14 15 16 17 18 19 20; do\n",
    "    python -m raxml_sliding_windows.py -T 12 \\\n",
    "        -g /moto/eaton/projects/macaques/twisst/Chr$i.pops.geno \\\n",
    "        -w 100 --overlap 50 --windType sites --prefix /moto/eaton/projects/macaques/twisst/Chr$i.overlap.raxml \\\n",
    "        --raxml /moto/eaton/users/nsl2119/miniconda3/envs/py2/bin/raxmlHPC-PTHREADS-SSE3\n",
    "done"
   ]
  },
  {
   "cell_type": "code",
   "execution_count": null,
   "metadata": {},
   "outputs": [],
   "source": [
    "%%bash\n",
    "source ~/.bashrc\n",
    "conda activate py2\n",
    "cd /moto/eaton/projects/macaques/scripts/twisst/\n",
    "for i in 1 2 3 4 5 6 7 8 9 10 11 12 13 14 15 16 17 18 19 20; do\n",
    "    python twisst.py \\\n",
    "        -t /moto/eaton/projects/macaques/twisst/Chr$i.overlap.raxml.trees.gz \\\n",
    "        -w /moto/eaton/projects/macaques/twisst/Chr$i.overlap.raxml.trees.csv.gz \\\n",
    "        --outputTopos /moto/eaton/projects/macaques/twisst/Chr$i.overlap.topologies.trees \\\n",
    "        -g mulsolo -g mulno -g fasN -g fasS \\\n",
    "        --groupsFile /moto/eaton/projects/macaques/twisst/groups.tsv --method complete\n",
    "done"
   ]
  },
  {
   "cell_type": "code",
   "execution_count": null,
   "metadata": {},
   "outputs": [],
   "source": [
    "%%bash\n",
    "source ~/.bashrc\n",
    "conda activate r\n",
    "export LC_ALL=\"en_US.UTF-8\"\n",
    "for i in 1 2 3 4 5 6 7 8 9 10 11 12 13 14 15 16 17 18 19 20; do\n",
    "    CHR=$(tail /moto/eaton/projects/macaques/twisst/Chr$i.overlap.raxml.data.tsv | awk '{x=$1}END{print x}')\n",
    "    LENGTH=$(tail /moto/eaton/projects/macaques/twisst/Chr$i.overlap.raxml.data.tsv | awk '{x=$3}END{print x}')\n",
    "    Rscript /moto/eaton/projects/macaques/scripts/plot_twisst_per_lg.r \\\n",
    "        /moto/eaton/projects/macaques/twisst/Chr$i.overlap.raxml.trees.csv.gz \\\n",
    "        /moto/eaton/projects/macaques/twisst/Chr$i.overlap.raxml.data.tsv $CHR $LENGTH \\\n",
    "        /moto/eaton/projects/macaques/twisst/Chr$i.overlap.rect.pdf /moto/eaton/projects/macaques/twisst/Chr$i.overlap.smooth.pdf\n",
    "done"
   ]
  },
  {
   "cell_type": "code",
   "execution_count": null,
   "metadata": {},
   "outputs": [],
   "source": [
    "!scancel -u nsl2119"
   ]
  },
  {
   "cell_type": "code",
   "execution_count": null,
   "metadata": {},
   "outputs": [],
   "source": []
  }
 ],
 "metadata": {
  "kernelspec": {
   "display_name": "Python py2",
   "language": "python",
   "name": "py2"
  },
  "language_info": {
   "codemirror_mode": {
    "name": "ipython",
    "version": 2
   },
   "file_extension": ".py",
   "mimetype": "text/x-python",
   "name": "python",
   "nbconvert_exporter": "python",
   "pygments_lexer": "ipython2",
   "version": "2.7.15"
  }
 },
 "nbformat": 4,
 "nbformat_minor": 2
}

{
 "cells": [
  {
   "cell_type": "code",
   "execution_count": 7,
   "metadata": {},
   "outputs": [],
   "source": [
    "%%bash\n",
    "source ~/.bashrc\n",
    "conda activate py2\n",
    "for i in DRR001227.rg DRR001228.rg DRR001229.rg DRR001230.rg DRR001231f DRR001232f DRR001233f DRR001231r DRR001232r DRR001233r; do\n",
    "    samtools view -@ 12 -T /moto/eaton/projects/macaques/refpapio/refpapio.fa -C -o \\\n",
    "        /moto/eaton/projects/macaques/mapped/$i.raw.sorted.cram /moto/eaton/projects/macaques/mapped/$i.raw.sorted.bam\n",
    "done"
   ]
  },
  {
   "cell_type": "code",
   "execution_count": 9,
   "metadata": {},
   "outputs": [],
   "source": [
    "%%bash\n",
    "source ~/.bashrc\n",
    "conda activate py2\n",
    "for i in DRR001227.rg DRR001228.rg DRR001229.rg DRR001230.rg DRR001231f DRR001232f DRR001233f DRR001231r DRR001232r DRR001233r; do\n",
    "    rm -rf /moto/eaton/projects/macaques/mapped/$i.raw.sorted.bam\n",
    "done"
   ]
  },
  {
   "cell_type": "code",
   "execution_count": null,
   "metadata": {},
   "outputs": [],
   "source": [
    "%%bash\n",
    "source ~/.bashrc\n",
    "conda activate py2\n",
    "for i in ngmDRR002233 ngmSRR1024051 ngmSRR2981114 ngmSRR2981139 ngmSRR2981140 ngmSRR4453966; do\n",
    "    samtools view -@ 12 -T /moto/eaton/projects/macaques/refpapio/refpapio.fa -C -o \\\n",
    "        /moto/eaton/projects/macaques/mapped/$i.rg.raw.sorted.cram /moto/eaton/projects/macaques/mapped/$i.rg.raw.sorted.bam\n",
    "done"
   ]
  },
  {
   "cell_type": "code",
   "execution_count": 1,
   "metadata": {},
   "outputs": [],
   "source": [
    "%%bash\n",
    "source ~/.bashrc\n",
    "conda activate py2\n",
    "for i in ngmDRR002233 ngmSRR1024051 ngmSRR2981114 ngmSRR2981139 ngmSRR2981140 ngmSRR4453966; do\n",
    "    rm -rf /moto/eaton/projects/macaques/mapped/$i.rg.raw.sorted.bam\n",
    "done"
   ]
  },
  {
   "cell_type": "code",
   "execution_count": 2,
   "metadata": {},
   "outputs": [],
   "source": [
    "%%bash\n",
    "source ~/.bashrc\n",
    "conda activate py2\n",
    "for i in ngmSRR4454020 ngmSRR4454026 ngmSRR5628058 ngmSRR5947292 ngmSRR5947293 ngmSRR5947294 ngmSRR7588781; do\n",
    "    samtools view -@ 12 -T /moto/eaton/projects/macaques/refpapio/refpapio.fa -C -o \\\n",
    "        /moto/eaton/projects/macaques/mapped/$i.rg.raw.sorted.cram /moto/eaton/projects/macaques/mapped/$i.rg.raw.sorted.bam\n",
    "done"
   ]
  },
  {
   "cell_type": "code",
   "execution_count": 3,
   "metadata": {},
   "outputs": [],
   "source": [
    "%%bash\n",
    "source ~/.bashrc\n",
    "conda activate py2\n",
    "for i in ngmSRR4454020 ngmSRR4454026 ngmSRR5628058 ngmSRR5947292 ngmSRR5947293 ngmSRR5947294 ngmSRR7588781; do\n",
    "    rm -rf /moto/eaton/projects/macaques/mapped/$i.rg.raw.sorted.bam\n",
    "done"
   ]
  },
  {
   "cell_type": "code",
   "execution_count": null,
   "metadata": {},
   "outputs": [],
   "source": [
    "%%bash\n",
    "source ~/.bashrc\n",
    "conda activate py2\n",
    "for i in ngmSRR8285768 ngmfasno ngmfasso ngmfuscata2; do\n",
    "    samtools view -@ 12 -T /moto/eaton/projects/macaques/refpapio/refpapio.fa -C -o \\\n",
    "        /moto/eaton/projects/macaques/mapped/$i.rg.raw.sorted.cram /moto/eaton/projects/macaques/mapped/$i.rg.raw.sorted.bam\n",
    "done"
   ]
  },
  {
   "cell_type": "code",
   "execution_count": null,
   "metadata": {},
   "outputs": [],
   "source": [
    "%%bash\n",
    "source ~/.bashrc\n",
    "conda activate py2\n",
    "for i in ngmSRR8285768 ngmfasno ngmfasso ngmfuscata2; do\n",
    "    rm -rf /moto/eaton/projects/macaques/mapped/$i.rg.raw.sorted.bam\n",
    "done"
   ]
  },
  {
   "cell_type": "code",
   "execution_count": 2,
   "metadata": {},
   "outputs": [],
   "source": [
    "%%bash\n",
    "source ~/.bashrc\n",
    "conda activate py2\n",
    "for i in ngmnemestrina2 ngmsilenus ngmsylvanus; do\n",
    "    samtools view -@ 12 -T /moto/eaton/projects/macaques/refpapio/refpapio.fa -C -o \\\n",
    "        /moto/eaton/projects/macaques/mapped/$i.rg.raw.sorted.cram /moto/eaton/projects/macaques/mapped/$i.rg.raw.sorted.bam\n",
    "done"
   ]
  },
  {
   "cell_type": "code",
   "execution_count": 3,
   "metadata": {},
   "outputs": [],
   "source": [
    "%%bash\n",
    "source ~/.bashrc\n",
    "conda activate py2\n",
    "for i in ngmnemestrina2 ngmsilenus ngmsylvanus; do\n",
    "    rm -rf /moto/eaton/projects/macaques/mapped/$i.rg.raw.sorted.bam\n",
    "done"
   ]
  }
 ],
 "metadata": {
  "kernelspec": {
   "display_name": "Python py2",
   "language": "python",
   "name": "py2"
  },
  "language_info": {
   "codemirror_mode": {
    "name": "ipython",
    "version": 2
   },
   "file_extension": ".py",
   "mimetype": "text/x-python",
   "name": "python",
   "nbconvert_exporter": "python",
   "pygments_lexer": "ipython2",
   "version": "2.7.15"
  }
 },
 "nbformat": 4,
 "nbformat_minor": 2
}

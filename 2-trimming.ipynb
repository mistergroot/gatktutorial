{
 "cells": [
  {
   "cell_type": "markdown",
   "metadata": {},
   "source": [
    "## 2. Trimming fastqs"
   ]
  },
  {
   "cell_type": "markdown",
   "metadata": {},
   "source": [
    "fastp is a brand new fastq preprocessor that is \"2~5 times faster than other FASTQ preprocessing tools like Trimmomatic or Cutadapt\". Automatically finds and trims adapters and quality filters. See [publication](https://academic.oup.com/bioinformatics/article/34/17/i884/5093234) and [documentation](https://github.com/OpenGene/fastp) for more info. "
   ]
  },
  {
   "cell_type": "code",
   "execution_count": 9,
   "metadata": {},
   "outputs": [],
   "source": [
    "##conda install -c bioconda fastp"
   ]
  },
  {
   "cell_type": "markdown",
   "metadata": {},
   "source": [
    "1) Filtering northern _M. mulatta_ using default arguments:"
   ]
  },
  {
   "cell_type": "code",
   "execution_count": 1,
   "metadata": {},
   "outputs": [],
   "source": [
    "!mkdir /moto/eaton/projects/macaques/mulattanorthern/TRIM"
   ]
  },
  {
   "cell_type": "code",
   "execution_count": 3,
   "metadata": {
    "scrolled": true
   },
   "outputs": [
    {
     "name": "stdout",
     "output_type": "stream",
     "text": [
      "Read1 before filtering:\n",
      "total reads: 169608187\n",
      "total bases: 16960818700\n",
      "Q20 bases: 16510152516(97.3429%)\n",
      "Q30 bases: 15671120053(92.396%)\n",
      "\n",
      "Read1 after filtering:\n",
      "total reads: 164771043\n",
      "total bases: 16462286295\n",
      "Q20 bases: 16123333399(97.941%)\n",
      "Q30 bases: 15357210466(93.2872%)\n",
      "\n",
      "Read2 before filtering:\n",
      "total reads: 169608187\n",
      "total bases: 16960818700\n",
      "Q20 bases: 16133253852(95.1207%)\n",
      "Q30 bases: 15000103317(88.4397%)\n",
      "\n",
      "Read2 aftering filtering:\n",
      "total reads: 164771043\n",
      "total bases: 16462286295\n",
      "Q20 bases: 15856822396(96.3221%)\n",
      "Q30 bases: 14791855948(89.853%)\n",
      "\n",
      "Filtering result:\n",
      "reads passed filter: 329542086\n",
      "reads failed due to low quality: 9644506\n",
      "reads failed due to too many N: 29782\n",
      "reads failed due to too short: 0\n",
      "reads with adapter trimmed: 613086\n",
      "bases trimmed due to adapters: 29644578\n",
      "\n",
      "Duplication rate: 1.01364%\n",
      "\n",
      "Insert size peak (evaluated by paired-end reads): 169\n",
      "\n",
      "JSON report: /moto/eaton/projects/macaques/mulattanorthern/TRIM/mulattanorthernSRR4454026.json\n",
      "HTML report: /moto/eaton/projects/macaques/mulattanorthern/TRIM/mulattanorthernSRR4454026.html\n",
      "\n",
      "fastp -i /moto/eaton/projects/macaques/mulattanorthern/mulattanorthernSRR4454026_1.fastq.gz -I /moto/eaton/projects/macaques/mulattanorthern/mulattanorthernSRR4454026_2.fastq.gz -o /moto/eaton/projects/macaques/mulattanorthern/TRIM/mulattanorthernSRR4454026_1.fastq.gz -O /moto/eaton/projects/macaques/mulattanorthern/TRIM/mulattanorthernSRR4454026_2.fastq.gz --json /moto/eaton/projects/macaques/mulattanorthern/TRIM/mulattanorthernSRR4454026.json --html /moto/eaton/projects/macaques/mulattanorthern/TRIM/mulattanorthernSRR4454026.html \n",
      "fastp v0.19.5, time used: 1139 seconds\n",
      "CPU times: user 8.67 s, sys: 2.4 s, total: 11.1 s\n",
      "Wall time: 18min 59s\n"
     ]
    }
   ],
   "source": [
    "%time !fastp -i /moto/eaton/projects/macaques/mulattanorthern/mulattanorthernSRR4454026_1.fastq.gz -I /moto/eaton/projects/macaques/mulattanorthern/mulattanorthernSRR4454026_2.fastq.gz -o /moto/eaton/projects/macaques/mulattanorthern/TRIM/mulattanorthernSRR4454026_1.fastq.gz -O /moto/eaton/projects/macaques/mulattanorthern/TRIM/mulattanorthernSRR4454026_2.fastq.gz --json /moto/eaton/projects/macaques/mulattanorthern/TRIM/mulattanorthernSRR4454026.json --html /moto/eaton/projects/macaques/mulattanorthern/TRIM/mulattanorthernSRR4454026.html"
   ]
  },
  {
   "cell_type": "code",
   "execution_count": null,
   "metadata": {},
   "outputs": [],
   "source": [
    "##Summary of filtering/trimming can be viewed using the below\n",
    "from IPython.display import HTML\n",
    "HTML(filename='/moto/eaton/projects/macaques/mulattanorthern/TRIM/mulattanorthernSRR4454026.html')"
   ]
  },
  {
   "cell_type": "markdown",
   "metadata": {},
   "source": [
    "1) Filtering/trimming _M. sylvanus_ using default arguments:"
   ]
  },
  {
   "cell_type": "code",
   "execution_count": null,
   "metadata": {},
   "outputs": [],
   "source": [
    "!mkdir /moto/eaton/projects/macaques/sylvanus/TRIM"
   ]
  },
  {
   "cell_type": "code",
   "execution_count": 4,
   "metadata": {},
   "outputs": [
    {
     "name": "stdout",
     "output_type": "stream",
     "text": [
      "Read1 before filtering:\n",
      "total reads: 75034992\n",
      "total bases: 11330283792\n",
      "Q20 bases: 11084336409(97.8293%)\n",
      "Q30 bases: 10780336082(95.1462%)\n",
      "\n",
      "Read1 after filtering:\n",
      "total reads: 72409891\n",
      "total bases: 10893995688\n",
      "Q20 bases: 10724416282(98.4434%)\n",
      "Q30 bases: 10470473495(96.1123%)\n",
      "\n",
      "Read2 before filtering:\n",
      "total reads: 75034992\n",
      "total bases: 11330283792\n",
      "Q20 bases: 10679677638(94.2578%)\n",
      "Q30 bases: 10043134790(88.6397%)\n",
      "\n",
      "Read2 aftering filtering:\n",
      "total reads: 72409891\n",
      "total bases: 10893995688\n",
      "Q20 bases: 10446605187(95.8932%)\n",
      "Q30 bases: 9884169303(90.7304%)\n",
      "\n",
      "Filtering result:\n",
      "reads passed filter: 144819782\n",
      "reads failed due to low quality: 5213006\n",
      "reads failed due to too many N: 37196\n",
      "reads failed due to too short: 0\n",
      "reads with adapter trimmed: 1298166\n",
      "bases trimmed due to adapters: 79826974\n",
      "\n",
      "Duplication rate: 4.3618%\n",
      "\n",
      "Insert size peak (evaluated by paired-end reads): 271\n",
      "\n",
      "JSON report: sylvanus_TCCGGAGA_HV5HTCCXX_L001_001\n",
      "HTML report: sylvanus_TCCGGAGA_HV5HTCCXX_L001_001\n",
      "\n",
      "fastp -i /moto/eaton/projects/macaques/sylvanus/sylvanus_TCCGGAGA_HV5HTCCXX_L001_001.R1.fastq.gz -I /moto/eaton/projects/macaques/sylvanus/sylvanus_TCCGGAGA_HV5HTCCXX_L001_001.R2.fastq.gz -o /moto/eaton/projects/macaques/sylvanus/TRIM/sylvanus_TCCGGAGA_HV5HTCCXX_L001_001.R1.fastq.gz -O /moto/eaton/projects/macaques/sylvanus/TRIM/sylvanus_TCCGGAGA_HV5HTCCXX_L001_001.R2.fastq.gz --json sylvanus_TCCGGAGA_HV5HTCCXX_L001_001 --html sylvanus_TCCGGAGA_HV5HTCCXX_L001_001 \n",
      "fastp v0.19.5, time used: 651 seconds\n",
      "CPU times: user 5.75 s, sys: 1.36 s, total: 7.11 s\n",
      "Wall time: 10min 51s\n"
     ]
    }
   ],
   "source": [
    "%time !fastp -i /moto/eaton/projects/macaques/sylvanus/sylvanus_TCCGGAGA_HV5HTCCXX_L001_001.R1.fastq.gz -I /moto/eaton/projects/macaques/sylvanus/sylvanus_TCCGGAGA_HV5HTCCXX_L001_001.R2.fastq.gz -o /moto/eaton/projects/macaques/sylvanus/TRIM/sylvanus_TCCGGAGA_HV5HTCCXX_L001_001.R1.fastq.gz -O /moto/eaton/projects/macaques/sylvanus/TRIM/sylvanus_TCCGGAGA_HV5HTCCXX_L001_001.R2.fastq.gz --json sylvanus_TCCGGAGA_HV5HTCCXX_L001_001 --html sylvanus_TCCGGAGA_HV5HTCCXX_L001_001"
   ]
  },
  {
   "cell_type": "code",
   "execution_count": 5,
   "metadata": {},
   "outputs": [
    {
     "name": "stdout",
     "output_type": "stream",
     "text": [
      "Read1 before filtering:\n",
      "total reads: 76328130\n",
      "total bases: 11525547630\n",
      "Q20 bases: 11283009236(97.8956%)\n",
      "Q30 bases: 10982186920(95.2856%)\n",
      "\n",
      "Read1 after filtering:\n",
      "total reads: 73775367\n",
      "total bases: 11098798733\n",
      "Q20 bases: 10930383307(98.4826%)\n",
      "Q30 bases: 10677781022(96.2066%)\n",
      "\n",
      "Read2 before filtering:\n",
      "total reads: 76328130\n",
      "total bases: 11525547630\n",
      "Q20 bases: 10893165820(94.5132%)\n",
      "Q30 bases: 10269716842(89.1039%)\n",
      "\n",
      "Read2 aftering filtering:\n",
      "total reads: 73775367\n",
      "total bases: 11098798733\n",
      "Q20 bases: 10663713018(96.0799%)\n",
      "Q30 bases: 10111658343(91.1059%)\n",
      "\n",
      "Filtering result:\n",
      "reads passed filter: 147550734\n",
      "reads failed due to low quality: 5023590\n",
      "reads failed due to too many N: 81936\n",
      "reads failed due to too short: 0\n",
      "reads with adapter trimmed: 1344036\n",
      "bases trimmed due to adapters: 82596374\n",
      "\n",
      "Duplication rate: 4.28866%\n",
      "\n",
      "Insert size peak (evaluated by paired-end reads): 271\n",
      "\n",
      "JSON report: sylvanus_TCCGGAGA_HV5HTCCXX_L002_001\n",
      "HTML report: sylvanus_TCCGGAGA_HV5HTCCXX_L002_001\n",
      "\n",
      "fastp -i /moto/eaton/projects/macaques/sylvanus/sylvanus_TCCGGAGA_HV5HTCCXX_L002_001.R1.fastq.gz -I /moto/eaton/projects/macaques/sylvanus/sylvanus_TCCGGAGA_HV5HTCCXX_L002_001.R2.fastq.gz -o /moto/eaton/projects/macaques/sylvanus/TRIM/sylvanus_TCCGGAGA_HV5HTCCXX_L002_001.R1.fastq.gz -O /moto/eaton/projects/macaques/sylvanus/TRIM/sylvanus_TCCGGAGA_HV5HTCCXX_L002_001.R2.fastq.gz --json sylvanus_TCCGGAGA_HV5HTCCXX_L002_001 --html sylvanus_TCCGGAGA_HV5HTCCXX_L002_001 \n",
      "fastp v0.19.5, time used: 697 seconds\n",
      "CPU times: user 6.22 s, sys: 1.54 s, total: 7.76 s\n",
      "Wall time: 11min 36s\n"
     ]
    }
   ],
   "source": [
    "%time !fastp -i /moto/eaton/projects/macaques/sylvanus/sylvanus_TCCGGAGA_HV5HTCCXX_L002_001.R1.fastq.gz -I /moto/eaton/projects/macaques/sylvanus/sylvanus_TCCGGAGA_HV5HTCCXX_L002_001.R2.fastq.gz -o /moto/eaton/projects/macaques/sylvanus/TRIM/sylvanus_TCCGGAGA_HV5HTCCXX_L002_001.R1.fastq.gz -O /moto/eaton/projects/macaques/sylvanus/TRIM/sylvanus_TCCGGAGA_HV5HTCCXX_L002_001.R2.fastq.gz --json sylvanus_TCCGGAGA_HV5HTCCXX_L002_001 --html sylvanus_TCCGGAGA_HV5HTCCXX_L002_001"
   ]
  },
  {
   "cell_type": "code",
   "execution_count": 6,
   "metadata": {},
   "outputs": [
    {
     "name": "stdout",
     "output_type": "stream",
     "text": [
      "Read1 before filtering:\n",
      "total reads: 76054825\n",
      "total bases: 11484278575\n",
      "Q20 bases: 11234645876(97.8263%)\n",
      "Q30 bases: 10927817566(95.1546%)\n",
      "\n",
      "Read1 after filtering:\n",
      "total reads: 73566923\n",
      "total bases: 11068427276\n",
      "Q20 bases: 10892017560(98.4062%)\n",
      "Q30 bases: 10632734597(96.0636%)\n",
      "\n",
      "Read2 before filtering:\n",
      "total reads: 76054825\n",
      "total bases: 11484278575\n",
      "Q20 bases: 10863271103(94.5925%)\n",
      "Q30 bases: 10246093470(89.2184%)\n",
      "\n",
      "Read2 aftering filtering:\n",
      "total reads: 73566923\n",
      "total bases: 11068427276\n",
      "Q20 bases: 10639118030(96.1213%)\n",
      "Q30 bases: 10091423163(91.1731%)\n",
      "\n",
      "Filtering result:\n",
      "reads passed filter: 147133846\n",
      "reads failed due to low quality: 4890808\n",
      "reads failed due to too many N: 84996\n",
      "reads failed due to too short: 0\n",
      "reads with adapter trimmed: 1302536\n",
      "bases trimmed due to adapters: 80386004\n",
      "\n",
      "Duplication rate: 4.73104%\n",
      "\n",
      "Insert size peak (evaluated by paired-end reads): 271\n",
      "\n",
      "JSON report: sylvanus_TCCGGAGA_HV5HTCCXX_L003_001\n",
      "HTML report: sylvanus_TCCGGAGA_HV5HTCCXX_L003_001\n",
      "\n",
      "fastp -i /moto/eaton/projects/macaques/sylvanus/sylvanus_TCCGGAGA_HV5HTCCXX_L003_001.R1.fastq.gz -I /moto/eaton/projects/macaques/sylvanus/sylvanus_TCCGGAGA_HV5HTCCXX_L003_001.R2.fastq.gz -o /moto/eaton/projects/macaques/sylvanus/TRIM/sylvanus_TCCGGAGA_HV5HTCCXX_L003_001.R1.fastq.gz -O /moto/eaton/projects/macaques/sylvanus/TRIM/sylvanus_TCCGGAGA_HV5HTCCXX_L003_001.R2.fastq.gz --json sylvanus_TCCGGAGA_HV5HTCCXX_L003_001 --html sylvanus_TCCGGAGA_HV5HTCCXX_L003_001 \n",
      "fastp v0.19.5, time used: 651 seconds\n",
      "CPU times: user 5.85 s, sys: 1.43 s, total: 7.28 s\n",
      "Wall time: 10min 51s\n"
     ]
    }
   ],
   "source": [
    "%time !fastp -i /moto/eaton/projects/macaques/sylvanus/sylvanus_TCCGGAGA_HV5HTCCXX_L003_001.R1.fastq.gz -I /moto/eaton/projects/macaques/sylvanus/sylvanus_TCCGGAGA_HV5HTCCXX_L003_001.R2.fastq.gz -o /moto/eaton/projects/macaques/sylvanus/TRIM/sylvanus_TCCGGAGA_HV5HTCCXX_L003_001.R1.fastq.gz -O /moto/eaton/projects/macaques/sylvanus/TRIM/sylvanus_TCCGGAGA_HV5HTCCXX_L003_001.R2.fastq.gz --json sylvanus_TCCGGAGA_HV5HTCCXX_L003_001 --html sylvanus_TCCGGAGA_HV5HTCCXX_L003_001"
   ]
  },
  {
   "cell_type": "code",
   "execution_count": 1,
   "metadata": {},
   "outputs": [
    {
     "name": "stdout",
     "output_type": "stream",
     "text": [
      "Read1 before filtering:\n",
      "total reads: 76555071\n",
      "total bases: 11559815721\n",
      "Q20 bases: 11314639088(97.8791%)\n",
      "Q30 bases: 11012165680(95.2625%)\n",
      "\n",
      "Read1 after filtering:\n",
      "total reads: 74099519\n",
      "total bases: 11147561807\n",
      "Q20 bases: 10975746756(98.4587%)\n",
      "Q30 bases: 10720668466(96.1705%)\n",
      "\n",
      "Read2 before filtering:\n",
      "total reads: 76555071\n",
      "total bases: 11559815721\n",
      "Q20 bases: 10952627116(94.7474%)\n",
      "Q30 bases: 10347287482(89.5108%)\n",
      "\n",
      "Read2 aftering filtering:\n",
      "total reads: 74099519\n",
      "total bases: 11147561807\n",
      "Q20 bases: 10730975184(96.263%)\n",
      "Q30 bases: 10194032300(91.4463%)\n",
      "\n",
      "Filtering result:\n",
      "reads passed filter: 148199038\n",
      "reads failed due to low quality: 4863996\n",
      "reads failed due to too many N: 47108\n",
      "reads failed due to too short: 0\n",
      "reads with adapter trimmed: 1349710\n",
      "bases trimmed due to adapters: 82960102\n",
      "\n",
      "Duplication rate: 4.4395%\n",
      "\n",
      "Insert size peak (evaluated by paired-end reads): 271\n",
      "\n",
      "JSON report: sylvanus_TCCGGAGA_HV5HTCCXX_L004_001\n",
      "HTML report: sylvanus_TCCGGAGA_HV5HTCCXX_L004_001\n",
      "\n",
      "fastp -i /moto/eaton/projects/macaques/sylvanus/sylvanus_TCCGGAGA_HV5HTCCXX_L004_001.R1.fastq.gz -I /moto/eaton/projects/macaques/sylvanus/sylvanus_TCCGGAGA_HV5HTCCXX_L004_001.R2.fastq.gz -o /moto/eaton/projects/macaques/sylvanus/TRIM/sylvanus_TCCGGAGA_HV5HTCCXX_L004_001.R1.fastq.gz -O /moto/eaton/projects/macaques/sylvanus/TRIM/sylvanus_TCCGGAGA_HV5HTCCXX_L004_001.R2.fastq.gz --json sylvanus_TCCGGAGA_HV5HTCCXX_L004_001 --html sylvanus_TCCGGAGA_HV5HTCCXX_L004_001 \n",
      "fastp v0.19.5, time used: 703 seconds\n",
      "CPU times: user 6.28 s, sys: 1.58 s, total: 7.85 s\n",
      "Wall time: 11min 43s\n"
     ]
    }
   ],
   "source": [
    "%time !fastp -i /moto/eaton/projects/macaques/sylvanus/sylvanus_TCCGGAGA_HV5HTCCXX_L004_001.R1.fastq.gz -I /moto/eaton/projects/macaques/sylvanus/sylvanus_TCCGGAGA_HV5HTCCXX_L004_001.R2.fastq.gz -o /moto/eaton/projects/macaques/sylvanus/TRIM/sylvanus_TCCGGAGA_HV5HTCCXX_L004_001.R1.fastq.gz -O /moto/eaton/projects/macaques/sylvanus/TRIM/sylvanus_TCCGGAGA_HV5HTCCXX_L004_001.R2.fastq.gz --json sylvanus_TCCGGAGA_HV5HTCCXX_L004_001 --html sylvanus_TCCGGAGA_HV5HTCCXX_L004_001"
   ]
  },
  {
   "cell_type": "code",
   "execution_count": 2,
   "metadata": {},
   "outputs": [
    {
     "name": "stdout",
     "output_type": "stream",
     "text": [
      "Read1 before filtering:\n",
      "total reads: 76986668\n",
      "total bases: 11624986868\n",
      "Q20 bases: 11367501472(97.7851%)\n",
      "Q30 bases: 11050305604(95.0565%)\n",
      "\n",
      "Read1 after filtering:\n",
      "total reads: 74422570\n",
      "total bases: 11196447230\n",
      "Q20 bases: 11014222583(98.3725%)\n",
      "Q30 bases: 10746524332(95.9816%)\n",
      "\n",
      "Read2 before filtering:\n",
      "total reads: 76986668\n",
      "total bases: 11624986868\n",
      "Q20 bases: 10983140715(94.4787%)\n",
      "Q30 bases: 10344636374(88.9862%)\n",
      "\n",
      "Read2 aftering filtering:\n",
      "total reads: 74422570\n",
      "total bases: 11196447230\n",
      "Q20 bases: 10753232346(96.0415%)\n",
      "Q30 bases: 10186907522(90.9834%)\n",
      "\n",
      "Filtering result:\n",
      "reads passed filter: 148845140\n",
      "reads failed due to low quality: 5074844\n",
      "reads failed due to too many N: 53352\n",
      "reads failed due to too short: 0\n",
      "reads with adapter trimmed: 1343842\n",
      "bases trimmed due to adapters: 82750858\n",
      "\n",
      "Duplication rate: 4.19833%\n",
      "\n",
      "Insert size peak (evaluated by paired-end reads): 271\n",
      "\n",
      "JSON report: sylvanus_TCCGGAGA_HV5HTCCXX_L005_001\n",
      "HTML report: sylvanus_TCCGGAGA_HV5HTCCXX_L005_001\n",
      "\n",
      "fastp -i /moto/eaton/projects/macaques/sylvanus/sylvanus_TCCGGAGA_HV5HTCCXX_L005_001.R1.fastq.gz -I /moto/eaton/projects/macaques/sylvanus/sylvanus_TCCGGAGA_HV5HTCCXX_L005_001.R2.fastq.gz -o /moto/eaton/projects/macaques/sylvanus/TRIM/sylvanus_TCCGGAGA_HV5HTCCXX_L005_001.R1.fastq.gz -O /moto/eaton/projects/macaques/sylvanus/TRIM/sylvanus_TCCGGAGA_HV5HTCCXX_L005_001.R2.fastq.gz --json sylvanus_TCCGGAGA_HV5HTCCXX_L005_001 --html sylvanus_TCCGGAGA_HV5HTCCXX_L005_001 \n",
      "fastp v0.19.5, time used: 672 seconds\n",
      "CPU times: user 6.15 s, sys: 1.49 s, total: 7.64 s\n",
      "Wall time: 11min 11s\n"
     ]
    }
   ],
   "source": [
    "%time !fastp -i /moto/eaton/projects/macaques/sylvanus/sylvanus_TCCGGAGA_HV5HTCCXX_L005_001.R1.fastq.gz -I /moto/eaton/projects/macaques/sylvanus/sylvanus_TCCGGAGA_HV5HTCCXX_L005_001.R2.fastq.gz -o /moto/eaton/projects/macaques/sylvanus/TRIM/sylvanus_TCCGGAGA_HV5HTCCXX_L005_001.R1.fastq.gz -O /moto/eaton/projects/macaques/sylvanus/TRIM/sylvanus_TCCGGAGA_HV5HTCCXX_L005_001.R2.fastq.gz --json sylvanus_TCCGGAGA_HV5HTCCXX_L005_001 --html sylvanus_TCCGGAGA_HV5HTCCXX_L005_001"
   ]
  },
  {
   "cell_type": "code",
   "execution_count": 3,
   "metadata": {},
   "outputs": [
    {
     "name": "stdout",
     "output_type": "stream",
     "text": [
      "Read1 before filtering:\n",
      "total reads: 77154518\n",
      "total bases: 11650332218\n",
      "Q20 bases: 11394858051(97.8072%)\n",
      "Q30 bases: 11086774278(95.1627%)\n",
      "\n",
      "Read1 after filtering:\n",
      "total reads: 74578433\n",
      "total bases: 11219805123\n",
      "Q20 bases: 11041448493(98.4103%)\n",
      "Q30 bases: 10782380753(96.1013%)\n",
      "\n",
      "Read2 before filtering:\n",
      "total reads: 77154518\n",
      "total bases: 11650332218\n",
      "Q20 bases: 11018375551(94.5756%)\n",
      "Q30 bases: 10391750357(89.197%)\n",
      "\n",
      "Read2 aftering filtering:\n",
      "total reads: 74578433\n",
      "total bases: 11219805123\n",
      "Q20 bases: 10786511287(96.1381%)\n",
      "Q30 bases: 10231981321(91.1957%)\n",
      "\n",
      "Filtering result:\n",
      "reads passed filter: 149156866\n",
      "reads failed due to low quality: 5106196\n",
      "reads failed due to too many N: 45974\n",
      "reads failed due to too short: 0\n",
      "reads with adapter trimmed: 1349042\n",
      "bases trimmed due to adapters: 83102050\n",
      "\n",
      "Duplication rate: 4.55071%\n",
      "\n",
      "Insert size peak (evaluated by paired-end reads): 271\n",
      "\n",
      "JSON report: sylvanus_TCCGGAGA_HV5HTCCXX_L006_001\n",
      "HTML report: sylvanus_TCCGGAGA_HV5HTCCXX_L006_001\n",
      "\n",
      "fastp -i /moto/eaton/projects/macaques/sylvanus/sylvanus_TCCGGAGA_HV5HTCCXX_L006_001.R1.fastq.gz -I /moto/eaton/projects/macaques/sylvanus/sylvanus_TCCGGAGA_HV5HTCCXX_L006_001.R2.fastq.gz -o /moto/eaton/projects/macaques/sylvanus/TRIM/sylvanus_TCCGGAGA_HV5HTCCXX_L006_001.R1.fastq.gz -O /moto/eaton/projects/macaques/sylvanus/TRIM/sylvanus_TCCGGAGA_HV5HTCCXX_L006_001.R2.fastq.gz --json sylvanus_TCCGGAGA_HV5HTCCXX_L006_001 --html sylvanus_TCCGGAGA_HV5HTCCXX_L006_001 \n",
      "fastp v0.19.5, time used: 686 seconds\n",
      "CPU times: user 6.34 s, sys: 1.45 s, total: 7.78 s\n",
      "Wall time: 11min 25s\n"
     ]
    }
   ],
   "source": [
    "%time !fastp -i /moto/eaton/projects/macaques/sylvanus/sylvanus_TCCGGAGA_HV5HTCCXX_L006_001.R1.fastq.gz -I /moto/eaton/projects/macaques/sylvanus/sylvanus_TCCGGAGA_HV5HTCCXX_L006_001.R2.fastq.gz -o /moto/eaton/projects/macaques/sylvanus/TRIM/sylvanus_TCCGGAGA_HV5HTCCXX_L006_001.R1.fastq.gz -O /moto/eaton/projects/macaques/sylvanus/TRIM/sylvanus_TCCGGAGA_HV5HTCCXX_L006_001.R2.fastq.gz --json sylvanus_TCCGGAGA_HV5HTCCXX_L006_001 --html sylvanus_TCCGGAGA_HV5HTCCXX_L006_001"
   ]
  },
  {
   "cell_type": "code",
   "execution_count": 5,
   "metadata": {},
   "outputs": [
    {
     "data": {
      "text/plain": [
       "True"
      ]
     },
     "execution_count": 5,
     "metadata": {},
     "output_type": "execute_result"
    }
   ],
   "source": [
    "import webbrowser\n",
    "webbrowser.open(\"sylvanus_TCCGGAGA_HV5HTCCXX_L004_001.html\") ##view results of fastp "
   ]
  },
  {
   "cell_type": "markdown",
   "metadata": {},
   "source": [
    "Filtering _M. silenus_ using default arguments:"
   ]
  },
  {
   "cell_type": "code",
   "execution_count": null,
   "metadata": {},
   "outputs": [],
   "source": []
  },
  {
   "cell_type": "markdown",
   "metadata": {},
   "source": [
    "3) Filtering _M. sylvanus_ using default arguments:"
   ]
  }
 ],
 "metadata": {
  "kernelspec": {
   "display_name": "Python 3",
   "language": "python",
   "name": "python3"
  },
  "language_info": {
   "codemirror_mode": {
    "name": "ipython",
    "version": 3
   },
   "file_extension": ".py",
   "mimetype": "text/x-python",
   "name": "python",
   "nbconvert_exporter": "python",
   "pygments_lexer": "ipython3",
   "version": "3.6.7"
  }
 },
 "nbformat": 4,
 "nbformat_minor": 2
}

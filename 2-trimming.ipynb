{
 "cells": [
  {
   "cell_type": "markdown",
   "metadata": {},
   "source": [
    "## 2. Trimming fastqs"
   ]
  },
  {
   "cell_type": "markdown",
   "metadata": {},
   "source": [
    "fastp is a brand new fastq preprocessor that is \"2~5 times faster than other FASTQ preprocessing tools like Trimmomatic or Cutadapt\". Automatically finds and trims adapters and quality filters. See [publication](https://academic.oup.com/bioinformatics/article/34/17/i884/5093234) and [documentation](https://github.com/OpenGene/fastp) for more info. "
   ]
  },
  {
   "cell_type": "code",
   "execution_count": 9,
   "metadata": {},
   "outputs": [],
   "source": [
    "##conda install -c bioconda fastp"
   ]
  },
  {
   "cell_type": "markdown",
   "metadata": {},
   "source": [
    "1) Filtering northern _M. mulatta_ using default arguments:"
   ]
  },
  {
   "cell_type": "code",
   "execution_count": 1,
   "metadata": {},
   "outputs": [],
   "source": [
    "!mkdir /moto/eaton/projects/macaques/TRIM"
   ]
  },
  {
   "cell_type": "code",
   "execution_count": 1,
   "metadata": {
    "scrolled": true
   },
   "outputs": [
    {
     "name": "stdout",
     "output_type": "stream",
     "text": [
      "Read1 before filtering:\n",
      "total reads: 169608187\n",
      "total bases: 16960818700\n",
      "Q20 bases: 16510152516(97.3429%)\n",
      "Q30 bases: 15671120053(92.396%)\n",
      "\n",
      "Read1 after filtering:\n",
      "total reads: 164771043\n",
      "total bases: 16462286295\n",
      "Q20 bases: 16123333399(97.941%)\n",
      "Q30 bases: 15357210466(93.2872%)\n",
      "\n",
      "Read2 before filtering:\n",
      "total reads: 169608187\n",
      "total bases: 16960818700\n",
      "Q20 bases: 16133253852(95.1207%)\n",
      "Q30 bases: 15000103317(88.4397%)\n",
      "\n",
      "Read2 aftering filtering:\n",
      "total reads: 164771043\n",
      "total bases: 16462286295\n",
      "Q20 bases: 15856822396(96.3221%)\n",
      "Q30 bases: 14791855948(89.853%)\n",
      "\n",
      "Filtering result:\n",
      "reads passed filter: 329542086\n",
      "reads failed due to low quality: 9644506\n",
      "reads failed due to too many N: 29782\n",
      "reads failed due to too short: 0\n",
      "reads with adapter trimmed: 613086\n",
      "bases trimmed due to adapters: 29644578\n",
      "\n",
      "Duplication rate: 1.01364%\n",
      "\n",
      "Insert size peak (evaluated by paired-end reads): 169\n",
      "\n",
      "JSON report: /moto/eaton/projects/macaques/TRIM/mulattanorthernSRR4454026.json\n",
      "HTML report: /moto/eaton/projects/macaques/TRIM/mulattanorthernSRR4454026.html\n",
      "\n",
      "fastp -i /moto/eaton/projects/macaques/mulattanorthern/mulattanorthernSRR4454026_1.fastq.gz -I /moto/eaton/projects/macaques/mulattanorthern/mulattanorthernSRR4454026_2.fastq.gz -o /moto/eaton/projects/macaques/TRIM/mulattanorthernSRR4454026_1.fastq.gz -O /moto/eaton/projects/macaques/TRIM/mulattanorthernSRR4454026_2.fastq.gz --json /moto/eaton/projects/macaques/TRIM/mulattanorthernSRR4454026.json --html /moto/eaton/projects/macaques/TRIM/mulattanorthernSRR4454026.html \n",
      "fastp v0.19.5, time used: 1136 seconds\n",
      "CPU times: user 9.11 s, sys: 2.36 s, total: 11.5 s\n",
      "Wall time: 18min 56s\n"
     ]
    }
   ],
   "source": [
    "%time !fastp -i /moto/eaton/projects/macaques/mulattanorthern/mulattanorthernSRR4454026_1.fastq.gz \\\n",
    "    -I /moto/eaton/projects/macaques/mulattanorthern/mulattanorthernSRR4454026_2.fastq.gz \\\n",
    "    -o /moto/eaton/projects/macaques/TRIM/mulattanorthernSRR4454026_1.fastq.gz \\\n",
    "    -O /moto/eaton/projects/macaques/TRIM/mulattanorthernSRR4454026_2.fastq.gz \\\n",
    "    --json /moto/eaton/projects/macaques/TRIM/mulattanorthernSRR4454026.json \\\n",
    "    --html /moto/eaton/projects/macaques/TRIM/mulattanorthernSRR4454026.html"
   ]
  },
  {
   "cell_type": "code",
   "execution_count": null,
   "metadata": {},
   "outputs": [],
   "source": [
    "##Summary of filtering/trimming can be viewed using the below\n",
    "from IPython.display import HTML\n",
    "HTML(filename='/moto/eaton/projects/macaques/mulattanorthern/TRIM/mulattanorthernSRR4454026.html')"
   ]
  },
  {
   "cell_type": "markdown",
   "metadata": {},
   "source": [
    "2) Filtering southern, low altitude _M. mulatta_ using default arguments:"
   ]
  },
  {
   "cell_type": "code",
   "execution_count": 2,
   "metadata": {},
   "outputs": [
    {
     "name": "stdout",
     "output_type": "stream",
     "text": [
      "Read1 before filtering:\n",
      "total reads: 123339229\n",
      "total bases: 15417403625\n",
      "Q20 bases: 14194320824(92.0669%)\n",
      "Q30 bases: 13191213491(85.5605%)\n",
      "\n",
      "Read1 after filtering:\n",
      "total reads: 117183827\n",
      "total bases: 14646355488\n",
      "Q20 bases: 13673353412(93.3567%)\n",
      "Q30 bases: 12785895789(87.2975%)\n",
      "\n",
      "Read2 before filtering:\n",
      "total reads: 123339229\n",
      "total bases: 15417403625\n",
      "Q20 bases: 14170213589(91.9105%)\n",
      "Q30 bases: 13212577747(85.6991%)\n",
      "\n",
      "Read2 aftering filtering:\n",
      "total reads: 117183827\n",
      "total bases: 14646355488\n",
      "Q20 bases: 13717243186(93.6564%)\n",
      "Q30 bases: 12885189275(87.9754%)\n",
      "\n",
      "Filtering result:\n",
      "reads passed filter: 234367654\n",
      "reads failed due to low quality: 12310804\n",
      "reads failed due to too many N: 0\n",
      "reads failed due to too short: 0\n",
      "reads with adapter trimmed: 70016\n",
      "bases trimmed due to adapters: 3260288\n",
      "\n",
      "Duplication rate: 3.44457%\n",
      "\n",
      "Insert size peak (evaluated by paired-end reads): 219\n",
      "\n",
      "JSON report: /moto/eaton/projects/macaques/TRIM/mulattasouthernlowSRR4454020.json\n",
      "HTML report: /moto/eaton/projects/macaques/TRIM/mulattasouthernlowSRR4454020.html\n",
      "\n",
      "fastp -i /moto/eaton/projects/macaques/mulattasouthernlow/mulattasouthernlowSRR4454020_1.fastq.gz -I /moto/eaton/projects/macaques/mulattasouthernlow/mulattasouthernlowSRR4454020_2.fastq.gz -o /moto/eaton/projects/macaques/TRIM/mulattasouthernlowSRR4454020_1.fastq.gz -O /moto/eaton/projects/macaques/TRIM/mulattasouthernlowSRR4454020_2.fastq.gz --json /moto/eaton/projects/macaques/TRIM/mulattasouthernlowSRR4454020.json --html /moto/eaton/projects/macaques/TRIM/mulattasouthernlowSRR4454020.html \n",
      "fastp v0.19.5, time used: 1045 seconds\n",
      "CPU times: user 9.37 s, sys: 2.14 s, total: 11.5 s\n",
      "Wall time: 17min 25s\n"
     ]
    }
   ],
   "source": [
    "%time !fastp -i /moto/eaton/projects/macaques/mulattasouthernlow/mulattasouthernlowSRR4454020_1.fastq.gz \\\n",
    "    -I /moto/eaton/projects/macaques/mulattasouthernlow/mulattasouthernlowSRR4454020_2.fastq.gz \\\n",
    "    -o /moto/eaton/projects/macaques/TRIM/mulattasouthernlowSRR4454020_1.fastq.gz \\\n",
    "    -O /moto/eaton/projects/macaques/TRIM/mulattasouthernlowSRR4454020_2.fastq.gz \\\n",
    "    --json /moto/eaton/projects/macaques/TRIM/mulattasouthernlowSRR4454020.json \\\n",
    "    --html /moto/eaton/projects/macaques/TRIM/mulattasouthernlowSRR4454020.html"
   ]
  },
  {
   "cell_type": "code",
   "execution_count": null,
   "metadata": {},
   "outputs": [],
   "source": [
    "##Summary of filtering/trimming can be viewed using the below\n",
    "from IPython.display import HTML\n",
    "HTML(filename='/moto/eaton/projects/macaques/mulattanorthern/TRIM/mulattasouthernlowSRR4454026.html')"
   ]
  },
  {
   "cell_type": "markdown",
   "metadata": {},
   "source": [
    "3) Filtering southern, high altitude _M. mulatta_ using default arguments:"
   ]
  },
  {
   "cell_type": "code",
   "execution_count": 3,
   "metadata": {},
   "outputs": [
    {
     "name": "stdout",
     "output_type": "stream",
     "text": [
      "Read1 before filtering:\n",
      "total reads: 138547703\n",
      "total bases: 17318462875\n",
      "Q20 bases: 16246627213(93.811%)\n",
      "Q30 bases: 15312217218(88.4156%)\n",
      "\n",
      "Read1 after filtering:\n",
      "total reads: 131930679\n",
      "total bases: 16477212308\n",
      "Q20 bases: 15642961948(94.9369%)\n",
      "Q30 bases: 14832342525(90.0173%)\n",
      "\n",
      "Read2 before filtering:\n",
      "total reads: 138547703\n",
      "total bases: 17318462875\n",
      "Q20 bases: 15853475355(91.5409%)\n",
      "Q30 bases: 14737142591(85.095%)\n",
      "\n",
      "Read2 aftering filtering:\n",
      "total reads: 131930679\n",
      "total bases: 16477212308\n",
      "Q20 bases: 15381862614(93.3523%)\n",
      "Q30 bases: 14402354696(87.4077%)\n",
      "\n",
      "Filtering result:\n",
      "reads passed filter: 263861358\n",
      "reads failed due to low quality: 13234048\n",
      "reads failed due to too many N: 0\n",
      "reads failed due to too short: 0\n",
      "reads with adapter trimmed: 819324\n",
      "bases trimmed due to adapters: 28326470\n",
      "\n",
      "Duplication rate: 2.516%\n",
      "\n",
      "Insert size peak (evaluated by paired-end reads): 168\n",
      "\n",
      "JSON report: /moto/eaton/projects/macaques/TRIM/mulattasouthernhighSRR4453966.json\n",
      "HTML report: /moto/eaton/projects/macaques/TRIM/mulattasouthernhighSRR4453966.html\n",
      "\n",
      "fastp -i /moto/eaton/projects/macaques/mulattasouthernhigh/mulattasouthernhighSRR4453966_1.fastq.gz -I /moto/eaton/projects/macaques/mulattasouthernhigh/mulattasouthernhighSRR4453966_2.fastq.gz -o /moto/eaton/projects/macaques/TRIM/mulattasouthernhighSRR4453966_1.fastq.gz -O /moto/eaton/projects/macaques/TRIM/mulattasouthernhighSRR4453966_2.fastq.gz --json /moto/eaton/projects/macaques/TRIM/mulattasouthernhighSRR4453966.json --html /moto/eaton/projects/macaques/TRIM/mulattasouthernhighSRR4453966.html \n",
      "fastp v0.19.5, time used: 1227 seconds\n",
      "CPU times: user 11.2 s, sys: 2.62 s, total: 13.8 s\n",
      "Wall time: 20min 27s\n"
     ]
    }
   ],
   "source": [
    "%time !fastp -i /moto/eaton/projects/macaques/mulattasouthernhigh/mulattasouthernhighSRR4453966_1.fastq.gz \\\n",
    "    -I /moto/eaton/projects/macaques/mulattasouthernhigh/mulattasouthernhighSRR4453966_2.fastq.gz \\\n",
    "    -o /moto/eaton/projects/macaques/TRIM/mulattasouthernhighSRR4453966_1.fastq.gz \\\n",
    "    -O /moto/eaton/projects/macaques/TRIM/mulattasouthernhighSRR4453966_2.fastq.gz \\\n",
    "    --json /moto/eaton/projects/macaques/TRIM/mulattasouthernhighSRR4453966.json \\\n",
    "    --html /moto/eaton/projects/macaques/TRIM/mulattasouthernhighSRR4453966.html"
   ]
  },
  {
   "cell_type": "code",
   "execution_count": null,
   "metadata": {},
   "outputs": [],
   "source": [
    "##Summary of filtering/trimming can be viewed using the below\n",
    "from IPython.display import HTML\n",
    "HTML(filename='/moto/eaton/projects/macaques/mulattanorthern/TRIM/mulattanorthernSRR4454026.html')"
   ]
  },
  {
   "cell_type": "code",
   "execution_count": null,
   "metadata": {},
   "outputs": [],
   "source": []
  },
  {
   "cell_type": "code",
   "execution_count": null,
   "metadata": {},
   "outputs": [],
   "source": []
  },
  {
   "cell_type": "code",
   "execution_count": null,
   "metadata": {},
   "outputs": [],
   "source": []
  },
  {
   "cell_type": "code",
   "execution_count": null,
   "metadata": {},
   "outputs": [],
   "source": []
  },
  {
   "cell_type": "code",
   "execution_count": null,
   "metadata": {},
   "outputs": [],
   "source": []
  },
  {
   "cell_type": "code",
   "execution_count": null,
   "metadata": {},
   "outputs": [],
   "source": []
  },
  {
   "cell_type": "code",
   "execution_count": null,
   "metadata": {},
   "outputs": [],
   "source": []
  },
  {
   "cell_type": "code",
   "execution_count": null,
   "metadata": {},
   "outputs": [],
   "source": []
  },
  {
   "cell_type": "code",
   "execution_count": null,
   "metadata": {},
   "outputs": [],
   "source": []
  },
  {
   "cell_type": "code",
   "execution_count": null,
   "metadata": {},
   "outputs": [],
   "source": []
  },
  {
   "cell_type": "code",
   "execution_count": null,
   "metadata": {},
   "outputs": [],
   "source": []
  },
  {
   "cell_type": "markdown",
   "metadata": {},
   "source": [
    "4) Filtering Indian _M. mulatta_ using default arguments:"
   ]
  },
  {
   "cell_type": "code",
   "execution_count": null,
   "metadata": {},
   "outputs": [],
   "source": [
    "%time !fastp -i /moto/eaton/projects/macaques/mulattasouthernlow/mulattasouthernlowSRR4454020_1.fastq.gz \\\n",
    "    -I /moto/eaton/projects/macaques/mulattasouthernlow/mulattasouthernlowSRR4454020_2.fastq.gz \\\n",
    "    -o /moto/eaton/projects/macaques/TRIM/mulattasouthernlowSRR4454020_1.fastq.gz \\\n",
    "    -O /moto/eaton/projects/macaques/TRIM/mulattasouthernlowSRR4454020_2.fastq.gz \\\n",
    "    --json /moto/eaton/projects/macaques/TRIM/mulattasouthernlowSRR4454020.json \\\n",
    "    --html /moto/eaton/projects/macaques/TRIM/mulattasouthernlowSRR4454020.html"
   ]
  },
  {
   "cell_type": "code",
   "execution_count": null,
   "metadata": {},
   "outputs": [],
   "source": [
    "##Summary of filtering/trimming can be viewed using the below\n",
    "from IPython.display import HTML\n",
    "HTML(filename='/moto/eaton/projects/macaques/mulattanorthern/TRIM/mulattanorthernSRR4454026.html')"
   ]
  },
  {
   "cell_type": "code",
   "execution_count": null,
   "metadata": {},
   "outputs": [],
   "source": []
  },
  {
   "cell_type": "code",
   "execution_count": null,
   "metadata": {},
   "outputs": [],
   "source": []
  },
  {
   "cell_type": "code",
   "execution_count": null,
   "metadata": {},
   "outputs": [],
   "source": []
  },
  {
   "cell_type": "code",
   "execution_count": null,
   "metadata": {},
   "outputs": [],
   "source": []
  },
  {
   "cell_type": "code",
   "execution_count": null,
   "metadata": {},
   "outputs": [],
   "source": []
  },
  {
   "cell_type": "code",
   "execution_count": null,
   "metadata": {},
   "outputs": [],
   "source": []
  },
  {
   "cell_type": "code",
   "execution_count": null,
   "metadata": {},
   "outputs": [],
   "source": []
  },
  {
   "cell_type": "code",
   "execution_count": null,
   "metadata": {},
   "outputs": [],
   "source": []
  },
  {
   "cell_type": "code",
   "execution_count": null,
   "metadata": {},
   "outputs": [],
   "source": []
  },
  {
   "cell_type": "code",
   "execution_count": null,
   "metadata": {},
   "outputs": [],
   "source": []
  },
  {
   "cell_type": "markdown",
   "metadata": {},
   "source": [
    "1) Filtering/trimming _M. sylvanus_ using default arguments:"
   ]
  },
  {
   "cell_type": "code",
   "execution_count": 6,
   "metadata": {},
   "outputs": [
    {
     "name": "stdout",
     "output_type": "stream",
     "text": [
      "^C\n",
      "CPU times: user 62.1 ms, sys: 15.5 ms, total: 77.6 ms\n",
      "Wall time: 4.25 s\n"
     ]
    }
   ],
   "source": [
    "%time !fastp -i /moto/eaton/projects/macaques/sylvanus/sylvanus_TCCGGAGA_HV5HTCCXX.R1.fastq.gz \\\n",
    "    -I /moto/eaton/projects/macaques/sylvanus/sylvanus_TCCGGAGA_HV5HTCCXX.R2.fastq.gz \\\n",
    "    -o /moto/eaton/projects/macaques/TRIM/sylvanus_TCCGGAGA_HV5HTCCXX.R1.fastq.gz \\\n",
    "    -O /moto/eaton/projects/macaques/TRIM/sylvanus_TCCGGAGA_HV5HTCCXX.R2.fastq.gz \\\n",
    "    --json /moto/eaton/projects/macaques/TRIM/sylvanus_TCCGGAGA_HV5HTCCXX.json \\\n",
    "    --html /moto/eaton/projects/macaques/TRIM/sylvanus_TCCGGAGA_HV5HTCCXX.html"
   ]
  },
  {
   "cell_type": "code",
   "execution_count": 5,
   "metadata": {},
   "outputs": [
    {
     "data": {
      "text/plain": [
       "True"
      ]
     },
     "execution_count": 5,
     "metadata": {},
     "output_type": "execute_result"
    }
   ],
   "source": [
    "import webbrowser\n",
    "webbrowser.open(\"sylvanus_TCCGGAGA_HV5HTCCXX_L004_001.html\") ##view results of fastp "
   ]
  },
  {
   "cell_type": "markdown",
   "metadata": {},
   "source": [
    "Filtering _M. silenus_ using default arguments:"
   ]
  },
  {
   "cell_type": "code",
   "execution_count": null,
   "metadata": {},
   "outputs": [],
   "source": []
  },
  {
   "cell_type": "markdown",
   "metadata": {},
   "source": [
    "3) Filtering _M. sylvanus_ using default arguments:"
   ]
  }
 ],
 "metadata": {
  "kernelspec": {
   "display_name": "Python 3",
   "language": "python",
   "name": "python3"
  },
  "language_info": {
   "codemirror_mode": {
    "name": "ipython",
    "version": 3
   },
   "file_extension": ".py",
   "mimetype": "text/x-python",
   "name": "python",
   "nbconvert_exporter": "python",
   "pygments_lexer": "ipython3",
   "version": "3.6.6"
  }
 },
 "nbformat": 4,
 "nbformat_minor": 2
}
